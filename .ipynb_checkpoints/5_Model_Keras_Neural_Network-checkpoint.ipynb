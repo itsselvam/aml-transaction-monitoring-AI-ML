{
 "cells": [
  {
   "cell_type": "markdown",
   "metadata": {
    "id": "7JfLUlawto_D"
   },
   "source": [
    "# Keras Neural Network Model\n",
    "\n",
    "Based on open source code: https://github.com/tensorflow/docs/blob/master/site/en/tutorials/structured_data/imbalanced_data.ipynb\n",
    "\n",
    "Copyright 2019 The TensorFlow Authors"
   ]
  },
  {
   "cell_type": "markdown",
   "metadata": {
    "id": "kRHmSyHxEIhN"
   },
   "source": [
    "## Setup"
   ]
  },
  {
   "cell_type": "code",
   "execution_count": 1,
   "metadata": {
    "id": "JM7hDSNClfoK"
   },
   "outputs": [],
   "source": [
    "import tensorflow as tf\n",
    "from tensorflow import keras\n",
    "\n",
    "import os\n",
    "import tempfile\n",
    "\n",
    "import matplotlib as mpl\n",
    "import matplotlib.pyplot as plt\n",
    "import numpy as np\n",
    "import pandas as pd\n",
    "import seaborn as sns\n",
    "import networkx as nx\n",
    "\n",
    "import sklearn\n",
    "from sklearn.metrics import confusion_matrix\n",
    "from sklearn.model_selection import train_test_split\n",
    "from sklearn.preprocessing import StandardScaler\n",
    "from sklearn import preprocessing\n",
    "from sklearn.decomposition import PCA\n",
    "from sklearn.manifold import TSNE\n",
    "from sklearn.metrics import auc\n",
    "from sklearn.metrics import confusion_matrix, classification_report\n",
    "from sklearn.metrics import average_precision_score, precision_score, recall_score\n",
    "import pickle\n",
    "\n",
    "from utils import *"
   ]
  },
  {
   "cell_type": "code",
   "execution_count": 2,
   "metadata": {
    "id": "c8o1FHzD-_y_"
   },
   "outputs": [],
   "source": [
    "mpl.rcParams['figure.figsize'] = (12, 10)\n",
    "colors = plt.rcParams['axes.prop_cycle'].by_key()['color']"
   ]
  },
  {
   "cell_type": "markdown",
   "metadata": {
    "id": "Z3iZVjziKHmX"
   },
   "source": [
    "## Prepare the data"
   ]
  },
  {
   "cell_type": "markdown",
   "metadata": {
    "id": "4sA9WOcmzH2D"
   },
   "source": [
    "### Read the AML simulated transaction data"
   ]
  },
  {
   "cell_type": "code",
   "execution_count": 3,
   "metadata": {},
   "outputs": [
    {
     "name": "stdout",
     "output_type": "stream",
     "text": [
      "1000_Network_p_0.002_w_0.003.json  - max_node_id= -1\n",
      "1000_Network_p_0.002_w_0.008.json  - max_node_id= 999\n",
      "1000_Network_p_0.002_w_0.009.json  - max_node_id= 1999\n",
      "1000_Network_p_0.004_w_0.004.json  - max_node_id= 2999\n",
      "1000_Network_p_0.004_w_0.007.json  - max_node_id= 3999\n",
      "1000_Network_p_0.004_w_0.009.json  - max_node_id= 4999\n",
      "1000_Network_p_0.005_w_0.009.json  - max_node_id= 5999\n",
      "1000_Network_p_0.006_w_0.007.json  - max_node_id= 6999\n",
      "1000_Network_p_0.007_w_0.002.json  - max_node_id= 7999\n",
      "1000_Network_p_0.007_w_0.009.json  - max_node_id= 8999\n",
      "1000_Network_p_0.007_w_0.010.json  - max_node_id= 9999\n",
      "1000_Network_p_0.008_w_0.000.json  - max_node_id= 10999\n",
      "1000_Network_p_0.008_w_0.005.json  - max_node_id= 11999\n",
      "1000_Network_p_0.008_w_0.007.json  - max_node_id= 12999\n",
      "1000_Network_p_0.010_w_0.001.json  - max_node_id= 13999\n",
      "1000_Network_p_0.010_w_0.006.json  - max_node_id= 14999\n",
      "1000_Network_p_0.011_w_0.003.json  - max_node_id= 15999\n",
      "1000_Network_p_0.011_w_0.005.json  - max_node_id= 16999\n",
      "1000_Network_p_0.011_w_0.006.json  - max_node_id= 17999\n",
      "1000_Network_p_0.012_w_0.002.json  - max_node_id= 18999\n",
      "1000_Network_p_0.013_w_0.006.json  - max_node_id= 19999\n",
      "1000_Network_p_0.014_w_0.003.json  - max_node_id= 20999\n",
      "1000_Network_p_0.014_w_0.008.json  - max_node_id= 21999\n",
      "1000_Network_p_0.015_w_0.006.json  - max_node_id= 22999\n",
      "1000_Network_p_0.015_w_0.008.json  - max_node_id= 23999\n",
      "1000_Network_p_0.016_w_0.003.json  - max_node_id= 24999\n",
      "1000_Network_p_0.016_w_0.004.json  - max_node_id= 25999\n",
      "1000_Network_p_0.016_w_0.005.json  - max_node_id= 26999\n",
      "1000_Network_p_0.019_w_0.004.json  - max_node_id= 27999\n",
      "1000_Network_p_0.019_w_0.007.json  - max_node_id= 28999\n",
      "1000_Network_p_0.020_w_0.007.json  - max_node_id= 29999\n",
      "1000_Network_p_0.021_w_0.004.json  - max_node_id= 30999\n",
      "1000_Network_p_0.021_w_0.006.json  - max_node_id= 31999\n",
      "1000_Network_p_0.021_w_0.007.json  - max_node_id= 32999\n",
      "1000_Network_p_0.023_w_0.002.json  - max_node_id= 33999\n",
      "1000_Network_p_0.024_w_0.001.json  - max_node_id= 34999\n",
      "1000_Network_p_0.024_w_0.006.json  - max_node_id= 35999\n",
      "1000_Network_p_0.027_w_0.000.json  - max_node_id= 36999\n",
      "1000_Network_p_0.029_w_0.000.json  - max_node_id= 37999\n",
      "1000_Network_p_0.031_w_0.003.json  - max_node_id= 38999\n",
      "1000_Network_p_0.033_w_0.004.json  - max_node_id= 39999\n",
      "1000_Network_p_0.035_w_0.001.json  - max_node_id= 40999\n",
      "1000_Network_p_0.040_w_0.002.json  - max_node_id= 41999\n",
      "1000_Network_p_0.047_w_0.001.json  - max_node_id= 42999\n"
     ]
    }
   ],
   "source": [
    "data_path = './data_small_graph/'\n",
    "\n",
    "combined_directed_G = load_networkx_graphs(data_path)\n",
    "X, Y, _ = retrieve_node_features_and_labels_tuple(combined_directed_G)"
   ]
  },
  {
   "cell_type": "markdown",
   "metadata": {
    "id": "xWKB_CVZFLpB"
   },
   "source": [
    "### Splitting the data"
   ]
  },
  {
   "cell_type": "markdown",
   "metadata": {
    "id": "uSNgdQFFFQ6u"
   },
   "source": [
    "Split the dataset into train, validation, and test sets. The validation set is used during the model fitting to evaluate the loss and any metrics, however the model is not fit with this data. The test set is completely unused during the training phase and is only used at the end to evaluate how well the model generalizes to new data. This is especially important with imbalanced datasets where [overfitting](https://developers.google.com/machine-learning/crash-course/generalization/peril-of-overfitting) is a significant concern from the lack of training data."
   ]
  },
  {
   "cell_type": "code",
   "execution_count": 4,
   "metadata": {},
   "outputs": [],
   "source": [
    "train_df, test_df, train_labels, test_labels = train_test_split(X, Y, test_size=0.2)\n",
    "train_df, val_df, train_labels, val_labels = train_test_split(train_df, train_labels, test_size=0.2)\n",
    "\n",
    "# Form np arrays of labels and features.\n",
    "train_labels = np.array(train_labels)\n",
    "bool_train_labels = train_labels != 0\n",
    "val_labels = np.array(val_labels)\n",
    "test_labels = np.array(test_labels)\n",
    "\n",
    "train_features = np.array(train_df)\n",
    "val_features = np.array(val_df)\n",
    "test_features = np.array(test_df)"
   ]
  },
  {
   "cell_type": "code",
   "execution_count": 5,
   "metadata": {},
   "outputs": [
    {
     "name": "stdout",
     "output_type": "stream",
     "text": [
      "Training labels shape: (28160,)\n",
      "Validation labels shape: (7040,)\n",
      "Test labels shape: (8800,)\n",
      "Training features shape: (28160, 129)\n",
      "Validation features shape: (7040, 129)\n",
      "Test features shape: (8800, 129)\n"
     ]
    }
   ],
   "source": [
    "print('Training labels shape:', train_labels.shape)\n",
    "print('Validation labels shape:', val_labels.shape)\n",
    "print('Test labels shape:', test_labels.shape)\n",
    "\n",
    "print('Training features shape:', train_features.shape)\n",
    "print('Validation features shape:', val_features.shape)\n",
    "print('Test features shape:', test_features.shape)"
   ]
  },
  {
   "cell_type": "code",
   "execution_count": 6,
   "metadata": {},
   "outputs": [],
   "source": [
    "pos_df = pd.DataFrame(train_features[ bool_train_labels], columns = train_df.columns)\n",
    "neg_df = pd.DataFrame(train_features[~bool_train_labels], columns = train_df.columns)"
   ]
  },
  {
   "cell_type": "markdown",
   "metadata": {
    "id": "XF2nNfWKJ33w"
   },
   "source": [
    "Caution: If you want to deploy a model, it's critical that you preserve the preprocessing calculations. The easiest way to implement them as layers, and attach them to your model before export.\n"
   ]
  },
  {
   "cell_type": "markdown",
   "metadata": {
    "id": "qFK1u4JX16D8"
   },
   "source": [
    "## Define the model and metrics\n",
    "\n",
    "Define a function that creates a simple neural network with a densly connected hidden layer, a [dropout](https://developers.google.com/machine-learning/glossary/#dropout_regularization) layer to reduce overfitting, and an output sigmoid layer that returns the probability of a transaction being fraudulent: "
   ]
  },
  {
   "cell_type": "code",
   "execution_count": 20,
   "metadata": {
    "id": "3JQDzUqT3UYG"
   },
   "outputs": [],
   "source": [
    "METRICS = [\n",
    "      keras.metrics.TruePositives(name='tp'),\n",
    "      keras.metrics.FalsePositives(name='fp'),\n",
    "      keras.metrics.TrueNegatives(name='tn'),\n",
    "      keras.metrics.FalseNegatives(name='fn'), \n",
    "      keras.metrics.BinaryAccuracy(name='accuracy'),\n",
    "      keras.metrics.Precision(name='precision'),\n",
    "      keras.metrics.Recall(name='recall'),\n",
    "      keras.metrics.AUC(name='auc'),\n",
    "]\n",
    "\n",
    "def make_model(metrics = METRICS, output_bias=None):\n",
    "  if output_bias is not None:\n",
    "    output_bias = tf.keras.initializers.Constant(output_bias)\n",
    "    \n",
    "  model = keras.Sequential([\n",
    "      keras.layers.Dense(\n",
    "          16, activation='relu',\n",
    "          input_shape=(train_features.shape[-1],)),\n",
    "      keras.layers.Dropout(0.5),\n",
    "      keras.layers.Dense(1, activation='sigmoid',\n",
    "                         bias_initializer=output_bias),\n",
    "  ])\n",
    "\n",
    "  model.compile(\n",
    "      optimizer=keras.optimizers.Adam(lr=1e-3),\n",
    "      loss=keras.losses.BinaryCrossentropy(),\n",
    "      metrics=metrics)\n",
    "\n",
    "  return model"
   ]
  },
  {
   "cell_type": "markdown",
   "metadata": {
    "id": "FYdhSAoaF_TK"
   },
   "source": [
    "## Unweighted model (Baseline)"
   ]
  },
  {
   "cell_type": "markdown",
   "metadata": {
    "id": "IDbltVPg2m2q"
   },
   "source": [
    "### Build the model\n",
    "\n",
    "Now create and train your model using the function that was defined earlier. Notice that the model is fit using a larger than default batch size of 2048, this is important to ensure that each batch has a decent chance of containing a few positive samples. If the batch size was too small, they would likely have no fraudulent transactions to learn from.\n",
    "\n",
    "\n",
    "**_Note: this model will not handle the class imbalance well. You will improve it later in this tutorial._**"
   ]
  },
  {
   "cell_type": "code",
   "execution_count": 21,
   "metadata": {
    "id": "ouUkwPcGQsy3"
   },
   "outputs": [],
   "source": [
    "EPOCHS = 100\n",
    "BATCH_SIZE = 2048\n",
    "\n",
    "early_stopping = tf.keras.callbacks.EarlyStopping(\n",
    "    monitor='val_auc', \n",
    "    verbose=1,\n",
    "    patience=10,\n",
    "    mode='max',\n",
    "    restore_best_weights=True)"
   ]
  },
  {
   "cell_type": "markdown",
   "metadata": {
    "id": "Wx7ND3_SqckO"
   },
   "source": [
    "Test run the model:"
   ]
  },
  {
   "cell_type": "code",
   "execution_count": null,
   "metadata": {},
   "outputs": [],
   "source": [
    "model = make_model()\n",
    "model.summary()"
   ]
  },
  {
   "cell_type": "code",
   "execution_count": 23,
   "metadata": {
    "id": "LopSd-yQqO3a"
   },
   "outputs": [
    {
     "data": {
      "text/plain": [
       "array([[9.0092206e-01],\n",
       "       [9.8053610e-01],\n",
       "       [9.9997878e-01],\n",
       "       [5.7609369e-12],\n",
       "       [9.5216703e-01],\n",
       "       [9.2934632e-01],\n",
       "       [2.5616118e-01],\n",
       "       [9.2291641e-01],\n",
       "       [9.9992323e-01],\n",
       "       [3.2543457e-18]], dtype=float32)"
      ]
     },
     "execution_count": 23,
     "metadata": {},
     "output_type": "execute_result"
    }
   ],
   "source": [
    "model.predict(train_features[:10])"
   ]
  },
  {
   "cell_type": "markdown",
   "metadata": {
    "id": "YKIgWqHms_03"
   },
   "source": [
    "### Improvement: Set the correct initial bias."
   ]
  },
  {
   "cell_type": "markdown",
   "metadata": {
    "id": "qk_3Ry6EoYDq"
   },
   "source": [
    "These initial guesses are not great. You know the dataset is imbalanced. Set the output layer's bias to reflect that (See: [A Recipe for Training Neural Networks: \"init well\"](http://karpathy.github.io/2019/04/25/recipe/#2-set-up-the-end-to-end-trainingevaluation-skeleton--get-dumb-baselines)). This can help with initial convergence."
   ]
  },
  {
   "cell_type": "markdown",
   "metadata": {
    "id": "PdbfWDuVpo6k"
   },
   "source": [
    "With the default bias initialization the loss should be about `math.log(2) = 0.69314` "
   ]
  },
  {
   "cell_type": "code",
   "execution_count": 24,
   "metadata": {
    "id": "H-oPqh3SoGXk"
   },
   "outputs": [
    {
     "name": "stdout",
     "output_type": "stream",
     "text": [
      "Loss: 2.4254\n"
     ]
    }
   ],
   "source": [
    "results = model.evaluate(train_features, train_labels, batch_size=BATCH_SIZE, verbose=0)\n",
    "print(\"Loss: {:0.4f}\".format(results[0]))"
   ]
  },
  {
   "cell_type": "code",
   "execution_count": 3,
   "metadata": {
    "id": "F5KWPSjjstUS"
   },
   "outputs": [
    {
     "ename": "NameError",
     "evalue": "name 'np' is not defined",
     "output_type": "error",
     "traceback": [
      "\u001b[1;31m---------------------------------------------------------------------------\u001b[0m",
      "\u001b[1;31mNameError\u001b[0m                                 Traceback (most recent call last)",
      "\u001b[1;32m<ipython-input-3-ef9f477d02f9>\u001b[0m in \u001b[0;36m<module>\u001b[1;34m\u001b[0m\n\u001b[1;32m----> 1\u001b[1;33m \u001b[0mneg\u001b[0m\u001b[1;33m,\u001b[0m \u001b[0mpos\u001b[0m \u001b[1;33m=\u001b[0m \u001b[0mnp\u001b[0m\u001b[1;33m.\u001b[0m\u001b[0mbincount\u001b[0m\u001b[1;33m(\u001b[0m\u001b[0mY\u001b[0m\u001b[1;33m)\u001b[0m\u001b[1;33m\u001b[0m\u001b[1;33m\u001b[0m\u001b[0m\n\u001b[0m\u001b[0;32m      2\u001b[0m \u001b[0mtotal\u001b[0m \u001b[1;33m=\u001b[0m \u001b[0mneg\u001b[0m \u001b[1;33m+\u001b[0m \u001b[0mpos\u001b[0m\u001b[1;33m\u001b[0m\u001b[1;33m\u001b[0m\u001b[0m\n\u001b[0;32m      3\u001b[0m \u001b[1;33m\u001b[0m\u001b[0m\n\u001b[0;32m      4\u001b[0m \u001b[0minitial_bias\u001b[0m \u001b[1;33m=\u001b[0m \u001b[0mnp\u001b[0m\u001b[1;33m.\u001b[0m\u001b[0mlog\u001b[0m\u001b[1;33m(\u001b[0m\u001b[1;33m[\u001b[0m\u001b[0mpos\u001b[0m\u001b[1;33m/\u001b[0m\u001b[0mneg\u001b[0m\u001b[1;33m]\u001b[0m\u001b[1;33m)\u001b[0m\u001b[1;33m\u001b[0m\u001b[1;33m\u001b[0m\u001b[0m\n\u001b[0;32m      5\u001b[0m \u001b[0minitial_bias\u001b[0m\u001b[1;33m\u001b[0m\u001b[1;33m\u001b[0m\u001b[0m\n",
      "\u001b[1;31mNameError\u001b[0m: name 'np' is not defined"
     ]
    }
   ],
   "source": [
    "neg, pos = np.bincount(Y)\n",
    "total = neg + pos\n",
    "\n",
    "initial_bias = np.log([pos/neg])\n",
    "initial_bias"
   ]
  },
  {
   "cell_type": "code",
   "execution_count": 26,
   "metadata": {},
   "outputs": [
    {
     "data": {
      "text/plain": [
       "0.14122727272727273"
      ]
     },
     "execution_count": 26,
     "metadata": {},
     "output_type": "execute_result"
    }
   ],
   "source": [
    "pos/(pos + neg)"
   ]
  },
  {
   "cell_type": "markdown",
   "metadata": {
    "id": "d1juXI9yY1KD"
   },
   "source": [
    "Set that as the initial bias, and the model will give much more reasonable initial guesses. \n",
    "\n",
    "It should be near: `pos/total = 0.0018`"
   ]
  },
  {
   "cell_type": "code",
   "execution_count": 27,
   "metadata": {
    "id": "50oyu1uss0i-"
   },
   "outputs": [
    {
     "data": {
      "text/plain": [
       "array([[2.90840566e-02],\n",
       "       [2.07877741e-03],\n",
       "       [4.10691893e-04],\n",
       "       [1.04435605e-06],\n",
       "       [1.30909935e-01],\n",
       "       [1.22474164e-01],\n",
       "       [1.12568995e-03],\n",
       "       [1.86217695e-01],\n",
       "       [3.92459611e-08],\n",
       "       [2.21821498e-02]], dtype=float32)"
      ]
     },
     "execution_count": 27,
     "metadata": {},
     "output_type": "execute_result"
    }
   ],
   "source": [
    "model = make_model(output_bias = initial_bias)\n",
    "model.predict(train_features[:10])"
   ]
  },
  {
   "cell_type": "markdown",
   "metadata": {
    "id": "4xqFYb2KqRHQ"
   },
   "source": [
    "With this initialization the initial loss should be approximately:\n",
    "\n",
    "$$-p_0log(p_0)-(1-p_0)log(1-p_0) = 0.01317$$"
   ]
  },
  {
   "cell_type": "code",
   "execution_count": 28,
   "metadata": {
    "id": "xVDqCWXDqHSc"
   },
   "outputs": [
    {
     "name": "stdout",
     "output_type": "stream",
     "text": [
      "Loss: 1.0324\n"
     ]
    }
   ],
   "source": [
    "results = model.evaluate(train_features, train_labels, batch_size=BATCH_SIZE, verbose=0)\n",
    "print(\"Loss: {:0.4f}\".format(results[0]))"
   ]
  },
  {
   "cell_type": "markdown",
   "metadata": {
    "id": "FrDC8hvNr9yw"
   },
   "source": [
    "This initial loss is about 50 times less than if would have been with naive initialization.\n",
    "\n",
    "This way the model doesn't need to spend the first few epochs just learning that positive examples are unlikely. This also makes it easier to read plots of the loss during training."
   ]
  },
  {
   "cell_type": "markdown",
   "metadata": {
    "id": "0EJj9ixKVBMT"
   },
   "source": [
    "### Checkpoint the initial weights\n",
    "\n",
    "To make the various training runs more comparable, keep this initial model's weights in a checkpoint file, and load them into each model before training."
   ]
  },
  {
   "cell_type": "code",
   "execution_count": 29,
   "metadata": {
    "id": "_tSUm4yAVIif"
   },
   "outputs": [],
   "source": [
    "initial_weights = os.path.join(tempfile.mkdtemp(),'initial_weights')\n",
    "model.save_weights(initial_weights)"
   ]
  },
  {
   "cell_type": "markdown",
   "metadata": {
    "id": "EVXiLyqyZ8AX"
   },
   "source": [
    "### Confirm that the bias fix helps\n",
    "\n",
    "Before moving on, confirm quick that the careful bias initialization actually helped.\n",
    "\n",
    "Train the model for 20 epochs, with and without this careful initialization, and compare the losses: "
   ]
  },
  {
   "cell_type": "code",
   "execution_count": 30,
   "metadata": {
    "id": "Dm4-4K5RZ63Q"
   },
   "outputs": [],
   "source": [
    "model = make_model()\n",
    "model.load_weights(initial_weights)\n",
    "model.layers[-1].bias.assign([0.0])\n",
    "zero_bias_history = model.fit(\n",
    "    train_features,\n",
    "    train_labels,\n",
    "    batch_size=BATCH_SIZE,\n",
    "    epochs=20,\n",
    "    validation_data=(val_features, val_labels), \n",
    "    verbose=0)"
   ]
  },
  {
   "cell_type": "code",
   "execution_count": 31,
   "metadata": {
    "id": "j8DsLXHQaSql"
   },
   "outputs": [],
   "source": [
    "model = make_model()\n",
    "model.load_weights(initial_weights)\n",
    "careful_bias_history = model.fit(\n",
    "    train_features,\n",
    "    train_labels,\n",
    "    batch_size=BATCH_SIZE,\n",
    "    epochs=20,\n",
    "    validation_data=(val_features, val_labels), \n",
    "    verbose=0)"
   ]
  },
  {
   "cell_type": "code",
   "execution_count": 32,
   "metadata": {
    "id": "E3XsMBjhauFV"
   },
   "outputs": [],
   "source": [
    "def plot_loss(history, label, n):\n",
    "  # Use a log scale to show the wide range of values.\n",
    "  plt.semilogy(history.epoch,  history.history['loss'],\n",
    "               color=colors[n], label='Train '+label)\n",
    "  plt.semilogy(history.epoch,  history.history['val_loss'],\n",
    "          color=colors[n], label='Val '+label,\n",
    "          linestyle=\"--\")\n",
    "  plt.xlabel('Epoch')\n",
    "  plt.ylabel('Loss')\n",
    "  \n",
    "  plt.legend()"
   ]
  },
  {
   "cell_type": "code",
   "execution_count": 33,
   "metadata": {
    "id": "dxFaskm7beC7"
   },
   "outputs": [
    {
     "data": {
      "image/png": "[encoded data removed]",
      "text/plain": [
       "<Figure size 864x720 with 1 Axes>"
      ]
     },
     "metadata": {
      "needs_background": "light"
     },
     "output_type": "display_data"
    }
   ],
   "source": [
    "plot_loss(zero_bias_history, \"Zero Bias\", 0)\n",
    "plot_loss(careful_bias_history, \"Careful Bias\", 1)"
   ]
  },
  {
   "cell_type": "markdown",
   "metadata": {
    "id": "fKMioV0ddG3R"
   },
   "source": [
    "The above figure makes it clear: In terms of validation loss, on this problem, this careful initialization gives a clear advantage. "
   ]
  },
  {
   "cell_type": "markdown",
   "metadata": {
    "id": "RsA_7SEntRaV"
   },
   "source": [
    "### Train the model"
   ]
  },
  {
   "cell_type": "code",
   "execution_count": 34,
   "metadata": {
    "id": "yZKAc8NCDnoR"
   },
   "outputs": [
    {
     "name": "stdout",
     "output_type": "stream",
     "text": [
      "Train on 28160 samples, validate on 7040 samples\n",
      "Epoch 1/100\n",
      "28160/28160 [==============================] - 3s 90us/sample - loss: 1.8344 - tp: 798.0000 - fp: 3854.0000 - tn: 20327.0000 - fn: 3181.0000 - accuracy: 0.7502 - precision: 0.1715 - recall: 0.2006 - auc: 0.5063 - val_loss: 0.8327 - val_tp: 19.0000 - val_fp: 46.0000 - val_tn: 6020.0000 - val_fn: 955.0000 - val_accuracy: 0.8578 - val_precision: 0.2923 - val_recall: 0.0195 - val_auc: 0.4986\n",
      "Epoch 2/100\n",
      "28160/28160 [==============================] - 0s 5us/sample - loss: 1.0746 - tp: 736.0000 - fp: 2737.0000 - tn: 21444.0000 - fn: 3243.0000 - accuracy: 0.7876 - precision: 0.2119 - recall: 0.1850 - auc: 0.5355 - val_loss: 0.5193 - val_tp: 113.0000 - val_fp: 82.0000 - val_tn: 5984.0000 - val_fn: 861.0000 - val_accuracy: 0.8661 - val_precision: 0.5795 - val_recall: 0.1160 - val_auc: 0.5924\n",
      "Epoch 3/100\n",
      "28160/28160 [==============================] - 0s 5us/sample - loss: 0.7005 - tp: 664.0000 - fp: 2016.0000 - tn: 22165.0000 - fn: 3315.0000 - accuracy: 0.8107 - precision: 0.2478 - recall: 0.1669 - auc: 0.5586 - val_loss: 0.4428 - val_tp: 84.0000 - val_fp: 49.0000 - val_tn: 6017.0000 - val_fn: 890.0000 - val_accuracy: 0.8666 - val_precision: 0.6316 - val_recall: 0.0862 - val_auc: 0.6039\n",
      "Epoch 4/100\n",
      "28160/28160 [==============================] - 0s 6us/sample - loss: 0.5191 - tp: 480.0000 - fp: 1008.0000 - tn: 23173.0000 - fn: 3499.0000 - accuracy: 0.8400 - precision: 0.3226 - recall: 0.1206 - auc: 0.5677 - val_loss: 0.4077 - val_tp: 74.0000 - val_fp: 27.0000 - val_tn: 6039.0000 - val_fn: 900.0000 - val_accuracy: 0.8683 - val_precision: 0.7327 - val_recall: 0.0760 - val_auc: 0.6165\n",
      "Epoch 5/100\n",
      "28160/28160 [==============================] - 0s 5us/sample - loss: 0.4470 - tp: 397.0000 - fp: 639.0000 - tn: 23542.0000 - fn: 3582.0000 - accuracy: 0.8501 - precision: 0.3832 - recall: 0.0998 - auc: 0.5905 - val_loss: 0.3937 - val_tp: 68.0000 - val_fp: 22.0000 - val_tn: 6044.0000 - val_fn: 906.0000 - val_accuracy: 0.8682 - val_precision: 0.7556 - val_recall: 0.0698 - val_auc: 0.6285\n",
      "Epoch 6/100\n",
      "28160/28160 [==============================] - 0s 5us/sample - loss: 0.4260 - tp: 334.0000 - fp: 459.0000 - tn: 23722.0000 - fn: 3645.0000 - accuracy: 0.8543 - precision: 0.4212 - recall: 0.0839 - auc: 0.5935 - val_loss: 0.3878 - val_tp: 65.0000 - val_fp: 18.0000 - val_tn: 6048.0000 - val_fn: 909.0000 - val_accuracy: 0.8683 - val_precision: 0.7831 - val_recall: 0.0667 - val_auc: 0.6373\n",
      "Epoch 7/100\n",
      "28160/28160 [==============================] - 0s 5us/sample - loss: 0.4133 - tp: 335.0000 - fp: 353.0000 - tn: 23828.0000 - fn: 3644.0000 - accuracy: 0.8581 - precision: 0.4869 - recall: 0.0842 - auc: 0.6031 - val_loss: 0.3848 - val_tp: 60.0000 - val_fp: 18.0000 - val_tn: 6048.0000 - val_fn: 914.0000 - val_accuracy: 0.8676 - val_precision: 0.7692 - val_recall: 0.0616 - val_auc: 0.6424\n",
      "Epoch 8/100\n",
      "28160/28160 [==============================] - 0s 5us/sample - loss: 0.4061 - tp: 303.0000 - fp: 293.0000 - tn: 23888.0000 - fn: 3676.0000 - accuracy: 0.8591 - precision: 0.5084 - recall: 0.0761 - auc: 0.6071 - val_loss: 0.3831 - val_tp: 63.0000 - val_fp: 16.0000 - val_tn: 6050.0000 - val_fn: 911.0000 - val_accuracy: 0.8683 - val_precision: 0.7975 - val_recall: 0.0647 - val_auc: 0.6486\n",
      "Epoch 9/100\n",
      "28160/28160 [==============================] - 0s 6us/sample - loss: 0.3999 - tp: 314.0000 - fp: 274.0000 - tn: 23907.0000 - fn: 3665.0000 - accuracy: 0.8601 - precision: 0.5340 - recall: 0.0789 - auc: 0.6155 - val_loss: 0.3814 - val_tp: 67.0000 - val_fp: 18.0000 - val_tn: 6048.0000 - val_fn: 907.0000 - val_accuracy: 0.8686 - val_precision: 0.7882 - val_recall: 0.0688 - val_auc: 0.6539\n",
      "Epoch 10/100\n",
      "28160/28160 [==============================] - 0s 6us/sample - loss: 0.3978 - tp: 312.0000 - fp: 256.0000 - tn: 23925.0000 - fn: 3667.0000 - accuracy: 0.8607 - precision: 0.5493 - recall: 0.0784 - auc: 0.6193 - val_loss: 0.3794 - val_tp: 68.0000 - val_fp: 16.0000 - val_tn: 6050.0000 - val_fn: 906.0000 - val_accuracy: 0.8690 - val_precision: 0.8095 - val_recall: 0.0698 - val_auc: 0.6585\n",
      "Epoch 11/100\n",
      "28160/28160 [==============================] - 0s 5us/sample - loss: 0.3933 - tp: 320.0000 - fp: 203.0000 - tn: 23978.0000 - fn: 3659.0000 - accuracy: 0.8629 - precision: 0.6119 - recall: 0.0804 - auc: 0.6226 - val_loss: 0.3770 - val_tp: 79.0000 - val_fp: 18.0000 - val_tn: 6048.0000 - val_fn: 895.0000 - val_accuracy: 0.8703 - val_precision: 0.8144 - val_recall: 0.0811 - val_auc: 0.6655\n",
      "Epoch 12/100\n",
      "28160/28160 [==============================] - 0s 5us/sample - loss: 0.3922 - tp: 352.0000 - fp: 221.0000 - tn: 23960.0000 - fn: 3627.0000 - accuracy: 0.8634 - precision: 0.6143 - recall: 0.0885 - auc: 0.6265 - val_loss: 0.3744 - val_tp: 91.0000 - val_fp: 21.0000 - val_tn: 6045.0000 - val_fn: 883.0000 - val_accuracy: 0.8716 - val_precision: 0.8125 - val_recall: 0.0934 - val_auc: 0.6740\n",
      "Epoch 13/100\n",
      "28160/28160 [==============================] - 0s 5us/sample - loss: 0.3921 - tp: 358.0000 - fp: 210.0000 - tn: 23971.0000 - fn: 3621.0000 - accuracy: 0.8640 - precision: 0.6303 - recall: 0.0900 - auc: 0.6326 - val_loss: 0.3725 - val_tp: 92.0000 - val_fp: 19.0000 - val_tn: 6047.0000 - val_fn: 882.0000 - val_accuracy: 0.8720 - val_precision: 0.8288 - val_recall: 0.0945 - val_auc: 0.6787\n",
      "Epoch 14/100\n",
      "28160/28160 [==============================] - 0s 5us/sample - loss: 0.3889 - tp: 344.0000 - fp: 196.0000 - tn: 23985.0000 - fn: 3635.0000 - accuracy: 0.8640 - precision: 0.6370 - recall: 0.0865 - auc: 0.6405 - val_loss: 0.3714 - val_tp: 88.0000 - val_fp: 17.0000 - val_tn: 6049.0000 - val_fn: 886.0000 - val_accuracy: 0.8717 - val_precision: 0.8381 - val_recall: 0.0903 - val_auc: 0.6800\n",
      "Epoch 15/100\n",
      "28160/28160 [==============================] - 0s 5us/sample - loss: 0.3853 - tp: 375.0000 - fp: 186.0000 - tn: 23995.0000 - fn: 3604.0000 - accuracy: 0.8654 - precision: 0.6684 - recall: 0.0942 - auc: 0.6457 - val_loss: 0.3693 - val_tp: 92.0000 - val_fp: 19.0000 - val_tn: 6047.0000 - val_fn: 882.0000 - val_accuracy: 0.8720 - val_precision: 0.8288 - val_recall: 0.0945 - val_auc: 0.6855\n",
      "Epoch 16/100\n",
      "28160/28160 [==============================] - 0s 5us/sample - loss: 0.3831 - tp: 406.0000 - fp: 184.0000 - tn: 23997.0000 - fn: 3573.0000 - accuracy: 0.8666 - precision: 0.6881 - recall: 0.1020 - auc: 0.6484 - val_loss: 0.3664 - val_tp: 105.0000 - val_fp: 24.0000 - val_tn: 6042.0000 - val_fn: 869.0000 - val_accuracy: 0.8732 - val_precision: 0.8140 - val_recall: 0.1078 - val_auc: 0.6929\n",
      "Epoch 17/100\n",
      "28160/28160 [==============================] - 0s 5us/sample - loss: 0.3818 - tp: 473.0000 - fp: 223.0000 - tn: 23958.0000 - fn: 3506.0000 - accuracy: 0.8676 - precision: 0.6796 - recall: 0.1189 - auc: 0.6553 - val_loss: 0.3631 - val_tp: 113.0000 - val_fp: 26.0000 - val_tn: 6040.0000 - val_fn: 861.0000 - val_accuracy: 0.8740 - val_precision: 0.8129 - val_recall: 0.1160 - val_auc: 0.6999\n",
      "Epoch 18/100\n",
      "28160/28160 [==============================] - 0s 6us/sample - loss: 0.3813 - tp: 485.0000 - fp: 249.0000 - tn: 23932.0000 - fn: 3494.0000 - accuracy: 0.8671 - precision: 0.6608 - recall: 0.1219 - auc: 0.6578 - val_loss: 0.3598 - val_tp: 123.0000 - val_fp: 32.0000 - val_tn: 6034.0000 - val_fn: 851.0000 - val_accuracy: 0.8746 - val_precision: 0.7935 - val_recall: 0.1263 - val_auc: 0.7062\n",
      "Epoch 19/100\n",
      "28160/28160 [==============================] - 0s 6us/sample - loss: 0.3761 - tp: 448.0000 - fp: 176.0000 - tn: 24005.0000 - fn: 3531.0000 - accuracy: 0.8684 - precision: 0.7179 - recall: 0.1126 - auc: 0.6648 - val_loss: 0.3562 - val_tp: 124.0000 - val_fp: 32.0000 - val_tn: 6034.0000 - val_fn: 850.0000 - val_accuracy: 0.8747 - val_precision: 0.7949 - val_recall: 0.1273 - val_auc: 0.7155\n",
      "Epoch 20/100\n",
      "28160/28160 [==============================] - 0s 6us/sample - loss: 0.3726 - tp: 518.0000 - fp: 188.0000 - tn: 23993.0000 - fn: 3461.0000 - accuracy: 0.8704 - precision: 0.7337 - recall: 0.1302 - auc: 0.6755 - val_loss: 0.3558 - val_tp: 124.0000 - val_fp: 30.0000 - val_tn: 6036.0000 - val_fn: 850.0000 - val_accuracy: 0.8750 - val_precision: 0.8052 - val_recall: 0.1273 - val_auc: 0.7200\n",
      "Epoch 21/100\n",
      "28160/28160 [==============================] - 0s 5us/sample - loss: 0.3726 - tp: 521.0000 - fp: 175.0000 - tn: 24006.0000 - fn: 3458.0000 - accuracy: 0.8710 - precision: 0.7486 - recall: 0.1309 - auc: 0.6759 - val_loss: 0.3529 - val_tp: 138.0000 - val_fp: 32.0000 - val_tn: 6034.0000 - val_fn: 836.0000 - val_accuracy: 0.8767 - val_precision: 0.8118 - val_recall: 0.1417 - val_auc: 0.7228\n",
      "Epoch 22/100\n",
      "28160/28160 [==============================] - 0s 5us/sample - loss: 0.3692 - tp: 536.0000 - fp: 198.0000 - tn: 23983.0000 - fn: 3443.0000 - accuracy: 0.8707 - precision: 0.7302 - recall: 0.1347 - auc: 0.6844 - val_loss: 0.3517 - val_tp: 132.0000 - val_fp: 32.0000 - val_tn: 6034.0000 - val_fn: 842.0000 - val_accuracy: 0.8759 - val_precision: 0.8049 - val_recall: 0.1355 - val_auc: 0.7269\n",
      "Epoch 23/100\n",
      "28160/28160 [==============================] - 0s 5us/sample - loss: 0.3702 - tp: 547.0000 - fp: 202.0000 - tn: 23979.0000 - fn: 3432.0000 - accuracy: 0.8710 - precision: 0.7303 - recall: 0.1375 - auc: 0.6855 - val_loss: 0.3521 - val_tp: 132.0000 - val_fp: 27.0000 - val_tn: 6039.0000 - val_fn: 842.0000 - val_accuracy: 0.8766 - val_precision: 0.8302 - val_recall: 0.1355 - val_auc: 0.7293\n",
      "Epoch 24/100\n",
      "28160/28160 [==============================] - 0s 5us/sample - loss: 0.3668 - tp: 538.0000 - fp: 197.0000 - tn: 23984.0000 - fn: 3441.0000 - accuracy: 0.8708 - precision: 0.7320 - recall: 0.1352 - auc: 0.6878 - val_loss: 0.3484 - val_tp: 143.0000 - val_fp: 35.0000 - val_tn: 6031.0000 - val_fn: 831.0000 - val_accuracy: 0.8770 - val_precision: 0.8034 - val_recall: 0.1468 - val_auc: 0.7323\n",
      "Epoch 25/100\n",
      "28160/28160 [==============================] - 0s 5us/sample - loss: 0.3649 - tp: 578.0000 - fp: 202.0000 - tn: 23979.0000 - fn: 3401.0000 - accuracy: 0.8721 - precision: 0.7410 - recall: 0.1453 - auc: 0.6895 - val_loss: 0.3468 - val_tp: 157.0000 - val_fp: 36.0000 - val_tn: 6030.0000 - val_fn: 817.0000 - val_accuracy: 0.8788 - val_precision: 0.8135 - val_recall: 0.1612 - val_auc: 0.7351\n",
      "Epoch 26/100\n",
      "28160/28160 [==============================] - 0s 5us/sample - loss: 0.3651 - tp: 584.0000 - fp: 231.0000 - tn: 23950.0000 - fn: 3395.0000 - accuracy: 0.8712 - precision: 0.7166 - recall: 0.1468 - auc: 0.6979 - val_loss: 0.3456 - val_tp: 154.0000 - val_fp: 35.0000 - val_tn: 6031.0000 - val_fn: 820.0000 - val_accuracy: 0.8786 - val_precision: 0.8148 - val_recall: 0.1581 - val_auc: 0.7388\n",
      "Epoch 27/100\n",
      "28160/28160 [==============================] - 0s 5us/sample - loss: 0.3621 - tp: 615.0000 - fp: 198.0000 - tn: 23983.0000 - fn: 3364.0000 - accuracy: 0.8735 - precision: 0.7565 - recall: 0.1546 - auc: 0.6965 - val_loss: 0.3443 - val_tp: 161.0000 - val_fp: 41.0000 - val_tn: 6025.0000 - val_fn: 813.0000 - val_accuracy: 0.8787 - val_precision: 0.7970 - val_recall: 0.1653 - val_auc: 0.7368\n",
      "Epoch 28/100\n",
      "28160/28160 [==============================] - 0s 4us/sample - loss: 0.3627 - tp: 615.0000 - fp: 213.0000 - tn: 23968.0000 - fn: 3364.0000 - accuracy: 0.8730 - precision: 0.7428 - recall: 0.1546 - auc: 0.6997 - val_loss: 0.3426 - val_tp: 169.0000 - val_fp: 42.0000 - val_tn: 6024.0000 - val_fn: 805.0000 - val_accuracy: 0.8797 - val_precision: 0.8009 - val_recall: 0.1735 - val_auc: 0.7400\n",
      "Epoch 29/100\n",
      "28160/28160 [==============================] - 0s 4us/sample - loss: 0.3587 - tp: 650.0000 - fp: 235.0000 - tn: 23946.0000 - fn: 3329.0000 - accuracy: 0.8734 - precision: 0.7345 - recall: 0.1634 - auc: 0.7050 - val_loss: 0.3409 - val_tp: 178.0000 - val_fp: 44.0000 - val_tn: 6022.0000 - val_fn: 796.0000 - val_accuracy: 0.8807 - val_precision: 0.8018 - val_recall: 0.1828 - val_auc: 0.7390\n",
      "Epoch 30/100\n",
      "28160/28160 [==============================] - 0s 4us/sample - loss: 0.3557 - tp: 665.0000 - fp: 209.0000 - tn: 23972.0000 - fn: 3314.0000 - accuracy: 0.8749 - precision: 0.7609 - recall: 0.1671 - auc: 0.7089 - val_loss: 0.3402 - val_tp: 166.0000 - val_fp: 33.0000 - val_tn: 6033.0000 - val_fn: 808.0000 - val_accuracy: 0.8805 - val_precision: 0.8342 - val_recall: 0.1704 - val_auc: 0.7469\n",
      "Epoch 31/100\n",
      "28160/28160 [==============================] - 0s 5us/sample - loss: 0.3549 - tp: 678.0000 - fp: 212.0000 - tn: 23969.0000 - fn: 3301.0000 - accuracy: 0.8752 - precision: 0.7618 - recall: 0.1704 - auc: 0.7127 - val_loss: 0.3377 - val_tp: 179.0000 - val_fp: 36.0000 - val_tn: 6030.0000 - val_fn: 795.0000 - val_accuracy: 0.8820 - val_precision: 0.8326 - val_recall: 0.1838 - val_auc: 0.7481\n",
      "Epoch 32/100\n",
      "28160/28160 [==============================] - 0s 5us/sample - loss: 0.3528 - tp: 678.0000 - fp: 181.0000 - tn: 24000.0000 - fn: 3301.0000 - accuracy: 0.8763 - precision: 0.7893 - recall: 0.1704 - auc: 0.7163 - val_loss: 0.3362 - val_tp: 194.0000 - val_fp: 39.0000 - val_tn: 6027.0000 - val_fn: 780.0000 - val_accuracy: 0.8837 - val_precision: 0.8326 - val_recall: 0.1992 - val_auc: 0.7498\n",
      "Epoch 33/100\n",
      "28160/28160 [==============================] - 0s 5us/sample - loss: 0.3522 - tp: 655.0000 - fp: 195.0000 - tn: 23986.0000 - fn: 3324.0000 - accuracy: 0.8750 - precision: 0.7706 - recall: 0.1646 - auc: 0.7182 - val_loss: 0.3354 - val_tp: 185.0000 - val_fp: 33.0000 - val_tn: 6033.0000 - val_fn: 789.0000 - val_accuracy: 0.8832 - val_precision: 0.8486 - val_recall: 0.1899 - val_auc: 0.7494\n",
      "Epoch 34/100\n",
      "28160/28160 [==============================] - 0s 5us/sample - loss: 0.3519 - tp: 712.0000 - fp: 201.0000 - tn: 23980.0000 - fn: 3267.0000 - accuracy: 0.8768 - precision: 0.7798 - recall: 0.1789 - auc: 0.7179 - val_loss: 0.3343 - val_tp: 199.0000 - val_fp: 35.0000 - val_tn: 6031.0000 - val_fn: 775.0000 - val_accuracy: 0.8849 - val_precision: 0.8504 - val_recall: 0.2043 - val_auc: 0.7508\n",
      "Epoch 35/100\n",
      "28160/28160 [==============================] - 0s 5us/sample - loss: 0.3474 - tp: 731.0000 - fp: 198.0000 - tn: 23983.0000 - fn: 3248.0000 - accuracy: 0.8776 - precision: 0.7869 - recall: 0.1837 - auc: 0.7262 - val_loss: 0.3308 - val_tp: 211.0000 - val_fp: 43.0000 - val_tn: 6023.0000 - val_fn: 763.0000 - val_accuracy: 0.8855 - val_precision: 0.8307 - val_recall: 0.2166 - val_auc: 0.7574\n",
      "Epoch 36/100\n",
      "28160/28160 [==============================] - 0s 5us/sample - loss: 0.3479 - tp: 713.0000 - fp: 178.0000 - tn: 24003.0000 - fn: 3266.0000 - accuracy: 0.8777 - precision: 0.8002 - recall: 0.1792 - auc: 0.7248 - val_loss: 0.3306 - val_tp: 206.0000 - val_fp: 36.0000 - val_tn: 6030.0000 - val_fn: 768.0000 - val_accuracy: 0.8858 - val_precision: 0.8512 - val_recall: 0.2115 - val_auc: 0.7556\n",
      "Epoch 37/100\n",
      "28160/28160 [==============================] - 0s 5us/sample - loss: 0.3462 - tp: 742.0000 - fp: 190.0000 - tn: 23991.0000 - fn: 3237.0000 - accuracy: 0.8783 - precision: 0.7961 - recall: 0.1865 - auc: 0.7256 - val_loss: 0.3289 - val_tp: 207.0000 - val_fp: 36.0000 - val_tn: 6030.0000 - val_fn: 767.0000 - val_accuracy: 0.8859 - val_precision: 0.8519 - val_recall: 0.2125 - val_auc: 0.7597\n",
      "Epoch 38/100\n",
      "28160/28160 [==============================] - 0s 5us/sample - loss: 0.3453 - tp: 739.0000 - fp: 184.0000 - tn: 23997.0000 - fn: 3240.0000 - accuracy: 0.8784 - precision: 0.8007 - recall: 0.1857 - auc: 0.7267 - val_loss: 0.3281 - val_tp: 213.0000 - val_fp: 37.0000 - val_tn: 6029.0000 - val_fn: 761.0000 - val_accuracy: 0.8866 - val_precision: 0.8520 - val_recall: 0.2187 - val_auc: 0.7601\n",
      "Epoch 39/100\n",
      "28160/28160 [==============================] - 0s 5us/sample - loss: 0.3438 - tp: 773.0000 - fp: 211.0000 - tn: 23970.0000 - fn: 3206.0000 - accuracy: 0.8787 - precision: 0.7856 - recall: 0.1943 - auc: 0.7286 - val_loss: 0.3272 - val_tp: 205.0000 - val_fp: 32.0000 - val_tn: 6034.0000 - val_fn: 769.0000 - val_accuracy: 0.8862 - val_precision: 0.8650 - val_recall: 0.2105 - val_auc: 0.7606\n",
      "Epoch 40/100\n",
      "28160/28160 [==============================] - 0s 5us/sample - loss: 0.3425 - tp: 762.0000 - fp: 188.0000 - tn: 23993.0000 - fn: 3217.0000 - accuracy: 0.8791 - precision: 0.8021 - recall: 0.1915 - auc: 0.7317 - val_loss: 0.3254 - val_tp: 218.0000 - val_fp: 37.0000 - val_tn: 6029.0000 - val_fn: 756.0000 - val_accuracy: 0.8874 - val_precision: 0.8549 - val_recall: 0.2238 - val_auc: 0.7620\n",
      "Epoch 41/100\n"
     ]
    },
    {
     "name": "stdout",
     "output_type": "stream",
     "text": [
      "28160/28160 [==============================] - 0s 5us/sample - loss: 0.3417 - tp: 807.0000 - fp: 205.0000 - tn: 23976.0000 - fn: 3172.0000 - accuracy: 0.8801 - precision: 0.7974 - recall: 0.2028 - auc: 0.7339 - val_loss: 0.3238 - val_tp: 221.0000 - val_fp: 36.0000 - val_tn: 6030.0000 - val_fn: 753.0000 - val_accuracy: 0.8879 - val_precision: 0.8599 - val_recall: 0.2269 - val_auc: 0.7676\n",
      "Epoch 42/100\n",
      "28160/28160 [==============================] - 0s 5us/sample - loss: 0.3423 - tp: 815.0000 - fp: 201.0000 - tn: 23980.0000 - fn: 3164.0000 - accuracy: 0.8805 - precision: 0.8022 - recall: 0.2048 - auc: 0.7334 - val_loss: 0.3229 - val_tp: 229.0000 - val_fp: 43.0000 - val_tn: 6023.0000 - val_fn: 745.0000 - val_accuracy: 0.8881 - val_precision: 0.8419 - val_recall: 0.2351 - val_auc: 0.7658\n",
      "Epoch 43/100\n",
      "28160/28160 [==============================] - 0s 5us/sample - loss: 0.3383 - tp: 831.0000 - fp: 165.0000 - tn: 24016.0000 - fn: 3148.0000 - accuracy: 0.8824 - precision: 0.8343 - recall: 0.2088 - auc: 0.7353 - val_loss: 0.3218 - val_tp: 232.0000 - val_fp: 37.0000 - val_tn: 6029.0000 - val_fn: 742.0000 - val_accuracy: 0.8893 - val_precision: 0.8625 - val_recall: 0.2382 - val_auc: 0.7671\n",
      "Epoch 44/100\n",
      "28160/28160 [==============================] - 0s 5us/sample - loss: 0.3382 - tp: 841.0000 - fp: 196.0000 - tn: 23985.0000 - fn: 3138.0000 - accuracy: 0.8816 - precision: 0.8110 - recall: 0.2114 - auc: 0.7381 - val_loss: 0.3215 - val_tp: 226.0000 - val_fp: 31.0000 - val_tn: 6035.0000 - val_fn: 748.0000 - val_accuracy: 0.8893 - val_precision: 0.8794 - val_recall: 0.2320 - val_auc: 0.7686\n",
      "Epoch 45/100\n",
      "28160/28160 [==============================] - 0s 5us/sample - loss: 0.3386 - tp: 839.0000 - fp: 203.0000 - tn: 23978.0000 - fn: 3140.0000 - accuracy: 0.8813 - precision: 0.8052 - recall: 0.2109 - auc: 0.7366 - val_loss: 0.3194 - val_tp: 233.0000 - val_fp: 34.0000 - val_tn: 6032.0000 - val_fn: 741.0000 - val_accuracy: 0.8899 - val_precision: 0.8727 - val_recall: 0.2392 - val_auc: 0.7714\n",
      "Epoch 46/100\n",
      "28160/28160 [==============================] - 0s 5us/sample - loss: 0.3364 - tp: 825.0000 - fp: 190.0000 - tn: 23991.0000 - fn: 3154.0000 - accuracy: 0.8813 - precision: 0.8128 - recall: 0.2073 - auc: 0.7431 - val_loss: 0.3186 - val_tp: 237.0000 - val_fp: 38.0000 - val_tn: 6028.0000 - val_fn: 737.0000 - val_accuracy: 0.8899 - val_precision: 0.8618 - val_recall: 0.2433 - val_auc: 0.7707\n",
      "Epoch 47/100\n",
      "28160/28160 [==============================] - 0s 6us/sample - loss: 0.3347 - tp: 866.0000 - fp: 178.0000 - tn: 24003.0000 - fn: 3113.0000 - accuracy: 0.8831 - precision: 0.8295 - recall: 0.2176 - auc: 0.7453 - val_loss: 0.3172 - val_tp: 244.0000 - val_fp: 40.0000 - val_tn: 6026.0000 - val_fn: 730.0000 - val_accuracy: 0.8906 - val_precision: 0.8592 - val_recall: 0.2505 - val_auc: 0.7726\n",
      "Epoch 48/100\n",
      "28160/28160 [==============================] - 0s 5us/sample - loss: 0.3348 - tp: 893.0000 - fp: 220.0000 - tn: 23961.0000 - fn: 3086.0000 - accuracy: 0.8826 - precision: 0.8023 - recall: 0.2244 - auc: 0.7448 - val_loss: 0.3159 - val_tp: 245.0000 - val_fp: 38.0000 - val_tn: 6028.0000 - val_fn: 729.0000 - val_accuracy: 0.8911 - val_precision: 0.8657 - val_recall: 0.2515 - val_auc: 0.7745\n",
      "Epoch 49/100\n",
      "28160/28160 [==============================] - 0s 6us/sample - loss: 0.3340 - tp: 863.0000 - fp: 185.0000 - tn: 23996.0000 - fn: 3116.0000 - accuracy: 0.8828 - precision: 0.8235 - recall: 0.2169 - auc: 0.7463 - val_loss: 0.3151 - val_tp: 242.0000 - val_fp: 36.0000 - val_tn: 6030.0000 - val_fn: 732.0000 - val_accuracy: 0.8909 - val_precision: 0.8705 - val_recall: 0.2485 - val_auc: 0.7751\n",
      "Epoch 50/100\n",
      "28160/28160 [==============================] - 0s 6us/sample - loss: 0.3331 - tp: 896.0000 - fp: 194.0000 - tn: 23987.0000 - fn: 3083.0000 - accuracy: 0.8836 - precision: 0.8220 - recall: 0.2252 - auc: 0.7456 - val_loss: 0.3144 - val_tp: 248.0000 - val_fp: 40.0000 - val_tn: 6026.0000 - val_fn: 726.0000 - val_accuracy: 0.8912 - val_precision: 0.8611 - val_recall: 0.2546 - val_auc: 0.7765\n",
      "Epoch 51/100\n",
      "28160/28160 [==============================] - 0s 6us/sample - loss: 0.3331 - tp: 912.0000 - fp: 192.0000 - tn: 23989.0000 - fn: 3067.0000 - accuracy: 0.8843 - precision: 0.8261 - recall: 0.2292 - auc: 0.7418 - val_loss: 0.3140 - val_tp: 248.0000 - val_fp: 36.0000 - val_tn: 6030.0000 - val_fn: 726.0000 - val_accuracy: 0.8918 - val_precision: 0.8732 - val_recall: 0.2546 - val_auc: 0.7774\n",
      "Epoch 52/100\n",
      "28160/28160 [==============================] - 0s 6us/sample - loss: 0.3349 - tp: 901.0000 - fp: 203.0000 - tn: 23978.0000 - fn: 3078.0000 - accuracy: 0.8835 - precision: 0.8161 - recall: 0.2264 - auc: 0.7445 - val_loss: 0.3134 - val_tp: 249.0000 - val_fp: 36.0000 - val_tn: 6030.0000 - val_fn: 725.0000 - val_accuracy: 0.8919 - val_precision: 0.8737 - val_recall: 0.2556 - val_auc: 0.7770\n",
      "Epoch 53/100\n",
      "28160/28160 [==============================] - 0s 6us/sample - loss: 0.3335 - tp: 889.0000 - fp: 178.0000 - tn: 24003.0000 - fn: 3090.0000 - accuracy: 0.8839 - precision: 0.8332 - recall: 0.2234 - auc: 0.7412 - val_loss: 0.3136 - val_tp: 246.0000 - val_fp: 36.0000 - val_tn: 6030.0000 - val_fn: 728.0000 - val_accuracy: 0.8915 - val_precision: 0.8723 - val_recall: 0.2526 - val_auc: 0.7784\n",
      "Epoch 54/100\n",
      "28160/28160 [==============================] - 0s 6us/sample - loss: 0.3325 - tp: 907.0000 - fp: 182.0000 - tn: 23999.0000 - fn: 3072.0000 - accuracy: 0.8844 - precision: 0.8329 - recall: 0.2279 - auc: 0.7458 - val_loss: 0.3124 - val_tp: 253.0000 - val_fp: 37.0000 - val_tn: 6029.0000 - val_fn: 721.0000 - val_accuracy: 0.8923 - val_precision: 0.8724 - val_recall: 0.2598 - val_auc: 0.7788\n",
      "Epoch 55/100\n",
      "28160/28160 [==============================] - 0s 6us/sample - loss: 0.3325 - tp: 958.0000 - fp: 235.0000 - tn: 23946.0000 - fn: 3021.0000 - accuracy: 0.8844 - precision: 0.8030 - recall: 0.2408 - auc: 0.7470 - val_loss: 0.3131 - val_tp: 249.0000 - val_fp: 37.0000 - val_tn: 6029.0000 - val_fn: 725.0000 - val_accuracy: 0.8918 - val_precision: 0.8706 - val_recall: 0.2556 - val_auc: 0.7757\n",
      "Epoch 56/100\n",
      "28160/28160 [==============================] - 0s 5us/sample - loss: 0.3304 - tp: 926.0000 - fp: 191.0000 - tn: 23990.0000 - fn: 3053.0000 - accuracy: 0.8848 - precision: 0.8290 - recall: 0.2327 - auc: 0.7499 - val_loss: 0.3111 - val_tp: 254.0000 - val_fp: 40.0000 - val_tn: 6026.0000 - val_fn: 720.0000 - val_accuracy: 0.8920 - val_precision: 0.8639 - val_recall: 0.2608 - val_auc: 0.7812\n",
      "Epoch 57/100\n",
      "28160/28160 [==============================] - 0s 6us/sample - loss: 0.3292 - tp: 927.0000 - fp: 203.0000 - tn: 23978.0000 - fn: 3052.0000 - accuracy: 0.8844 - precision: 0.8204 - recall: 0.2330 - auc: 0.7529 - val_loss: 0.3103 - val_tp: 255.0000 - val_fp: 39.0000 - val_tn: 6027.0000 - val_fn: 719.0000 - val_accuracy: 0.8923 - val_precision: 0.8673 - val_recall: 0.2618 - val_auc: 0.7817\n",
      "Epoch 58/100\n",
      "28160/28160 [==============================] - 0s 6us/sample - loss: 0.3301 - tp: 936.0000 - fp: 181.0000 - tn: 24000.0000 - fn: 3043.0000 - accuracy: 0.8855 - precision: 0.8380 - recall: 0.2352 - auc: 0.7492 - val_loss: 0.3097 - val_tp: 260.0000 - val_fp: 41.0000 - val_tn: 6025.0000 - val_fn: 714.0000 - val_accuracy: 0.8928 - val_precision: 0.8638 - val_recall: 0.2669 - val_auc: 0.7816\n",
      "Epoch 59/100\n",
      "28160/28160 [==============================] - 0s 7us/sample - loss: 0.3293 - tp: 940.0000 - fp: 194.0000 - tn: 23987.0000 - fn: 3039.0000 - accuracy: 0.8852 - precision: 0.8289 - recall: 0.2362 - auc: 0.7515 - val_loss: 0.3089 - val_tp: 257.0000 - val_fp: 39.0000 - val_tn: 6027.0000 - val_fn: 717.0000 - val_accuracy: 0.8926 - val_precision: 0.8682 - val_recall: 0.2639 - val_auc: 0.7851\n",
      "Epoch 60/100\n",
      "28160/28160 [==============================] - 0s 6us/sample - loss: 0.3276 - tp: 956.0000 - fp: 202.0000 - tn: 23979.0000 - fn: 3023.0000 - accuracy: 0.8855 - precision: 0.8256 - recall: 0.2403 - auc: 0.7569 - val_loss: 0.3096 - val_tp: 253.0000 - val_fp: 34.0000 - val_tn: 6032.0000 - val_fn: 721.0000 - val_accuracy: 0.8928 - val_precision: 0.8815 - val_recall: 0.2598 - val_auc: 0.7838\n",
      "Epoch 61/100\n",
      "28160/28160 [==============================] - 0s 6us/sample - loss: 0.3278 - tp: 973.0000 - fp: 236.0000 - tn: 23945.0000 - fn: 3006.0000 - accuracy: 0.8849 - precision: 0.8048 - recall: 0.2445 - auc: 0.7559 - val_loss: 0.3089 - val_tp: 255.0000 - val_fp: 36.0000 - val_tn: 6030.0000 - val_fn: 719.0000 - val_accuracy: 0.8928 - val_precision: 0.8763 - val_recall: 0.2618 - val_auc: 0.7847\n",
      "Epoch 62/100\n",
      "28160/28160 [==============================] - 0s 6us/sample - loss: 0.3273 - tp: 966.0000 - fp: 218.0000 - tn: 23963.0000 - fn: 3013.0000 - accuracy: 0.8853 - precision: 0.8159 - recall: 0.2428 - auc: 0.7576 - val_loss: 0.3075 - val_tp: 257.0000 - val_fp: 39.0000 - val_tn: 6027.0000 - val_fn: 717.0000 - val_accuracy: 0.8926 - val_precision: 0.8682 - val_recall: 0.2639 - val_auc: 0.7866\n",
      "Epoch 63/100\n",
      "28160/28160 [==============================] - 0s 6us/sample - loss: 0.3288 - tp: 948.0000 - fp: 187.0000 - tn: 23994.0000 - fn: 3031.0000 - accuracy: 0.8857 - precision: 0.8352 - recall: 0.2383 - auc: 0.7535 - val_loss: 0.3078 - val_tp: 260.0000 - val_fp: 42.0000 - val_tn: 6024.0000 - val_fn: 714.0000 - val_accuracy: 0.8926 - val_precision: 0.8609 - val_recall: 0.2669 - val_auc: 0.7852\n",
      "Epoch 64/100\n",
      "28160/28160 [==============================] - 0s 6us/sample - loss: 0.3295 - tp: 926.0000 - fp: 172.0000 - tn: 24009.0000 - fn: 3053.0000 - accuracy: 0.8855 - precision: 0.8434 - recall: 0.2327 - auc: 0.7510 - val_loss: 0.3081 - val_tp: 258.0000 - val_fp: 39.0000 - val_tn: 6027.0000 - val_fn: 716.0000 - val_accuracy: 0.8928 - val_precision: 0.8687 - val_recall: 0.2649 - val_auc: 0.7850\n",
      "Epoch 65/100\n",
      "28160/28160 [==============================] - 0s 6us/sample - loss: 0.3251 - tp: 965.0000 - fp: 196.0000 - tn: 23985.0000 - fn: 3014.0000 - accuracy: 0.8860 - precision: 0.8312 - recall: 0.2425 - auc: 0.7594 - val_loss: 0.3075 - val_tp: 257.0000 - val_fp: 35.0000 - val_tn: 6031.0000 - val_fn: 717.0000 - val_accuracy: 0.8932 - val_precision: 0.8801 - val_recall: 0.2639 - val_auc: 0.7882\n",
      "Epoch 66/100\n",
      "28160/28160 [==============================] - 0s 6us/sample - loss: 0.3253 - tp: 977.0000 - fp: 194.0000 - tn: 23987.0000 - fn: 3002.0000 - accuracy: 0.8865 - precision: 0.8343 - recall: 0.2455 - auc: 0.7616 - val_loss: 0.3071 - val_tp: 256.0000 - val_fp: 37.0000 - val_tn: 6029.0000 - val_fn: 718.0000 - val_accuracy: 0.8928 - val_precision: 0.8737 - val_recall: 0.2628 - val_auc: 0.7884\n",
      "Epoch 67/100\n",
      "28160/28160 [==============================] - 0s 6us/sample - loss: 0.3248 - tp: 993.0000 - fp: 213.0000 - tn: 23968.0000 - fn: 2986.0000 - accuracy: 0.8864 - precision: 0.8234 - recall: 0.2496 - auc: 0.7621 - val_loss: 0.3060 - val_tp: 261.0000 - val_fp: 40.0000 - val_tn: 6026.0000 - val_fn: 713.0000 - val_accuracy: 0.8930 - val_precision: 0.8671 - val_recall: 0.2680 - val_auc: 0.7887\n",
      "Epoch 68/100\n",
      "28160/28160 [==============================] - 0s 5us/sample - loss: 0.3279 - tp: 973.0000 - fp: 205.0000 - tn: 23976.0000 - fn: 3006.0000 - accuracy: 0.8860 - precision: 0.8260 - recall: 0.2445 - auc: 0.7564 - val_loss: 0.3056 - val_tp: 262.0000 - val_fp: 40.0000 - val_tn: 6026.0000 - val_fn: 712.0000 - val_accuracy: 0.8932 - val_precision: 0.8675 - val_recall: 0.2690 - val_auc: 0.7910\n",
      "Epoch 69/100\n",
      "28160/28160 [==============================] - 0s 6us/sample - loss: 0.3248 - tp: 974.0000 - fp: 189.0000 - tn: 23992.0000 - fn: 3005.0000 - accuracy: 0.8866 - precision: 0.8375 - recall: 0.2448 - auc: 0.7593 - val_loss: 0.3061 - val_tp: 262.0000 - val_fp: 39.0000 - val_tn: 6027.0000 - val_fn: 712.0000 - val_accuracy: 0.8933 - val_precision: 0.8704 - val_recall: 0.2690 - val_auc: 0.7890\n",
      "Epoch 70/100\n",
      "28160/28160 [==============================] - 0s 6us/sample - loss: 0.3247 - tp: 1012.0000 - fp: 204.0000 - tn: 23977.0000 - fn: 2967.0000 - accuracy: 0.8874 - precision: 0.8322 - recall: 0.2543 - auc: 0.7617 - val_loss: 0.3048 - val_tp: 262.0000 - val_fp: 38.0000 - val_tn: 6028.0000 - val_fn: 712.0000 - val_accuracy: 0.8935 - val_precision: 0.8733 - val_recall: 0.2690 - val_auc: 0.7926\n",
      "Epoch 71/100\n",
      "28160/28160 [==============================] - 0s 6us/sample - loss: 0.3252 - tp: 979.0000 - fp: 195.0000 - tn: 23986.0000 - fn: 3000.0000 - accuracy: 0.8865 - precision: 0.8339 - recall: 0.2460 - auc: 0.7608 - val_loss: 0.3047 - val_tp: 262.0000 - val_fp: 36.0000 - val_tn: 6030.0000 - val_fn: 712.0000 - val_accuracy: 0.8938 - val_precision: 0.8792 - val_recall: 0.2690 - val_auc: 0.7918\n",
      "Epoch 72/100\n",
      "28160/28160 [==============================] - 0s 6us/sample - loss: 0.3234 - tp: 992.0000 - fp: 214.0000 - tn: 23967.0000 - fn: 2987.0000 - accuracy: 0.8863 - precision: 0.8226 - recall: 0.2493 - auc: 0.7645 - val_loss: 0.3043 - val_tp: 264.0000 - val_fp: 37.0000 - val_tn: 6029.0000 - val_fn: 710.0000 - val_accuracy: 0.8939 - val_precision: 0.8771 - val_recall: 0.2710 - val_auc: 0.7929\n",
      "Epoch 73/100\n",
      "28160/28160 [==============================] - 0s 6us/sample - loss: 0.3238 - tp: 979.0000 - fp: 204.0000 - tn: 23977.0000 - fn: 3000.0000 - accuracy: 0.8862 - precision: 0.8276 - recall: 0.2460 - auc: 0.7657 - val_loss: 0.3040 - val_tp: 267.0000 - val_fp: 43.0000 - val_tn: 6023.0000 - val_fn: 707.0000 - val_accuracy: 0.8935 - val_precision: 0.8613 - val_recall: 0.2741 - val_auc: 0.7925\n",
      "Epoch 74/100\n",
      "28160/28160 [==============================] - 0s 6us/sample - loss: 0.3230 - tp: 1000.0000 - fp: 210.0000 - tn: 23971.0000 - fn: 2979.0000 - accuracy: 0.8868 - precision: 0.8264 - recall: 0.2513 - auc: 0.7628 - val_loss: 0.3039 - val_tp: 262.0000 - val_fp: 38.0000 - val_tn: 6028.0000 - val_fn: 712.0000 - val_accuracy: 0.8935 - val_precision: 0.8733 - val_recall: 0.2690 - val_auc: 0.7944\n",
      "Epoch 75/100\n",
      "28160/28160 [==============================] - 0s 6us/sample - loss: 0.3249 - tp: 974.0000 - fp: 204.0000 - tn: 23977.0000 - fn: 3005.0000 - accuracy: 0.8860 - precision: 0.8268 - recall: 0.2448 - auc: 0.7618 - val_loss: 0.3039 - val_tp: 261.0000 - val_fp: 38.0000 - val_tn: 6028.0000 - val_fn: 713.0000 - val_accuracy: 0.8933 - val_precision: 0.8729 - val_recall: 0.2680 - val_auc: 0.7934\n",
      "Epoch 76/100\n",
      "28160/28160 [==============================] - 0s 6us/sample - loss: 0.3231 - tp: 989.0000 - fp: 166.0000 - tn: 24015.0000 - fn: 2990.0000 - accuracy: 0.8879 - precision: 0.8563 - recall: 0.2486 - auc: 0.7623 - val_loss: 0.3028 - val_tp: 263.0000 - val_fp: 42.0000 - val_tn: 6024.0000 - val_fn: 711.0000 - val_accuracy: 0.8930 - val_precision: 0.8623 - val_recall: 0.2700 - val_auc: 0.7944\n",
      "Epoch 77/100\n",
      "28160/28160 [==============================] - 0s 6us/sample - loss: 0.3233 - tp: 1027.0000 - fp: 219.0000 - tn: 23962.0000 - fn: 2952.0000 - accuracy: 0.8874 - precision: 0.8242 - recall: 0.2581 - auc: 0.7638 - val_loss: 0.3031 - val_tp: 263.0000 - val_fp: 39.0000 - val_tn: 6027.0000 - val_fn: 711.0000 - val_accuracy: 0.8935 - val_precision: 0.8709 - val_recall: 0.2700 - val_auc: 0.7953\n",
      "Epoch 78/100\n",
      "28160/28160 [==============================] - 0s 6us/sample - loss: 0.3227 - tp: 989.0000 - fp: 203.0000 - tn: 23978.0000 - fn: 2990.0000 - accuracy: 0.8866 - precision: 0.8297 - recall: 0.2486 - auc: 0.7656 - val_loss: 0.3031 - val_tp: 272.0000 - val_fp: 46.0000 - val_tn: 6020.0000 - val_fn: 702.0000 - val_accuracy: 0.8938 - val_precision: 0.8553 - val_recall: 0.2793 - val_auc: 0.7922\n",
      "Epoch 79/100\n",
      "28160/28160 [==============================] - 0s 6us/sample - loss: 0.3204 - tp: 1025.0000 - fp: 217.0000 - tn: 23964.0000 - fn: 2954.0000 - accuracy: 0.8874 - precision: 0.8253 - recall: 0.2576 - auc: 0.7701 - val_loss: 0.3019 - val_tp: 270.0000 - val_fp: 45.0000 - val_tn: 6021.0000 - val_fn: 704.0000 - val_accuracy: 0.8936 - val_precision: 0.8571 - val_recall: 0.2772 - val_auc: 0.7966\n",
      "Epoch 80/100\n",
      "28160/28160 [==============================] - 0s 6us/sample - loss: 0.3228 - tp: 1025.0000 - fp: 224.0000 - tn: 23957.0000 - fn: 2954.0000 - accuracy: 0.8871 - precision: 0.8207 - recall: 0.2576 - auc: 0.7661 - val_loss: 0.3030 - val_tp: 264.0000 - val_fp: 38.0000 - val_tn: 6028.0000 - val_fn: 710.0000 - val_accuracy: 0.8938 - val_precision: 0.8742 - val_recall: 0.2710 - val_auc: 0.7958\n",
      "Epoch 81/100\n"
     ]
    },
    {
     "name": "stdout",
     "output_type": "stream",
     "text": [
      "28160/28160 [==============================] - 0s 6us/sample - loss: 0.3213 - tp: 1054.0000 - fp: 197.0000 - tn: 23984.0000 - fn: 2925.0000 - accuracy: 0.8891 - precision: 0.8425 - recall: 0.2649 - auc: 0.7680 - val_loss: 0.3013 - val_tp: 267.0000 - val_fp: 41.0000 - val_tn: 6025.0000 - val_fn: 707.0000 - val_accuracy: 0.8938 - val_precision: 0.8669 - val_recall: 0.2741 - val_auc: 0.7983\n",
      "Epoch 82/100\n",
      "28160/28160 [==============================] - 0s 6us/sample - loss: 0.3210 - tp: 1015.0000 - fp: 193.0000 - tn: 23988.0000 - fn: 2964.0000 - accuracy: 0.8879 - precision: 0.8402 - recall: 0.2551 - auc: 0.7701 - val_loss: 0.3006 - val_tp: 277.0000 - val_fp: 47.0000 - val_tn: 6019.0000 - val_fn: 697.0000 - val_accuracy: 0.8943 - val_precision: 0.8549 - val_recall: 0.2844 - val_auc: 0.7984\n",
      "Epoch 83/100\n",
      "28160/28160 [==============================] - 0s 6us/sample - loss: 0.3196 - tp: 1060.0000 - fp: 214.0000 - tn: 23967.0000 - fn: 2919.0000 - accuracy: 0.8887 - precision: 0.8320 - recall: 0.2664 - auc: 0.7731 - val_loss: 0.3005 - val_tp: 269.0000 - val_fp: 38.0000 - val_tn: 6028.0000 - val_fn: 705.0000 - val_accuracy: 0.8945 - val_precision: 0.8762 - val_recall: 0.2762 - val_auc: 0.7981\n",
      "Epoch 84/100\n",
      "28160/28160 [==============================] - 0s 6us/sample - loss: 0.3208 - tp: 1002.0000 - fp: 168.0000 - tn: 24013.0000 - fn: 2977.0000 - accuracy: 0.8883 - precision: 0.8564 - recall: 0.2518 - auc: 0.7726 - val_loss: 0.3006 - val_tp: 276.0000 - val_fp: 48.0000 - val_tn: 6018.0000 - val_fn: 698.0000 - val_accuracy: 0.8940 - val_precision: 0.8519 - val_recall: 0.2834 - val_auc: 0.7989\n",
      "Epoch 85/100\n",
      "28160/28160 [==============================] - 0s 6us/sample - loss: 0.3219 - tp: 998.0000 - fp: 210.0000 - tn: 23971.0000 - fn: 2981.0000 - accuracy: 0.8867 - precision: 0.8262 - recall: 0.2508 - auc: 0.7685 - val_loss: 0.3015 - val_tp: 278.0000 - val_fp: 48.0000 - val_tn: 6018.0000 - val_fn: 696.0000 - val_accuracy: 0.8943 - val_precision: 0.8528 - val_recall: 0.2854 - val_auc: 0.7973\n",
      "Epoch 86/100\n",
      "28160/28160 [==============================] - 0s 6us/sample - loss: 0.3207 - tp: 1024.0000 - fp: 212.0000 - tn: 23969.0000 - fn: 2955.0000 - accuracy: 0.8875 - precision: 0.8285 - recall: 0.2574 - auc: 0.7668 - val_loss: 0.3007 - val_tp: 274.0000 - val_fp: 47.0000 - val_tn: 6019.0000 - val_fn: 700.0000 - val_accuracy: 0.8939 - val_precision: 0.8536 - val_recall: 0.2813 - val_auc: 0.7983\n",
      "Epoch 87/100\n",
      "28160/28160 [==============================] - 0s 6us/sample - loss: 0.3175 - tp: 1036.0000 - fp: 201.0000 - tn: 23980.0000 - fn: 2943.0000 - accuracy: 0.8884 - precision: 0.8375 - recall: 0.2604 - auc: 0.7749 - val_loss: 0.2995 - val_tp: 280.0000 - val_fp: 44.0000 - val_tn: 6022.0000 - val_fn: 694.0000 - val_accuracy: 0.8952 - val_precision: 0.8642 - val_recall: 0.2875 - val_auc: 0.8008\n",
      "Epoch 88/100\n",
      "28160/28160 [==============================] - 0s 7us/sample - loss: 0.3197 - tp: 1047.0000 - fp: 211.0000 - tn: 23970.0000 - fn: 2932.0000 - accuracy: 0.8884 - precision: 0.8323 - recall: 0.2631 - auc: 0.7723 - val_loss: 0.2999 - val_tp: 267.0000 - val_fp: 38.0000 - val_tn: 6028.0000 - val_fn: 707.0000 - val_accuracy: 0.8942 - val_precision: 0.8754 - val_recall: 0.2741 - val_auc: 0.8013\n",
      "Epoch 89/100\n",
      "28160/28160 [==============================] - 0s 6us/sample - loss: 0.3200 - tp: 1020.0000 - fp: 195.0000 - tn: 23986.0000 - fn: 2959.0000 - accuracy: 0.8880 - precision: 0.8395 - recall: 0.2563 - auc: 0.7705 - val_loss: 0.2998 - val_tp: 271.0000 - val_fp: 40.0000 - val_tn: 6026.0000 - val_fn: 703.0000 - val_accuracy: 0.8945 - val_precision: 0.8714 - val_recall: 0.2782 - val_auc: 0.8012\n",
      "Epoch 90/100\n",
      "28160/28160 [==============================] - 0s 6us/sample - loss: 0.3208 - tp: 1005.0000 - fp: 170.0000 - tn: 24011.0000 - fn: 2974.0000 - accuracy: 0.8884 - precision: 0.8553 - recall: 0.2526 - auc: 0.7716 - val_loss: 0.2999 - val_tp: 273.0000 - val_fp: 39.0000 - val_tn: 6027.0000 - val_fn: 701.0000 - val_accuracy: 0.8949 - val_precision: 0.8750 - val_recall: 0.2803 - val_auc: 0.8007\n",
      "Epoch 91/100\n",
      "28160/28160 [==============================] - 0s 6us/sample - loss: 0.3203 - tp: 1018.0000 - fp: 217.0000 - tn: 23964.0000 - fn: 2961.0000 - accuracy: 0.8871 - precision: 0.8243 - recall: 0.2558 - auc: 0.7750 - val_loss: 0.3001 - val_tp: 265.0000 - val_fp: 35.0000 - val_tn: 6031.0000 - val_fn: 709.0000 - val_accuracy: 0.8943 - val_precision: 0.8833 - val_recall: 0.2721 - val_auc: 0.8037\n",
      "Epoch 92/100\n",
      "28160/28160 [==============================] - 0s 6us/sample - loss: 0.3189 - tp: 1037.0000 - fp: 198.0000 - tn: 23983.0000 - fn: 2942.0000 - accuracy: 0.8885 - precision: 0.8397 - recall: 0.2606 - auc: 0.7753 - val_loss: 0.2992 - val_tp: 274.0000 - val_fp: 41.0000 - val_tn: 6025.0000 - val_fn: 700.0000 - val_accuracy: 0.8947 - val_precision: 0.8698 - val_recall: 0.2813 - val_auc: 0.8013\n",
      "Epoch 93/100\n",
      "28160/28160 [==============================] - 0s 6us/sample - loss: 0.3198 - tp: 1043.0000 - fp: 223.0000 - tn: 23958.0000 - fn: 2936.0000 - accuracy: 0.8878 - precision: 0.8239 - recall: 0.2621 - auc: 0.7740 - val_loss: 0.2977 - val_tp: 279.0000 - val_fp: 45.0000 - val_tn: 6021.0000 - val_fn: 695.0000 - val_accuracy: 0.8949 - val_precision: 0.8611 - val_recall: 0.2864 - val_auc: 0.8041\n",
      "Epoch 94/100\n",
      "28160/28160 [==============================] - 0s 7us/sample - loss: 0.3177 - tp: 1022.0000 - fp: 196.0000 - tn: 23985.0000 - fn: 2957.0000 - accuracy: 0.8880 - precision: 0.8391 - recall: 0.2568 - auc: 0.7768 - val_loss: 0.2979 - val_tp: 273.0000 - val_fp: 36.0000 - val_tn: 6030.0000 - val_fn: 701.0000 - val_accuracy: 0.8953 - val_precision: 0.8835 - val_recall: 0.2803 - val_auc: 0.8046\n",
      "Epoch 95/100\n",
      "28160/28160 [==============================] - 0s 7us/sample - loss: 0.3167 - tp: 1058.0000 - fp: 201.0000 - tn: 23980.0000 - fn: 2921.0000 - accuracy: 0.8891 - precision: 0.8403 - recall: 0.2659 - auc: 0.7768 - val_loss: 0.2982 - val_tp: 272.0000 - val_fp: 36.0000 - val_tn: 6030.0000 - val_fn: 702.0000 - val_accuracy: 0.8952 - val_precision: 0.8831 - val_recall: 0.2793 - val_auc: 0.8040\n",
      "Epoch 96/100\n",
      "28160/28160 [==============================] - 0s 7us/sample - loss: 0.3178 - tp: 1025.0000 - fp: 208.0000 - tn: 23973.0000 - fn: 2954.0000 - accuracy: 0.8877 - precision: 0.8313 - recall: 0.2576 - auc: 0.7785 - val_loss: 0.2975 - val_tp: 272.0000 - val_fp: 38.0000 - val_tn: 6028.0000 - val_fn: 702.0000 - val_accuracy: 0.8949 - val_precision: 0.8774 - val_recall: 0.2793 - val_auc: 0.8062\n",
      "Epoch 97/100\n",
      "28160/28160 [==============================] - 0s 7us/sample - loss: 0.3187 - tp: 1023.0000 - fp: 196.0000 - tn: 23985.0000 - fn: 2956.0000 - accuracy: 0.8881 - precision: 0.8392 - recall: 0.2571 - auc: 0.7771 - val_loss: 0.2981 - val_tp: 272.0000 - val_fp: 35.0000 - val_tn: 6031.0000 - val_fn: 702.0000 - val_accuracy: 0.8953 - val_precision: 0.8860 - val_recall: 0.2793 - val_auc: 0.8058\n",
      "Epoch 98/100\n",
      "28160/28160 [==============================] - 0s 6us/sample - loss: 0.3170 - tp: 1071.0000 - fp: 213.0000 - tn: 23968.0000 - fn: 2908.0000 - accuracy: 0.8892 - precision: 0.8341 - recall: 0.2692 - auc: 0.7758 - val_loss: 0.2972 - val_tp: 280.0000 - val_fp: 40.0000 - val_tn: 6026.0000 - val_fn: 694.0000 - val_accuracy: 0.8957 - val_precision: 0.8750 - val_recall: 0.2875 - val_auc: 0.8069\n",
      "Epoch 99/100\n",
      "28160/28160 [==============================] - 0s 6us/sample - loss: 0.3162 - tp: 1052.0000 - fp: 211.0000 - tn: 23970.0000 - fn: 2927.0000 - accuracy: 0.8886 - precision: 0.8329 - recall: 0.2644 - auc: 0.7809 - val_loss: 0.2970 - val_tp: 278.0000 - val_fp: 45.0000 - val_tn: 6021.0000 - val_fn: 696.0000 - val_accuracy: 0.8947 - val_precision: 0.8607 - val_recall: 0.2854 - val_auc: 0.8067\n",
      "Epoch 100/100\n",
      "28160/28160 [==============================] - 0s 7us/sample - loss: 0.3177 - tp: 1038.0000 - fp: 184.0000 - tn: 23997.0000 - fn: 2941.0000 - accuracy: 0.8890 - precision: 0.8494 - recall: 0.2609 - auc: 0.7748 - val_loss: 0.2968 - val_tp: 277.0000 - val_fp: 41.0000 - val_tn: 6025.0000 - val_fn: 697.0000 - val_accuracy: 0.8952 - val_precision: 0.8711 - val_recall: 0.2844 - val_auc: 0.8080\n"
     ]
    }
   ],
   "source": [
    "model = make_model()\n",
    "model.load_weights(initial_weights)\n",
    "baseline_history = model.fit(\n",
    "    train_features,\n",
    "    train_labels,\n",
    "    batch_size=BATCH_SIZE,\n",
    "    epochs=EPOCHS,\n",
    "    callbacks = [early_stopping],\n",
    "    validation_data=(val_features, val_labels))"
   ]
  },
  {
   "cell_type": "markdown",
   "metadata": {
    "id": "iSaDBYU9xtP6"
   },
   "source": [
    "### Check training history\n",
    "In this section, you will produce plots of your model's accuracy and loss on the training and validation set. These are useful to check for overfitting, which you can learn more about in this [tutorial](https://www.tensorflow.org/tutorials/keras/overfit_and_underfit).\n",
    "\n",
    "Additionally, you can produce these plots for any of the metrics you created above. False negatives are included as an example."
   ]
  },
  {
   "cell_type": "code",
   "execution_count": 1,
   "metadata": {
    "id": "WTSkhT1jyGu6"
   },
   "outputs": [],
   "source": [
    "def plot_metrics(history):\n",
    "  metrics =  ['loss', 'auc', 'precision', 'recall']\n",
    "  for n, metric in enumerate(metrics):\n",
    "    name = metric.replace(\"_\",\" \").capitalize()\n",
    "    plt.subplot(2,2,n+1)\n",
    "    plt.plot(history.epoch,  history.history[metric], color=colors[0], label='Train')\n",
    "    plt.plot(history.epoch, history.history['val_'+metric],\n",
    "             color=colors[0], linestyle=\"--\", label='Val')\n",
    "    plt.xlabel('Epoch')\n",
    "    plt.ylabel(name)\n",
    "    if metric == 'loss':\n",
    "      plt.ylim([0, plt.ylim()[1]])\n",
    "    elif metric == 'auc':\n",
    "      plt.ylim([0.8,1])\n",
    "    else:\n",
    "      plt.ylim([0,1])\n",
    "\n",
    "    plt.legend()\n"
   ]
  },
  {
   "cell_type": "code",
   "execution_count": 2,
   "metadata": {
    "id": "u6LReDsqlZlk"
   },
   "outputs": [
    {
     "ename": "NameError",
     "evalue": "name 'baseline_history' is not defined",
     "output_type": "error",
     "traceback": [
      "\u001b[1;31m---------------------------------------------------------------------------\u001b[0m",
      "\u001b[1;31mNameError\u001b[0m                                 Traceback (most recent call last)",
      "\u001b[1;32m<ipython-input-2-3e1192bd3ccd>\u001b[0m in \u001b[0;36m<module>\u001b[1;34m\u001b[0m\n\u001b[1;32m----> 1\u001b[1;33m \u001b[0mplot_metrics\u001b[0m\u001b[1;33m(\u001b[0m\u001b[0mbaseline_history\u001b[0m\u001b[1;33m)\u001b[0m\u001b[1;33m\u001b[0m\u001b[1;33m\u001b[0m\u001b[0m\n\u001b[0m",
      "\u001b[1;31mNameError\u001b[0m: name 'baseline_history' is not defined"
     ]
    }
   ],
   "source": [
    "plot_metrics(baseline_history)"
   ]
  },
  {
   "cell_type": "markdown",
   "metadata": {
    "id": "UCa4iWo6WDKR"
   },
   "source": [
    "Note: That the validation curve generally performs better than the training curve. This is mainly caused by the fact that the dropout layer is not active when evaluating the model."
   ]
  },
  {
   "cell_type": "markdown",
   "metadata": {
    "id": "aJC1booryouo"
   },
   "source": [
    "### Evaluate metrics\n",
    "\n",
    "You can use a [confusion matrix](https://developers.google.com/machine-learning/glossary/#confusion_matrix) to summarize the actual vs. predicted labels where the X axis is the predicted label and the Y axis is the actual label."
   ]
  },
  {
   "cell_type": "code",
   "execution_count": 37,
   "metadata": {
    "id": "aNS796IJKrev"
   },
   "outputs": [],
   "source": [
    "train_predictions_baseline = model.predict(train_features, batch_size=BATCH_SIZE)\n",
    "test_predictions_baseline = model.predict(test_features, batch_size=BATCH_SIZE)"
   ]
  },
  {
   "cell_type": "code",
   "execution_count": 38,
   "metadata": {},
   "outputs": [
    {
     "name": "stdout",
     "output_type": "stream",
     "text": [
      "0.8175549000865602\n",
      "[[7496   43]\n",
      " [ 916  345]]\n",
      "              precision    recall  f1-score   support\n",
      "\n",
      "           0       0.89      0.99      0.94      7539\n",
      "           1       0.89      0.27      0.42      1261\n",
      "\n",
      "    accuracy                           0.89      8800\n",
      "   macro avg       0.89      0.63      0.68      8800\n",
      "weighted avg       0.89      0.89      0.87      8800\n",
      "\n"
     ]
    }
   ],
   "source": [
    "fp, tp, _ = sklearn.metrics.roc_curve(test_labels, test_predictions_baseline)\n",
    "auc_score = auc(fp, tp)\n",
    "print(auc_score)\n",
    "\n",
    "print(confusion_matrix(test_labels, test_predictions_baseline > 0.5))\n",
    "print(classification_report(test_labels, test_predictions_baseline > 0.5))"
   ]
  },
  {
   "cell_type": "code",
   "execution_count": 39,
   "metadata": {
    "id": "MVWBGfADwbWI"
   },
   "outputs": [],
   "source": [
    "def plot_cm(labels, predictions, p=0.5):\n",
    "  cm = confusion_matrix(labels, predictions > p)\n",
    "  plt.figure(figsize=(5,5))\n",
    "  sns.heatmap(cm, annot=True, fmt=\"d\")\n",
    "  plt.title('Confusion matrix @{:.2f}'.format(p))\n",
    "  plt.ylabel('Actual label')\n",
    "  plt.xlabel('Predicted label')\n",
    "\n",
    "  print('Legitimate Transactions Detected (True Negatives): ', cm[0][0])\n",
    "  print('Legitimate Transactions Incorrectly Detected (False Positives): ', cm[0][1])\n",
    "  print('Fraudulent Transactions Missed (False Negatives): ', cm[1][0])\n",
    "  print('Fraudulent Transactions Detected (True Positives): ', cm[1][1])\n",
    "  print('Total Fraudulent Transactions: ', np.sum(cm[1]))"
   ]
  },
  {
   "cell_type": "markdown",
   "metadata": {
    "id": "nOTjD5Z5Wp1U"
   },
   "source": [
    "Evaluate your model on the test dataset and display the results for the metrics you created above."
   ]
  },
  {
   "cell_type": "code",
   "execution_count": 40,
   "metadata": {
    "id": "poh_hZngt2_9"
   },
   "outputs": [
    {
     "name": "stdout",
     "output_type": "stream",
     "text": [
      "loss :  0.3028410661220551\n",
      "tp :  345.0\n",
      "fp :  43.0\n",
      "tn :  7496.0\n",
      "fn :  916.0\n",
      "accuracy :  0.89102274\n",
      "precision :  0.88917524\n",
      "recall :  0.27359238\n",
      "auc :  0.81796\n",
      "\n",
      "Legitimate Transactions Detected (True Negatives):  7496\n",
      "Legitimate Transactions Incorrectly Detected (False Positives):  43\n",
      "Fraudulent Transactions Missed (False Negatives):  916\n",
      "Fraudulent Transactions Detected (True Positives):  345\n",
      "Total Fraudulent Transactions:  1261\n"
     ]
    },
    {
     "data": {
      "image/png": "[encoded data removed]",
      "text/plain": [
       "<Figure size 360x360 with 2 Axes>"
      ]
     },
     "metadata": {
      "needs_background": "light"
     },
     "output_type": "display_data"
    }
   ],
   "source": [
    "baseline_results = model.evaluate(test_features, test_labels,\n",
    "                                  batch_size=BATCH_SIZE, verbose=0)\n",
    "for name, value in zip(model.metrics_names, baseline_results):\n",
    "  print(name, ': ', value)\n",
    "print()\n",
    "\n",
    "plot_cm(test_labels, test_predictions_baseline)"
   ]
  },
  {
   "cell_type": "markdown",
   "metadata": {
    "id": "PyZtSr1v6L4t"
   },
   "source": [
    "If the model had predicted everything perfectly, this would be a [diagonal matrix](https://en.wikipedia.org/wiki/Diagonal_matrix) where values off the main diagonal, indicating incorrect predictions, would be zero. In this case the matrix shows that you have relatively few false positives, meaning that there were relatively few legitimate transactions that were incorrectly flagged. However, you would likely want to have even fewer false negatives despite the cost of increasing the number of false positives. This trade off may be preferable because false negatives would allow fraudulent transactions to go through, whereas false positives may cause an email to be sent to a customer to ask them to verify their card activity."
   ]
  },
  {
   "cell_type": "markdown",
   "metadata": {
    "id": "P-QpQsip_F2Q"
   },
   "source": [
    "### Plot the ROC\n",
    "\n",
    "Now plot the [ROC](https://developers.google.com/machine-learning/glossary#ROC). This plot is useful because it shows, at a glance, the range of performance the model can reach just by tuning the output threshold."
   ]
  },
  {
   "cell_type": "code",
   "execution_count": 41,
   "metadata": {
    "id": "lhaxsLSvANF9"
   },
   "outputs": [],
   "source": [
    "def plot_roc(name, labels, predictions, **kwargs):\n",
    "  fp, tp, _ = sklearn.metrics.roc_curve(labels, predictions)\n",
    "\n",
    "  plt.plot(100*fp, 100*tp, label=name, linewidth=2, **kwargs)\n",
    "  plt.xlabel('False positives [%]')\n",
    "  plt.ylabel('True positives [%]')\n",
    "  plt.xlim([-0.5,100.5])\n",
    "  plt.ylim([-0.5,100.5])\n",
    "  plt.grid(True)\n",
    "  ax = plt.gca()\n",
    "  ax.set_aspect('equal')"
   ]
  },
  {
   "cell_type": "code",
   "execution_count": 42,
   "metadata": {
    "id": "DfHHspttKJE0"
   },
   "outputs": [
    {
     "data": {
      "text/plain": [
       "<matplotlib.legend.Legend at 0x23790b3d948>"
      ]
     },
     "execution_count": 42,
     "metadata": {},
     "output_type": "execute_result"
    },
    {
     "data": {
      "image/png": "[encoded data removed]",
      "text/plain": [
       "<Figure size 864x720 with 1 Axes>"
      ]
     },
     "metadata": {
      "needs_background": "light"
     },
     "output_type": "display_data"
    }
   ],
   "source": [
    "plot_roc(\"Train Baseline\", train_labels, train_predictions_baseline, color=colors[0])\n",
    "plot_roc(\"Test Baseline\", test_labels, test_predictions_baseline, color=colors[0], linestyle='--')\n",
    "plt.legend(loc='lower right')"
   ]
  },
  {
   "cell_type": "markdown",
   "metadata": {},
   "source": [
    "### Save this model"
   ]
  },
  {
   "cell_type": "code",
   "execution_count": 43,
   "metadata": {},
   "outputs": [
    {
     "name": "stdout",
     "output_type": "stream",
     "text": [
      "WARNING:tensorflow:From C:\\Users\\ttr\\Anaconda3\\envs\\july\\lib\\site-packages\\tensorflow_core\\python\\ops\\resource_variable_ops.py:1786: calling BaseResourceVariable.__init__ (from tensorflow.python.ops.resource_variable_ops) with constraint is deprecated and will be removed in a future version.\n",
      "Instructions for updating:\n",
      "If using Keras pass *_constraint arguments to layers.\n",
      "INFO:tensorflow:Assets written to: models/keras_classifier/no_weight_model_highprecision_lowrecall\\assets\n"
     ]
    }
   ],
   "source": [
    "# Save model\n",
    "filename = 'models/keras_classifier/no_weight_model_highprecision_lowrecall'\n",
    "model.save(filename)"
   ]
  },
  {
   "cell_type": "markdown",
   "metadata": {
    "id": "gpdsFyp64DhY"
   },
   "source": [
    "It looks like the precision is relatively high, but the recall and the area under the ROC curve (AUC) aren't as high as you might like. Classifiers often face challenges when trying to maximize both precision and recall, which is especially true when working with imbalanced datasets. It is important to consider the costs of different types of errors in the context of the problem you care about. In this example, a false negative (a fraudulent transaction is missed) may have a financial cost, while a false positive (a transaction is incorrectly flagged as fraudulent) may decrease user happiness."
   ]
  },
  {
   "cell_type": "markdown",
   "metadata": {
    "id": "cveQoiMyGQCo"
   },
   "source": [
    "## Class weights"
   ]
  },
  {
   "cell_type": "markdown",
   "metadata": {
    "id": "ePGp6GUE1WfH"
   },
   "source": [
    "### Calculate class weights\n",
    "\n",
    "The goal is to identify fraudulent transactions, but you don't have very many of those positive samples to work with, so you would want to have the classifier heavily weight the few examples that are available. You can do this by passing Keras weights for each class through a parameter. These will cause the model to \"pay more attention\" to examples from an under-represented class."
   ]
  },
  {
   "cell_type": "code",
   "execution_count": 44,
   "metadata": {
    "id": "qjGWErngGny7"
   },
   "outputs": [
    {
     "name": "stdout",
     "output_type": "stream",
     "text": [
      "Weight for class 0: 0.58\n",
      "Weight for class 1: 3.54\n"
     ]
    }
   ],
   "source": [
    "# Scaling by total/2 helps keep the loss to a similar magnitude.\n",
    "# The sum of the weights of all examples stays the same.\n",
    "weight_for_0 = (1 / neg)*(total)/2.0 \n",
    "weight_for_1 = (1 / pos)*(total)/2.0\n",
    "\n",
    "class_weight = {0: weight_for_0, 1: weight_for_1}\n",
    "\n",
    "print('Weight for class 0: {:.2f}'.format(weight_for_0))\n",
    "print('Weight for class 1: {:.2f}'.format(weight_for_1))"
   ]
  },
  {
   "cell_type": "markdown",
   "metadata": {
    "id": "Mk1OOE2ZSHzy"
   },
   "source": [
    "### Train a model with class weights\n",
    "\n",
    "Now try re-training and evaluating the model with class weights to see how that affects the predictions.\n",
    "\n",
    "Note: Using `class_weights` changes the range of the loss. This may affect the stability of the training depending on the optimizer. Optimizers whose step size is dependent on the magnitude of the gradient, like `optimizers.SGD`, may fail. The optimizer used here, `optimizers.Adam`, is unaffected by the scaling change. Also note that because of the weighting, the total losses are not comparable between the two models."
   ]
  },
  {
   "cell_type": "code",
   "execution_count": 45,
   "metadata": {
    "id": "UJ589fn8ST3x"
   },
   "outputs": [
    {
     "name": "stdout",
     "output_type": "stream",
     "text": [
      "WARNING:tensorflow:sample_weight modes were coerced from\n",
      "  ...\n",
      "    to  \n",
      "  ['...']\n",
      "WARNING:tensorflow:sample_weight modes were coerced from\n",
      "  ...\n",
      "    to  \n",
      "  ['...']\n",
      "Train on 28160 samples, validate on 7040 samples\n",
      "Epoch 1/100\n",
      "28160/28160 [==============================] - 2s 82us/sample - loss: 3.7095 - tp: 1609.0000 - fp: 8391.0000 - tn: 15790.0000 - fn: 2370.0000 - accuracy: 0.6179 - precision: 0.1609 - recall: 0.4044 - auc: 0.5195 - val_loss: 1.4346 - val_tp: 603.0000 - val_fp: 2846.0000 - val_tn: 3220.0000 - val_fn: 371.0000 - val_accuracy: 0.5430 - val_precision: 0.1748 - val_recall: 0.6191 - val_auc: 0.5980\n",
      "Epoch 2/100\n",
      "28160/28160 [==============================] - 0s 5us/sample - loss: 2.4757 - tp: 2130.0000 - fp: 10921.0000 - tn: 13260.0000 - fn: 1849.0000 - accuracy: 0.5465 - precision: 0.1632 - recall: 0.5353 - auc: 0.5503 - val_loss: 1.1401 - val_tp: 566.0000 - val_fp: 2367.0000 - val_tn: 3699.0000 - val_fn: 408.0000 - val_accuracy: 0.6058 - val_precision: 0.1930 - val_recall: 0.5811 - val_auc: 0.6168\n",
      "Epoch 3/100\n",
      "28160/28160 [==============================] - 0s 5us/sample - loss: 1.6309 - tp: 1859.0000 - fp: 8537.0000 - tn: 15644.0000 - fn: 2120.0000 - accuracy: 0.6216 - precision: 0.1788 - recall: 0.4672 - auc: 0.5671 - val_loss: 0.8584 - val_tp: 479.0000 - val_fp: 1557.0000 - val_tn: 4509.0000 - val_fn: 495.0000 - val_accuracy: 0.7085 - val_precision: 0.2353 - val_recall: 0.4918 - val_auc: 0.6404\n",
      "Epoch 4/100\n",
      "28160/28160 [==============================] - 0s 5us/sample - loss: 1.1659 - tp: 1747.0000 - fp: 6809.0000 - tn: 17372.0000 - fn: 2232.0000 - accuracy: 0.6789 - precision: 0.2042 - recall: 0.4391 - auc: 0.5979 - val_loss: 0.7725 - val_tp: 450.0000 - val_fp: 1216.0000 - val_tn: 4850.0000 - val_fn: 524.0000 - val_accuracy: 0.7528 - val_precision: 0.2701 - val_recall: 0.4620 - val_auc: 0.6582\n",
      "Epoch 5/100\n",
      "28160/28160 [==============================] - 0s 6us/sample - loss: 0.9588 - tp: 1710.0000 - fp: 5843.0000 - tn: 18338.0000 - fn: 2269.0000 - accuracy: 0.7119 - precision: 0.2264 - recall: 0.4298 - auc: 0.6165 - val_loss: 0.7151 - val_tp: 413.0000 - val_fp: 964.0000 - val_tn: 5102.0000 - val_fn: 561.0000 - val_accuracy: 0.7834 - val_precision: 0.2999 - val_recall: 0.4240 - val_auc: 0.6716\n",
      "Epoch 6/100\n",
      "28160/28160 [==============================] - 0s 6us/sample - loss: 0.8734 - tp: 1576.0000 - fp: 4996.0000 - tn: 19185.0000 - fn: 2403.0000 - accuracy: 0.7373 - precision: 0.2398 - recall: 0.3961 - auc: 0.6189 - val_loss: 0.6880 - val_tp: 400.0000 - val_fp: 870.0000 - val_tn: 5196.0000 - val_fn: 574.0000 - val_accuracy: 0.7949 - val_precision: 0.3150 - val_recall: 0.4107 - val_auc: 0.6780\n",
      "Epoch 7/100\n",
      "28160/28160 [==============================] - 0s 6us/sample - loss: 0.8181 - tp: 1712.0000 - fp: 5539.0000 - tn: 18642.0000 - fn: 2267.0000 - accuracy: 0.7228 - precision: 0.2361 - recall: 0.4303 - auc: 0.6286 - val_loss: 0.6676 - val_tp: 425.0000 - val_fp: 925.0000 - val_tn: 5141.0000 - val_fn: 549.0000 - val_accuracy: 0.7906 - val_precision: 0.3148 - val_recall: 0.4363 - val_auc: 0.6879\n",
      "Epoch 8/100\n",
      "28160/28160 [==============================] - 0s 6us/sample - loss: 0.7883 - tp: 1635.0000 - fp: 4993.0000 - tn: 19188.0000 - fn: 2344.0000 - accuracy: 0.7395 - precision: 0.2467 - recall: 0.4109 - auc: 0.6336 - val_loss: 0.6543 - val_tp: 428.0000 - val_fp: 888.0000 - val_tn: 5178.0000 - val_fn: 546.0000 - val_accuracy: 0.7963 - val_precision: 0.3252 - val_recall: 0.4394 - val_auc: 0.6963\n",
      "Epoch 9/100\n",
      "28160/28160 [==============================] - 0s 5us/sample - loss: 0.7750 - tp: 1654.0000 - fp: 5053.0000 - tn: 19128.0000 - fn: 2325.0000 - accuracy: 0.7380 - precision: 0.2466 - recall: 0.4157 - auc: 0.6308 - val_loss: 0.6487 - val_tp: 398.0000 - val_fp: 796.0000 - val_tn: 5270.0000 - val_fn: 576.0000 - val_accuracy: 0.8051 - val_precision: 0.3333 - val_recall: 0.4086 - val_auc: 0.7004\n",
      "Epoch 10/100\n",
      "28160/28160 [==============================] - 0s 5us/sample - loss: 0.7399 - tp: 1695.0000 - fp: 4798.0000 - tn: 19383.0000 - fn: 2284.0000 - accuracy: 0.7485 - precision: 0.2611 - recall: 0.4260 - auc: 0.6490 - val_loss: 0.6388 - val_tp: 405.0000 - val_fp: 799.0000 - val_tn: 5267.0000 - val_fn: 569.0000 - val_accuracy: 0.8057 - val_precision: 0.3364 - val_recall: 0.4158 - val_auc: 0.7063\n",
      "Epoch 11/100\n",
      "28160/28160 [==============================] - 0s 5us/sample - loss: 0.7347 - tp: 1689.0000 - fp: 4552.0000 - tn: 19629.0000 - fn: 2290.0000 - accuracy: 0.7570 - precision: 0.2706 - recall: 0.4245 - auc: 0.6486 - val_loss: 0.6336 - val_tp: 406.0000 - val_fp: 744.0000 - val_tn: 5322.0000 - val_fn: 568.0000 - val_accuracy: 0.8136 - val_precision: 0.3530 - val_recall: 0.4168 - val_auc: 0.7104\n",
      "Epoch 12/100\n",
      "28160/28160 [==============================] - 0s 6us/sample - loss: 0.7314 - tp: 1663.0000 - fp: 4589.0000 - tn: 19592.0000 - fn: 2316.0000 - accuracy: 0.7548 - precision: 0.2660 - recall: 0.4179 - auc: 0.6410 - val_loss: 0.6264 - val_tp: 414.0000 - val_fp: 733.0000 - val_tn: 5333.0000 - val_fn: 560.0000 - val_accuracy: 0.8163 - val_precision: 0.3609 - val_recall: 0.4251 - val_auc: 0.7148\n",
      "Epoch 13/100\n",
      "28160/28160 [==============================] - 0s 5us/sample - loss: 0.7087 - tp: 1722.0000 - fp: 4540.0000 - tn: 19641.0000 - fn: 2257.0000 - accuracy: 0.7586 - precision: 0.2750 - recall: 0.4328 - auc: 0.6589 - val_loss: 0.6205 - val_tp: 421.0000 - val_fp: 771.0000 - val_tn: 5295.0000 - val_fn: 553.0000 - val_accuracy: 0.8119 - val_precision: 0.3532 - val_recall: 0.4322 - val_auc: 0.7188\n",
      "Epoch 14/100\n",
      "28160/28160 [==============================] - 0s 5us/sample - loss: 0.7056 - tp: 1762.0000 - fp: 4912.0000 - tn: 19269.0000 - fn: 2217.0000 - accuracy: 0.7468 - precision: 0.2640 - recall: 0.4428 - auc: 0.6578 - val_loss: 0.6147 - val_tp: 431.0000 - val_fp: 744.0000 - val_tn: 5322.0000 - val_fn: 543.0000 - val_accuracy: 0.8172 - val_precision: 0.3668 - val_recall: 0.4425 - val_auc: 0.7224\n",
      "Epoch 15/100\n",
      "28160/28160 [==============================] - 0s 5us/sample - loss: 0.6924 - tp: 1749.0000 - fp: 4424.0000 - tn: 19757.0000 - fn: 2230.0000 - accuracy: 0.7637 - precision: 0.2833 - recall: 0.4396 - auc: 0.6654 - val_loss: 0.6091 - val_tp: 455.0000 - val_fp: 764.0000 - val_tn: 5302.0000 - val_fn: 519.0000 - val_accuracy: 0.8178 - val_precision: 0.3733 - val_recall: 0.4671 - val_auc: 0.7253\n",
      "Epoch 16/100\n",
      "28160/28160 [==============================] - 0s 5us/sample - loss: 0.6909 - tp: 1749.0000 - fp: 4808.0000 - tn: 19373.0000 - fn: 2230.0000 - accuracy: 0.7501 - precision: 0.2667 - recall: 0.4396 - auc: 0.6608 - val_loss: 0.6079 - val_tp: 430.0000 - val_fp: 702.0000 - val_tn: 5364.0000 - val_fn: 544.0000 - val_accuracy: 0.8230 - val_precision: 0.3799 - val_recall: 0.4415 - val_auc: 0.7279\n",
      "Epoch 17/100\n",
      "28160/28160 [==============================] - 0s 5us/sample - loss: 0.6823 - tp: 1747.0000 - fp: 4514.0000 - tn: 19667.0000 - fn: 2232.0000 - accuracy: 0.7604 - precision: 0.2790 - recall: 0.4391 - auc: 0.6654 - val_loss: 0.6024 - val_tp: 442.0000 - val_fp: 727.0000 - val_tn: 5339.0000 - val_fn: 532.0000 - val_accuracy: 0.8212 - val_precision: 0.3781 - val_recall: 0.4538 - val_auc: 0.7319\n",
      "Epoch 18/100\n",
      "28160/28160 [==============================] - 0s 6us/sample - loss: 0.6749 - tp: 1767.0000 - fp: 4353.0000 - tn: 19828.0000 - fn: 2212.0000 - accuracy: 0.7669 - precision: 0.2887 - recall: 0.4441 - auc: 0.6723 - val_loss: 0.5997 - val_tp: 448.0000 - val_fp: 740.0000 - val_tn: 5326.0000 - val_fn: 526.0000 - val_accuracy: 0.8202 - val_precision: 0.3771 - val_recall: 0.4600 - val_auc: 0.7335\n",
      "Epoch 19/100\n",
      "28160/28160 [==============================] - 0s 6us/sample - loss: 0.6696 - tp: 1804.0000 - fp: 4641.0000 - tn: 19540.0000 - fn: 2175.0000 - accuracy: 0.7580 - precision: 0.2799 - recall: 0.4534 - auc: 0.6746 - val_loss: 0.5991 - val_tp: 436.0000 - val_fp: 650.0000 - val_tn: 5416.0000 - val_fn: 538.0000 - val_accuracy: 0.8313 - val_precision: 0.4015 - val_recall: 0.4476 - val_auc: 0.7344\n",
      "Epoch 20/100\n",
      "28160/28160 [==============================] - 0s 6us/sample - loss: 0.6662 - tp: 1808.0000 - fp: 4262.0000 - tn: 19919.0000 - fn: 2171.0000 - accuracy: 0.7716 - precision: 0.2979 - recall: 0.4544 - auc: 0.6785 - val_loss: 0.5935 - val_tp: 454.0000 - val_fp: 751.0000 - val_tn: 5315.0000 - val_fn: 520.0000 - val_accuracy: 0.8195 - val_precision: 0.3768 - val_recall: 0.4661 - val_auc: 0.7393\n"
     ]
    },
    {
     "name": "stdout",
     "output_type": "stream",
     "text": [
      "Epoch 21/100\n",
      "28160/28160 [==============================] - 0s 6us/sample - loss: 0.6617 - tp: 1897.0000 - fp: 4605.0000 - tn: 19576.0000 - fn: 2082.0000 - accuracy: 0.7625 - precision: 0.2918 - recall: 0.4768 - auc: 0.6804 - val_loss: 0.5932 - val_tp: 441.0000 - val_fp: 688.0000 - val_tn: 5378.0000 - val_fn: 533.0000 - val_accuracy: 0.8266 - val_precision: 0.3906 - val_recall: 0.4528 - val_auc: 0.7407\n",
      "Epoch 22/100\n",
      "28160/28160 [==============================] - 0s 5us/sample - loss: 0.6472 - tp: 1868.0000 - fp: 4343.0000 - tn: 19838.0000 - fn: 2111.0000 - accuracy: 0.7708 - precision: 0.3008 - recall: 0.4695 - auc: 0.6965 - val_loss: 0.5898 - val_tp: 453.0000 - val_fp: 734.0000 - val_tn: 5332.0000 - val_fn: 521.0000 - val_accuracy: 0.8217 - val_precision: 0.3816 - val_recall: 0.4651 - val_auc: 0.7440\n",
      "Epoch 23/100\n",
      "28160/28160 [==============================] - 0s 5us/sample - loss: 0.6533 - tp: 1830.0000 - fp: 4335.0000 - tn: 19846.0000 - fn: 2149.0000 - accuracy: 0.7697 - precision: 0.2968 - recall: 0.4599 - auc: 0.6879 - val_loss: 0.5878 - val_tp: 448.0000 - val_fp: 654.0000 - val_tn: 5412.0000 - val_fn: 526.0000 - val_accuracy: 0.8324 - val_precision: 0.4065 - val_recall: 0.4600 - val_auc: 0.7459\n",
      "Epoch 24/100\n",
      "28160/28160 [==============================] - 0s 5us/sample - loss: 0.6485 - tp: 1907.0000 - fp: 4398.0000 - tn: 19783.0000 - fn: 2072.0000 - accuracy: 0.7702 - precision: 0.3025 - recall: 0.4793 - auc: 0.6915 - val_loss: 0.5858 - val_tp: 454.0000 - val_fp: 659.0000 - val_tn: 5407.0000 - val_fn: 520.0000 - val_accuracy: 0.8325 - val_precision: 0.4079 - val_recall: 0.4661 - val_auc: 0.7489\n",
      "Epoch 25/100\n",
      "28160/28160 [==============================] - 0s 5us/sample - loss: 0.6485 - tp: 1831.0000 - fp: 4232.0000 - tn: 19949.0000 - fn: 2148.0000 - accuracy: 0.7734 - precision: 0.3020 - recall: 0.4602 - auc: 0.6898 - val_loss: 0.5827 - val_tp: 462.0000 - val_fp: 690.0000 - val_tn: 5376.0000 - val_fn: 512.0000 - val_accuracy: 0.8293 - val_precision: 0.4010 - val_recall: 0.4743 - val_auc: 0.7515\n",
      "Epoch 26/100\n",
      "28160/28160 [==============================] - 0s 5us/sample - loss: 0.6477 - tp: 1838.0000 - fp: 4210.0000 - tn: 19971.0000 - fn: 2141.0000 - accuracy: 0.7745 - precision: 0.3039 - recall: 0.4619 - auc: 0.6839 - val_loss: 0.5807 - val_tp: 477.0000 - val_fp: 785.0000 - val_tn: 5281.0000 - val_fn: 497.0000 - val_accuracy: 0.8179 - val_precision: 0.3780 - val_recall: 0.4897 - val_auc: 0.7536\n",
      "Epoch 27/100\n",
      "28160/28160 [==============================] - 0s 6us/sample - loss: 0.6408 - tp: 1881.0000 - fp: 4012.0000 - tn: 20169.0000 - fn: 2098.0000 - accuracy: 0.7830 - precision: 0.3192 - recall: 0.4727 - auc: 0.6951 - val_loss: 0.5803 - val_tp: 461.0000 - val_fp: 645.0000 - val_tn: 5421.0000 - val_fn: 513.0000 - val_accuracy: 0.8355 - val_precision: 0.4168 - val_recall: 0.4733 - val_auc: 0.7558\n",
      "Epoch 28/100\n",
      "28160/28160 [==============================] - 0s 5us/sample - loss: 0.6384 - tp: 1931.0000 - fp: 4336.0000 - tn: 19845.0000 - fn: 2048.0000 - accuracy: 0.7733 - precision: 0.3081 - recall: 0.4853 - auc: 0.6958 - val_loss: 0.5778 - val_tp: 471.0000 - val_fp: 672.0000 - val_tn: 5394.0000 - val_fn: 503.0000 - val_accuracy: 0.8331 - val_precision: 0.4121 - val_recall: 0.4836 - val_auc: 0.7590\n",
      "Epoch 29/100\n",
      "28160/28160 [==============================] - 0s 5us/sample - loss: 0.6297 - tp: 1936.0000 - fp: 4213.0000 - tn: 19968.0000 - fn: 2043.0000 - accuracy: 0.7778 - precision: 0.3148 - recall: 0.4866 - auc: 0.7033 - val_loss: 0.5762 - val_tp: 472.0000 - val_fp: 670.0000 - val_tn: 5396.0000 - val_fn: 502.0000 - val_accuracy: 0.8335 - val_precision: 0.4133 - val_recall: 0.4846 - val_auc: 0.7600\n",
      "Epoch 30/100\n",
      "28160/28160 [==============================] - 0s 5us/sample - loss: 0.6284 - tp: 1894.0000 - fp: 4042.0000 - tn: 20139.0000 - fn: 2085.0000 - accuracy: 0.7824 - precision: 0.3191 - recall: 0.4760 - auc: 0.7082 - val_loss: 0.5745 - val_tp: 472.0000 - val_fp: 649.0000 - val_tn: 5417.0000 - val_fn: 502.0000 - val_accuracy: 0.8365 - val_precision: 0.4211 - val_recall: 0.4846 - val_auc: 0.7608\n",
      "Epoch 31/100\n",
      "28160/28160 [==============================] - 0s 5us/sample - loss: 0.6290 - tp: 1936.0000 - fp: 4256.0000 - tn: 19925.0000 - fn: 2043.0000 - accuracy: 0.7763 - precision: 0.3127 - recall: 0.4866 - auc: 0.7035 - val_loss: 0.5711 - val_tp: 479.0000 - val_fp: 677.0000 - val_tn: 5389.0000 - val_fn: 495.0000 - val_accuracy: 0.8335 - val_precision: 0.4144 - val_recall: 0.4918 - val_auc: 0.7647\n",
      "Epoch 32/100\n",
      "28160/28160 [==============================] - 0s 5us/sample - loss: 0.6222 - tp: 1917.0000 - fp: 3954.0000 - tn: 20227.0000 - fn: 2062.0000 - accuracy: 0.7864 - precision: 0.3265 - recall: 0.4818 - auc: 0.7122 - val_loss: 0.5705 - val_tp: 478.0000 - val_fp: 647.0000 - val_tn: 5419.0000 - val_fn: 496.0000 - val_accuracy: 0.8376 - val_precision: 0.4249 - val_recall: 0.4908 - val_auc: 0.7664\n",
      "Epoch 33/100\n",
      "28160/28160 [==============================] - 0s 5us/sample - loss: 0.6198 - tp: 1989.0000 - fp: 4142.0000 - tn: 20039.0000 - fn: 1990.0000 - accuracy: 0.7822 - precision: 0.3244 - recall: 0.4999 - auc: 0.7162 - val_loss: 0.5681 - val_tp: 483.0000 - val_fp: 664.0000 - val_tn: 5402.0000 - val_fn: 491.0000 - val_accuracy: 0.8359 - val_precision: 0.4211 - val_recall: 0.4959 - val_auc: 0.7680\n",
      "Epoch 34/100\n",
      "28160/28160 [==============================] - 0s 5us/sample - loss: 0.6150 - tp: 1965.0000 - fp: 3918.0000 - tn: 20263.0000 - fn: 2014.0000 - accuracy: 0.7893 - precision: 0.3340 - recall: 0.4938 - auc: 0.7146 - val_loss: 0.5670 - val_tp: 485.0000 - val_fp: 649.0000 - val_tn: 5417.0000 - val_fn: 489.0000 - val_accuracy: 0.8384 - val_precision: 0.4277 - val_recall: 0.4979 - val_auc: 0.7693\n",
      "Epoch 35/100\n",
      "28160/28160 [==============================] - 0s 5us/sample - loss: 0.6150 - tp: 1980.0000 - fp: 4037.0000 - tn: 20144.0000 - fn: 1999.0000 - accuracy: 0.7857 - precision: 0.3291 - recall: 0.4976 - auc: 0.7193 - val_loss: 0.5649 - val_tp: 489.0000 - val_fp: 650.0000 - val_tn: 5416.0000 - val_fn: 485.0000 - val_accuracy: 0.8388 - val_precision: 0.4293 - val_recall: 0.5021 - val_auc: 0.7717\n",
      "Epoch 36/100\n",
      "28160/28160 [==============================] - 0s 5us/sample - loss: 0.6206 - tp: 1951.0000 - fp: 4106.0000 - tn: 20075.0000 - fn: 2028.0000 - accuracy: 0.7822 - precision: 0.3221 - recall: 0.4903 - auc: 0.7107 - val_loss: 0.5640 - val_tp: 485.0000 - val_fp: 634.0000 - val_tn: 5432.0000 - val_fn: 489.0000 - val_accuracy: 0.8405 - val_precision: 0.4334 - val_recall: 0.4979 - val_auc: 0.7708\n",
      "Epoch 37/100\n",
      "28160/28160 [==============================] - 0s 5us/sample - loss: 0.6111 - tp: 2011.0000 - fp: 4078.0000 - tn: 20103.0000 - fn: 1968.0000 - accuracy: 0.7853 - precision: 0.3303 - recall: 0.5054 - auc: 0.7239 - val_loss: 0.5613 - val_tp: 490.0000 - val_fp: 641.0000 - val_tn: 5425.0000 - val_fn: 484.0000 - val_accuracy: 0.8402 - val_precision: 0.4332 - val_recall: 0.5031 - val_auc: 0.7745\n",
      "Epoch 38/100\n",
      "28160/28160 [==============================] - 0s 5us/sample - loss: 0.6110 - tp: 1983.0000 - fp: 3914.0000 - tn: 20267.0000 - fn: 1996.0000 - accuracy: 0.7901 - precision: 0.3363 - recall: 0.4984 - auc: 0.7200 - val_loss: 0.5606 - val_tp: 497.0000 - val_fp: 670.0000 - val_tn: 5396.0000 - val_fn: 477.0000 - val_accuracy: 0.8371 - val_precision: 0.4259 - val_recall: 0.5103 - val_auc: 0.7743\n",
      "Epoch 39/100\n",
      "28160/28160 [==============================] - 0s 5us/sample - loss: 0.6118 - tp: 1979.0000 - fp: 3827.0000 - tn: 20354.0000 - fn: 2000.0000 - accuracy: 0.7931 - precision: 0.3409 - recall: 0.4974 - auc: 0.7193 - val_loss: 0.5590 - val_tp: 504.0000 - val_fp: 677.0000 - val_tn: 5389.0000 - val_fn: 470.0000 - val_accuracy: 0.8371 - val_precision: 0.4268 - val_recall: 0.5175 - val_auc: 0.7754\n",
      "Epoch 40/100\n",
      "28160/28160 [==============================] - 0s 5us/sample - loss: 0.6062 - tp: 1988.0000 - fp: 3764.0000 - tn: 20417.0000 - fn: 1991.0000 - accuracy: 0.7956 - precision: 0.3456 - recall: 0.4996 - auc: 0.7288 - val_loss: 0.5573 - val_tp: 522.0000 - val_fp: 707.0000 - val_tn: 5359.0000 - val_fn: 452.0000 - val_accuracy: 0.8354 - val_precision: 0.4247 - val_recall: 0.5359 - val_auc: 0.7768\n",
      "Epoch 41/100\n",
      "28160/28160 [==============================] - 0s 5us/sample - loss: 0.5995 - tp: 2092.0000 - fp: 4141.0000 - tn: 20040.0000 - fn: 1887.0000 - accuracy: 0.7859 - precision: 0.3356 - recall: 0.5258 - auc: 0.7299 - val_loss: 0.5577 - val_tp: 500.0000 - val_fp: 606.0000 - val_tn: 5460.0000 - val_fn: 474.0000 - val_accuracy: 0.8466 - val_precision: 0.4521 - val_recall: 0.5133 - val_auc: 0.7779\n",
      "Epoch 42/100\n",
      "28160/28160 [==============================] - 0s 5us/sample - loss: 0.6027 - tp: 1971.0000 - fp: 3768.0000 - tn: 20413.0000 - fn: 2008.0000 - accuracy: 0.7949 - precision: 0.3434 - recall: 0.4954 - auc: 0.7280 - val_loss: 0.5558 - val_tp: 507.0000 - val_fp: 615.0000 - val_tn: 5451.0000 - val_fn: 467.0000 - val_accuracy: 0.8463 - val_precision: 0.4519 - val_recall: 0.5205 - val_auc: 0.7795\n",
      "Epoch 43/100\n",
      "28160/28160 [==============================] - 0s 5us/sample - loss: 0.6042 - tp: 2004.0000 - fp: 3876.0000 - tn: 20305.0000 - fn: 1975.0000 - accuracy: 0.7922 - precision: 0.3408 - recall: 0.5036 - auc: 0.7263 - val_loss: 0.5563 - val_tp: 483.0000 - val_fp: 552.0000 - val_tn: 5514.0000 - val_fn: 491.0000 - val_accuracy: 0.8518 - val_precision: 0.4667 - val_recall: 0.4959 - val_auc: 0.7805\n",
      "Epoch 44/100\n",
      "28160/28160 [==============================] - 0s 6us/sample - loss: 0.5954 - tp: 2057.0000 - fp: 3784.0000 - tn: 20397.0000 - fn: 1922.0000 - accuracy: 0.7974 - precision: 0.3522 - recall: 0.5170 - auc: 0.7335 - val_loss: 0.5532 - val_tp: 510.0000 - val_fp: 635.0000 - val_tn: 5431.0000 - val_fn: 464.0000 - val_accuracy: 0.8439 - val_precision: 0.4454 - val_recall: 0.5236 - val_auc: 0.7806\n",
      "Epoch 45/100\n",
      "28160/28160 [==============================] - 0s 6us/sample - loss: 0.5951 - tp: 2059.0000 - fp: 3853.0000 - tn: 20328.0000 - fn: 1920.0000 - accuracy: 0.7950 - precision: 0.3483 - recall: 0.5175 - auc: 0.7377 - val_loss: 0.5518 - val_tp: 526.0000 - val_fp: 665.0000 - val_tn: 5401.0000 - val_fn: 448.0000 - val_accuracy: 0.8419 - val_precision: 0.4416 - val_recall: 0.5400 - val_auc: 0.7821\n",
      "Epoch 46/100\n",
      "28160/28160 [==============================] - 0s 6us/sample - loss: 0.5939 - tp: 2027.0000 - fp: 3832.0000 - tn: 20349.0000 - fn: 1952.0000 - accuracy: 0.7946 - precision: 0.3460 - recall: 0.5094 - auc: 0.7376 - val_loss: 0.5520 - val_tp: 504.0000 - val_fp: 612.0000 - val_tn: 5454.0000 - val_fn: 470.0000 - val_accuracy: 0.8463 - val_precision: 0.4516 - val_recall: 0.5175 - val_auc: 0.7825\n",
      "Epoch 47/100\n",
      "28160/28160 [==============================] - 0s 6us/sample - loss: 0.5926 - tp: 2082.0000 - fp: 3887.0000 - tn: 20294.0000 - fn: 1897.0000 - accuracy: 0.7946 - precision: 0.3488 - recall: 0.5232 - auc: 0.7374 - val_loss: 0.5500 - val_tp: 512.0000 - val_fp: 638.0000 - val_tn: 5428.0000 - val_fn: 462.0000 - val_accuracy: 0.8438 - val_precision: 0.4452 - val_recall: 0.5257 - val_auc: 0.7835\n",
      "Epoch 48/100\n",
      "28160/28160 [==============================] - 0s 6us/sample - loss: 0.5940 - tp: 2072.0000 - fp: 3690.0000 - tn: 20491.0000 - fn: 1907.0000 - accuracy: 0.8012 - precision: 0.3596 - recall: 0.5207 - auc: 0.7342 - val_loss: 0.5509 - val_tp: 515.0000 - val_fp: 654.0000 - val_tn: 5412.0000 - val_fn: 459.0000 - val_accuracy: 0.8419 - val_precision: 0.4405 - val_recall: 0.5287 - val_auc: 0.7813\n",
      "Epoch 49/100\n",
      "28160/28160 [==============================] - 0s 6us/sample - loss: 0.5916 - tp: 2078.0000 - fp: 3887.0000 - tn: 20294.0000 - fn: 1901.0000 - accuracy: 0.7945 - precision: 0.3484 - recall: 0.5222 - auc: 0.7357 - val_loss: 0.5480 - val_tp: 511.0000 - val_fp: 634.0000 - val_tn: 5432.0000 - val_fn: 463.0000 - val_accuracy: 0.8442 - val_precision: 0.4463 - val_recall: 0.5246 - val_auc: 0.7855\n",
      "Epoch 50/100\n",
      "28160/28160 [==============================] - 0s 6us/sample - loss: 0.5870 - tp: 2061.0000 - fp: 3704.0000 - tn: 20477.0000 - fn: 1918.0000 - accuracy: 0.8004 - precision: 0.3575 - recall: 0.5180 - auc: 0.7410 - val_loss: 0.5476 - val_tp: 508.0000 - val_fp: 620.0000 - val_tn: 5446.0000 - val_fn: 466.0000 - val_accuracy: 0.8457 - val_precision: 0.4504 - val_recall: 0.5216 - val_auc: 0.7857\n",
      "Epoch 51/100\n",
      "28160/28160 [==============================] - 0s 6us/sample - loss: 0.5887 - tp: 2071.0000 - fp: 3800.0000 - tn: 20381.0000 - fn: 1908.0000 - accuracy: 0.7973 - precision: 0.3528 - recall: 0.5205 - auc: 0.7397 - val_loss: 0.5459 - val_tp: 518.0000 - val_fp: 675.0000 - val_tn: 5391.0000 - val_fn: 456.0000 - val_accuracy: 0.8393 - val_precision: 0.4342 - val_recall: 0.5318 - val_auc: 0.7874\n",
      "Epoch 52/100\n",
      "28160/28160 [==============================] - 0s 6us/sample - loss: 0.5855 - tp: 2056.0000 - fp: 3617.0000 - tn: 20564.0000 - fn: 1923.0000 - accuracy: 0.8033 - precision: 0.3624 - recall: 0.5167 - auc: 0.7438 - val_loss: 0.5457 - val_tp: 526.0000 - val_fp: 674.0000 - val_tn: 5392.0000 - val_fn: 448.0000 - val_accuracy: 0.8406 - val_precision: 0.4383 - val_recall: 0.5400 - val_auc: 0.7854\n",
      "Epoch 53/100\n",
      "28160/28160 [==============================] - 0s 6us/sample - loss: 0.5854 - tp: 2138.0000 - fp: 3965.0000 - tn: 20216.0000 - fn: 1841.0000 - accuracy: 0.7938 - precision: 0.3503 - recall: 0.5373 - auc: 0.7433 - val_loss: 0.5473 - val_tp: 499.0000 - val_fp: 595.0000 - val_tn: 5471.0000 - val_fn: 475.0000 - val_accuracy: 0.8480 - val_precision: 0.4561 - val_recall: 0.5123 - val_auc: 0.7866\n",
      "Epoch 54/100\n",
      "28160/28160 [==============================] - 0s 6us/sample - loss: 0.5815 - tp: 2117.0000 - fp: 3736.0000 - tn: 20445.0000 - fn: 1862.0000 - accuracy: 0.8012 - precision: 0.3617 - recall: 0.5320 - auc: 0.7462 - val_loss: 0.5447 - val_tp: 528.0000 - val_fp: 673.0000 - val_tn: 5393.0000 - val_fn: 446.0000 - val_accuracy: 0.8411 - val_precision: 0.4396 - val_recall: 0.5421 - val_auc: 0.7858\n",
      "Epoch 55/100\n",
      "28160/28160 [==============================] - 0s 6us/sample - loss: 0.5797 - tp: 2111.0000 - fp: 3552.0000 - tn: 20629.0000 - fn: 1868.0000 - accuracy: 0.8075 - precision: 0.3728 - recall: 0.5305 - auc: 0.7489 - val_loss: 0.5426 - val_tp: 522.0000 - val_fp: 684.0000 - val_tn: 5382.0000 - val_fn: 452.0000 - val_accuracy: 0.8386 - val_precision: 0.4328 - val_recall: 0.5359 - val_auc: 0.7891\n",
      "Epoch 56/100\n",
      "28160/28160 [==============================] - 0s 6us/sample - loss: 0.5817 - tp: 2077.0000 - fp: 3644.0000 - tn: 20537.0000 - fn: 1902.0000 - accuracy: 0.8031 - precision: 0.3630 - recall: 0.5220 - auc: 0.7472 - val_loss: 0.5417 - val_tp: 526.0000 - val_fp: 670.0000 - val_tn: 5396.0000 - val_fn: 448.0000 - val_accuracy: 0.8412 - val_precision: 0.4398 - val_recall: 0.5400 - val_auc: 0.7889\n",
      "Epoch 57/100\n",
      "28160/28160 [==============================] - 0s 6us/sample - loss: 0.5849 - tp: 2100.0000 - fp: 3798.0000 - tn: 20383.0000 - fn: 1879.0000 - accuracy: 0.7984 - precision: 0.3561 - recall: 0.5278 - auc: 0.7443 - val_loss: 0.5414 - val_tp: 530.0000 - val_fp: 688.0000 - val_tn: 5378.0000 - val_fn: 444.0000 - val_accuracy: 0.8392 - val_precision: 0.4351 - val_recall: 0.5441 - val_auc: 0.7896\n",
      "Epoch 58/100\n",
      "28160/28160 [==============================] - 0s 7us/sample - loss: 0.5786 - tp: 2119.0000 - fp: 3647.0000 - tn: 20534.0000 - fn: 1860.0000 - accuracy: 0.8044 - precision: 0.3675 - recall: 0.5325 - auc: 0.7504 - val_loss: 0.5409 - val_tp: 536.0000 - val_fp: 689.0000 - val_tn: 5377.0000 - val_fn: 438.0000 - val_accuracy: 0.8399 - val_precision: 0.4376 - val_recall: 0.5503 - val_auc: 0.7890\n",
      "Epoch 59/100\n",
      "28160/28160 [==============================] - 0s 7us/sample - loss: 0.5788 - tp: 2099.0000 - fp: 3485.0000 - tn: 20696.0000 - fn: 1880.0000 - accuracy: 0.8095 - precision: 0.3759 - recall: 0.5275 - auc: 0.7504 - val_loss: 0.5391 - val_tp: 544.0000 - val_fp: 723.0000 - val_tn: 5343.0000 - val_fn: 430.0000 - val_accuracy: 0.8362 - val_precision: 0.4294 - val_recall: 0.5585 - val_auc: 0.7903\n",
      "Epoch 60/100\n",
      "28160/28160 [==============================] - 0s 6us/sample - loss: 0.5719 - tp: 2155.0000 - fp: 3639.0000 - tn: 20542.0000 - fn: 1824.0000 - accuracy: 0.8060 - precision: 0.3719 - recall: 0.5416 - auc: 0.7587 - val_loss: 0.5407 - val_tp: 515.0000 - val_fp: 614.0000 - val_tn: 5452.0000 - val_fn: 459.0000 - val_accuracy: 0.8476 - val_precision: 0.4562 - val_recall: 0.5287 - val_auc: 0.7901\n",
      "Epoch 61/100\n"
     ]
    },
    {
     "name": "stdout",
     "output_type": "stream",
     "text": [
      "28160/28160 [==============================] - 0s 6us/sample - loss: 0.5776 - tp: 2110.0000 - fp: 3701.0000 - tn: 20480.0000 - fn: 1869.0000 - accuracy: 0.8022 - precision: 0.3631 - recall: 0.5303 - auc: 0.7507 - val_loss: 0.5407 - val_tp: 533.0000 - val_fp: 668.0000 - val_tn: 5398.0000 - val_fn: 441.0000 - val_accuracy: 0.8425 - val_precision: 0.4438 - val_recall: 0.5472 - val_auc: 0.7871\n",
      "Epoch 62/100\n",
      "28160/28160 [==============================] - 0s 6us/sample - loss: 0.5763 - tp: 2102.0000 - fp: 3463.0000 - tn: 20718.0000 - fn: 1877.0000 - accuracy: 0.8104 - precision: 0.3777 - recall: 0.5283 - auc: 0.7529 - val_loss: 0.5370 - val_tp: 553.0000 - val_fp: 739.0000 - val_tn: 5327.0000 - val_fn: 421.0000 - val_accuracy: 0.8352 - val_precision: 0.4280 - val_recall: 0.5678 - val_auc: 0.7915\n",
      "Epoch 63/100\n",
      "28160/28160 [==============================] - 0s 6us/sample - loss: 0.5744 - tp: 2147.0000 - fp: 3750.0000 - tn: 20431.0000 - fn: 1832.0000 - accuracy: 0.8018 - precision: 0.3641 - recall: 0.5396 - auc: 0.7535 - val_loss: 0.5377 - val_tp: 526.0000 - val_fp: 632.0000 - val_tn: 5434.0000 - val_fn: 448.0000 - val_accuracy: 0.8466 - val_precision: 0.4542 - val_recall: 0.5400 - val_auc: 0.7933\n",
      "Epoch 64/100\n",
      "28160/28160 [==============================] - 0s 6us/sample - loss: 0.5733 - tp: 2149.0000 - fp: 3832.0000 - tn: 20349.0000 - fn: 1830.0000 - accuracy: 0.7989 - precision: 0.3593 - recall: 0.5401 - auc: 0.7559 - val_loss: 0.5374 - val_tp: 525.0000 - val_fp: 629.0000 - val_tn: 5437.0000 - val_fn: 449.0000 - val_accuracy: 0.8469 - val_precision: 0.4549 - val_recall: 0.5390 - val_auc: 0.7926\n",
      "Epoch 65/100\n",
      "28160/28160 [==============================] - 0s 5us/sample - loss: 0.5708 - tp: 2158.0000 - fp: 3586.0000 - tn: 20595.0000 - fn: 1821.0000 - accuracy: 0.8080 - precision: 0.3757 - recall: 0.5423 - auc: 0.7619 - val_loss: 0.5370 - val_tp: 560.0000 - val_fp: 739.0000 - val_tn: 5327.0000 - val_fn: 414.0000 - val_accuracy: 0.8362 - val_precision: 0.4311 - val_recall: 0.5749 - val_auc: 0.7904\n",
      "Epoch 66/100\n",
      "28160/28160 [==============================] - 0s 6us/sample - loss: 0.5707 - tp: 2137.0000 - fp: 3483.0000 - tn: 20698.0000 - fn: 1842.0000 - accuracy: 0.8109 - precision: 0.3802 - recall: 0.5371 - auc: 0.7568 - val_loss: 0.5349 - val_tp: 554.0000 - val_fp: 708.0000 - val_tn: 5358.0000 - val_fn: 420.0000 - val_accuracy: 0.8398 - val_precision: 0.4390 - val_recall: 0.5688 - val_auc: 0.7937\n",
      "Epoch 67/100\n",
      "28160/28160 [==============================] - 0s 5us/sample - loss: 0.5715 - tp: 2153.0000 - fp: 3716.0000 - tn: 20465.0000 - fn: 1826.0000 - accuracy: 0.8032 - precision: 0.3668 - recall: 0.5411 - auc: 0.7556 - val_loss: 0.5351 - val_tp: 542.0000 - val_fp: 656.0000 - val_tn: 5410.0000 - val_fn: 432.0000 - val_accuracy: 0.8455 - val_precision: 0.4524 - val_recall: 0.5565 - val_auc: 0.7953\n",
      "Epoch 68/100\n",
      "28160/28160 [==============================] - 0s 5us/sample - loss: 0.5678 - tp: 2172.0000 - fp: 3628.0000 - tn: 20553.0000 - fn: 1807.0000 - accuracy: 0.8070 - precision: 0.3745 - recall: 0.5459 - auc: 0.7612 - val_loss: 0.5351 - val_tp: 551.0000 - val_fp: 698.0000 - val_tn: 5368.0000 - val_fn: 423.0000 - val_accuracy: 0.8408 - val_precision: 0.4412 - val_recall: 0.5657 - val_auc: 0.7929\n",
      "Epoch 69/100\n",
      "28160/28160 [==============================] - 0s 7us/sample - loss: 0.5688 - tp: 2144.0000 - fp: 3478.0000 - tn: 20703.0000 - fn: 1835.0000 - accuracy: 0.8113 - precision: 0.3814 - recall: 0.5388 - auc: 0.7597 - val_loss: 0.5324 - val_tp: 584.0000 - val_fp: 827.0000 - val_tn: 5239.0000 - val_fn: 390.0000 - val_accuracy: 0.8271 - val_precision: 0.4139 - val_recall: 0.5996 - val_auc: 0.7957\n",
      "Epoch 70/100\n",
      "28160/28160 [==============================] - 0s 6us/sample - loss: 0.5695 - tp: 2148.0000 - fp: 3529.0000 - tn: 20652.0000 - fn: 1831.0000 - accuracy: 0.8097 - precision: 0.3784 - recall: 0.5398 - auc: 0.7593 - val_loss: 0.5325 - val_tp: 549.0000 - val_fp: 668.0000 - val_tn: 5398.0000 - val_fn: 425.0000 - val_accuracy: 0.8447 - val_precision: 0.4511 - val_recall: 0.5637 - val_auc: 0.7966\n",
      "Epoch 71/100\n",
      "28160/28160 [==============================] - 0s 6us/sample - loss: 0.5665 - tp: 2157.0000 - fp: 3602.0000 - tn: 20579.0000 - fn: 1822.0000 - accuracy: 0.8074 - precision: 0.3745 - recall: 0.5421 - auc: 0.7637 - val_loss: 0.5317 - val_tp: 578.0000 - val_fp: 811.0000 - val_tn: 5255.0000 - val_fn: 396.0000 - val_accuracy: 0.8286 - val_precision: 0.4161 - val_recall: 0.5934 - val_auc: 0.7961\n",
      "Epoch 72/100\n",
      "28160/28160 [==============================] - 0s 6us/sample - loss: 0.5652 - tp: 2195.0000 - fp: 3741.0000 - tn: 20440.0000 - fn: 1784.0000 - accuracy: 0.8038 - precision: 0.3698 - recall: 0.5516 - auc: 0.7646 - val_loss: 0.5316 - val_tp: 570.0000 - val_fp: 748.0000 - val_tn: 5318.0000 - val_fn: 404.0000 - val_accuracy: 0.8364 - val_precision: 0.4325 - val_recall: 0.5852 - val_auc: 0.7966\n",
      "Epoch 73/100\n",
      "28160/28160 [==============================] - 0s 6us/sample - loss: 0.5667 - tp: 2135.0000 - fp: 3314.0000 - tn: 20867.0000 - fn: 1844.0000 - accuracy: 0.8168 - precision: 0.3918 - recall: 0.5366 - auc: 0.7647 - val_loss: 0.5321 - val_tp: 559.0000 - val_fp: 750.0000 - val_tn: 5316.0000 - val_fn: 415.0000 - val_accuracy: 0.8345 - val_precision: 0.4270 - val_recall: 0.5739 - val_auc: 0.7949\n",
      "Epoch 74/100\n",
      "28160/28160 [==============================] - 0s 6us/sample - loss: 0.5675 - tp: 2165.0000 - fp: 3577.0000 - tn: 20604.0000 - fn: 1814.0000 - accuracy: 0.8086 - precision: 0.3770 - recall: 0.5441 - auc: 0.7615 - val_loss: 0.5301 - val_tp: 567.0000 - val_fp: 749.0000 - val_tn: 5317.0000 - val_fn: 407.0000 - val_accuracy: 0.8358 - val_precision: 0.4309 - val_recall: 0.5821 - val_auc: 0.7983\n",
      "Epoch 75/100\n",
      "28160/28160 [==============================] - 0s 6us/sample - loss: 0.5615 - tp: 2234.0000 - fp: 3646.0000 - tn: 20535.0000 - fn: 1745.0000 - accuracy: 0.8086 - precision: 0.3799 - recall: 0.5614 - auc: 0.7672 - val_loss: 0.5297 - val_tp: 562.0000 - val_fp: 723.0000 - val_tn: 5343.0000 - val_fn: 412.0000 - val_accuracy: 0.8388 - val_precision: 0.4374 - val_recall: 0.5770 - val_auc: 0.7979\n",
      "Epoch 76/100\n",
      "28160/28160 [==============================] - 0s 6us/sample - loss: 0.5609 - tp: 2200.0000 - fp: 3524.0000 - tn: 20657.0000 - fn: 1779.0000 - accuracy: 0.8117 - precision: 0.3843 - recall: 0.5529 - auc: 0.7674 - val_loss: 0.5295 - val_tp: 586.0000 - val_fp: 839.0000 - val_tn: 5227.0000 - val_fn: 388.0000 - val_accuracy: 0.8257 - val_precision: 0.4112 - val_recall: 0.6016 - val_auc: 0.7966\n",
      "Epoch 77/100\n",
      "28160/28160 [==============================] - 0s 5us/sample - loss: 0.5661 - tp: 2147.0000 - fp: 3444.0000 - tn: 20737.0000 - fn: 1832.0000 - accuracy: 0.8126 - precision: 0.3840 - recall: 0.5396 - auc: 0.7648 - val_loss: 0.5282 - val_tp: 574.0000 - val_fp: 782.0000 - val_tn: 5284.0000 - val_fn: 400.0000 - val_accuracy: 0.8321 - val_precision: 0.4233 - val_recall: 0.5893 - val_auc: 0.7993\n",
      "Epoch 78/100\n",
      "28160/28160 [==============================] - 0s 5us/sample - loss: 0.5611 - tp: 2210.0000 - fp: 3673.0000 - tn: 20508.0000 - fn: 1769.0000 - accuracy: 0.8067 - precision: 0.3757 - recall: 0.5554 - auc: 0.7693 - val_loss: 0.5309 - val_tp: 543.0000 - val_fp: 639.0000 - val_tn: 5427.0000 - val_fn: 431.0000 - val_accuracy: 0.8480 - val_precision: 0.4594 - val_recall: 0.5575 - val_auc: 0.7962\n",
      "Epoch 79/100\n",
      "28160/28160 [==============================] - 0s 5us/sample - loss: 0.5635 - tp: 2177.0000 - fp: 3596.0000 - tn: 20585.0000 - fn: 1802.0000 - accuracy: 0.8083 - precision: 0.3771 - recall: 0.5471 - auc: 0.7668 - val_loss: 0.5268 - val_tp: 576.0000 - val_fp: 748.0000 - val_tn: 5318.0000 - val_fn: 398.0000 - val_accuracy: 0.8372 - val_precision: 0.4350 - val_recall: 0.5914 - val_auc: 0.8019\n",
      "Epoch 80/100\n",
      "28160/28160 [==============================] - 0s 6us/sample - loss: 0.5598 - tp: 2187.0000 - fp: 3507.0000 - tn: 20674.0000 - fn: 1792.0000 - accuracy: 0.8118 - precision: 0.3841 - recall: 0.5496 - auc: 0.7725 - val_loss: 0.5276 - val_tp: 590.0000 - val_fp: 831.0000 - val_tn: 5235.0000 - val_fn: 384.0000 - val_accuracy: 0.8274 - val_precision: 0.4152 - val_recall: 0.6057 - val_auc: 0.7995\n",
      "Epoch 81/100\n",
      "28160/28160 [==============================] - 0s 6us/sample - loss: 0.5611 - tp: 2162.0000 - fp: 3468.0000 - tn: 20713.0000 - fn: 1817.0000 - accuracy: 0.8123 - precision: 0.3840 - recall: 0.5434 - auc: 0.7691 - val_loss: 0.5263 - val_tp: 582.0000 - val_fp: 812.0000 - val_tn: 5254.0000 - val_fn: 392.0000 - val_accuracy: 0.8290 - val_precision: 0.4175 - val_recall: 0.5975 - val_auc: 0.8016\n",
      "Epoch 82/100\n",
      "28160/28160 [==============================] - 0s 6us/sample - loss: 0.5561 - tp: 2232.0000 - fp: 3514.0000 - tn: 20667.0000 - fn: 1747.0000 - accuracy: 0.8132 - precision: 0.3884 - recall: 0.5609 - auc: 0.7727 - val_loss: 0.5269 - val_tp: 568.0000 - val_fp: 737.0000 - val_tn: 5329.0000 - val_fn: 406.0000 - val_accuracy: 0.8376 - val_precision: 0.4352 - val_recall: 0.5832 - val_auc: 0.8001\n",
      "Epoch 83/100\n",
      "28160/28160 [==============================] - 0s 6us/sample - loss: 0.5557 - tp: 2202.0000 - fp: 3415.0000 - tn: 20766.0000 - fn: 1777.0000 - accuracy: 0.8156 - precision: 0.3920 - recall: 0.5534 - auc: 0.7731 - val_loss: 0.5262 - val_tp: 577.0000 - val_fp: 755.0000 - val_tn: 5311.0000 - val_fn: 397.0000 - val_accuracy: 0.8364 - val_precision: 0.4332 - val_recall: 0.5924 - val_auc: 0.8013\n",
      "Epoch 84/100\n",
      "28160/28160 [==============================] - 0s 6us/sample - loss: 0.5537 - tp: 2201.0000 - fp: 3467.0000 - tn: 20714.0000 - fn: 1778.0000 - accuracy: 0.8137 - precision: 0.3883 - recall: 0.5532 - auc: 0.7764 - val_loss: 0.5264 - val_tp: 573.0000 - val_fp: 734.0000 - val_tn: 5332.0000 - val_fn: 401.0000 - val_accuracy: 0.8388 - val_precision: 0.4384 - val_recall: 0.5883 - val_auc: 0.7996\n",
      "Epoch 85/100\n",
      "28160/28160 [==============================] - 0s 6us/sample - loss: 0.5529 - tp: 2225.0000 - fp: 3508.0000 - tn: 20673.0000 - fn: 1754.0000 - accuracy: 0.8131 - precision: 0.3881 - recall: 0.5592 - auc: 0.7795 - val_loss: 0.5247 - val_tp: 589.0000 - val_fp: 757.0000 - val_tn: 5309.0000 - val_fn: 385.0000 - val_accuracy: 0.8378 - val_precision: 0.4376 - val_recall: 0.6047 - val_auc: 0.8026\n",
      "Epoch 86/100\n",
      "28160/28160 [==============================] - 0s 7us/sample - loss: 0.5562 - tp: 2213.0000 - fp: 3579.0000 - tn: 20602.0000 - fn: 1766.0000 - accuracy: 0.8102 - precision: 0.3821 - recall: 0.5562 - auc: 0.7754 - val_loss: 0.5260 - val_tp: 584.0000 - val_fp: 772.0000 - val_tn: 5294.0000 - val_fn: 390.0000 - val_accuracy: 0.8349 - val_precision: 0.4307 - val_recall: 0.5996 - val_auc: 0.7990\n",
      "Epoch 87/100\n",
      "28160/28160 [==============================] - 0s 7us/sample - loss: 0.5545 - tp: 2247.0000 - fp: 3510.0000 - tn: 20671.0000 - fn: 1732.0000 - accuracy: 0.8138 - precision: 0.3903 - recall: 0.5647 - auc: 0.7735 - val_loss: 0.5244 - val_tp: 589.0000 - val_fp: 772.0000 - val_tn: 5294.0000 - val_fn: 385.0000 - val_accuracy: 0.8357 - val_precision: 0.4328 - val_recall: 0.6047 - val_auc: 0.8023\n",
      "Epoch 88/100\n",
      "28160/28160 [==============================] - 0s 7us/sample - loss: 0.5530 - tp: 2260.0000 - fp: 3462.0000 - tn: 20719.0000 - fn: 1719.0000 - accuracy: 0.8160 - precision: 0.3950 - recall: 0.5680 - auc: 0.7766 - val_loss: 0.5247 - val_tp: 585.0000 - val_fp: 756.0000 - val_tn: 5310.0000 - val_fn: 389.0000 - val_accuracy: 0.8374 - val_precision: 0.4362 - val_recall: 0.6006 - val_auc: 0.8024\n",
      "Epoch 89/100\n",
      "28160/28160 [==============================] - 0s 6us/sample - loss: 0.5547 - tp: 2236.0000 - fp: 3657.0000 - tn: 20524.0000 - fn: 1743.0000 - accuracy: 0.8082 - precision: 0.3794 - recall: 0.5620 - auc: 0.7749 - val_loss: 0.5242 - val_tp: 565.0000 - val_fp: 677.0000 - val_tn: 5389.0000 - val_fn: 409.0000 - val_accuracy: 0.8457 - val_precision: 0.4549 - val_recall: 0.5801 - val_auc: 0.8035\n",
      "Epoch 90/100\n",
      "28160/28160 [==============================] - 0s 7us/sample - loss: 0.5571 - tp: 2186.0000 - fp: 3482.0000 - tn: 20699.0000 - fn: 1793.0000 - accuracy: 0.8127 - precision: 0.3857 - recall: 0.5494 - auc: 0.7746 - val_loss: 0.5232 - val_tp: 599.0000 - val_fp: 830.0000 - val_tn: 5236.0000 - val_fn: 375.0000 - val_accuracy: 0.8288 - val_precision: 0.4192 - val_recall: 0.6150 - val_auc: 0.8030\n",
      "Epoch 91/100\n",
      "28160/28160 [==============================] - 0s 6us/sample - loss: 0.5557 - tp: 2170.0000 - fp: 3323.0000 - tn: 20858.0000 - fn: 1809.0000 - accuracy: 0.8178 - precision: 0.3950 - recall: 0.5454 - auc: 0.7731 - val_loss: 0.5245 - val_tp: 571.0000 - val_fp: 699.0000 - val_tn: 5367.0000 - val_fn: 403.0000 - val_accuracy: 0.8435 - val_precision: 0.4496 - val_recall: 0.5862 - val_auc: 0.8020\n",
      "Epoch 92/100\n",
      "28160/28160 [==============================] - 0s 7us/sample - loss: 0.5525 - tp: 2240.0000 - fp: 3690.0000 - tn: 20491.0000 - fn: 1739.0000 - accuracy: 0.8072 - precision: 0.3777 - recall: 0.5630 - auc: 0.7781 - val_loss: 0.5236 - val_tp: 570.0000 - val_fp: 692.0000 - val_tn: 5374.0000 - val_fn: 404.0000 - val_accuracy: 0.8443 - val_precision: 0.4517 - val_recall: 0.5852 - val_auc: 0.8029\n",
      "Epoch 93/100\n",
      "28160/28160 [==============================] - 0s 7us/sample - loss: 0.5566 - tp: 2197.0000 - fp: 3460.0000 - tn: 20721.0000 - fn: 1782.0000 - accuracy: 0.8138 - precision: 0.3884 - recall: 0.5521 - auc: 0.7717 - val_loss: 0.5230 - val_tp: 584.0000 - val_fp: 765.0000 - val_tn: 5301.0000 - val_fn: 390.0000 - val_accuracy: 0.8359 - val_precision: 0.4329 - val_recall: 0.5996 - val_auc: 0.8041\n",
      "Epoch 94/100\n",
      "28160/28160 [==============================] - 0s 7us/sample - loss: 0.5513 - tp: 2204.0000 - fp: 3390.0000 - tn: 20791.0000 - fn: 1775.0000 - accuracy: 0.8166 - precision: 0.3940 - recall: 0.5539 - auc: 0.7778 - val_loss: 0.5221 - val_tp: 583.0000 - val_fp: 778.0000 - val_tn: 5288.0000 - val_fn: 391.0000 - val_accuracy: 0.8339 - val_precision: 0.4284 - val_recall: 0.5986 - val_auc: 0.8051\n",
      "Epoch 95/100\n",
      "28160/28160 [==============================] - 0s 6us/sample - loss: 0.5526 - tp: 2183.0000 - fp: 3264.0000 - tn: 20917.0000 - fn: 1796.0000 - accuracy: 0.8203 - precision: 0.4008 - recall: 0.5486 - auc: 0.7777 - val_loss: 0.5211 - val_tp: 588.0000 - val_fp: 762.0000 - val_tn: 5304.0000 - val_fn: 386.0000 - val_accuracy: 0.8369 - val_precision: 0.4356 - val_recall: 0.6037 - val_auc: 0.8057\n",
      "Epoch 96/100\n",
      "28160/28160 [==============================] - 0s 7us/sample - loss: 0.5489 - tp: 2263.0000 - fp: 3423.0000 - tn: 20758.0000 - fn: 1716.0000 - accuracy: 0.8175 - precision: 0.3980 - recall: 0.5687 - auc: 0.7784 - val_loss: 0.5215 - val_tp: 585.0000 - val_fp: 764.0000 - val_tn: 5302.0000 - val_fn: 389.0000 - val_accuracy: 0.8362 - val_precision: 0.4337 - val_recall: 0.6006 - val_auc: 0.8051\n",
      "Epoch 97/100\n",
      "28160/28160 [==============================] - 0s 7us/sample - loss: 0.5487 - tp: 2217.0000 - fp: 3422.0000 - tn: 20759.0000 - fn: 1762.0000 - accuracy: 0.8159 - precision: 0.3932 - recall: 0.5572 - auc: 0.7787 - val_loss: 0.5209 - val_tp: 581.0000 - val_fp: 739.0000 - val_tn: 5327.0000 - val_fn: 393.0000 - val_accuracy: 0.8392 - val_precision: 0.4402 - val_recall: 0.5965 - val_auc: 0.8066\n",
      "Epoch 98/100\n",
      "28160/28160 [==============================] - 0s 7us/sample - loss: 0.5508 - tp: 2190.0000 - fp: 3265.0000 - tn: 20916.0000 - fn: 1789.0000 - accuracy: 0.8205 - precision: 0.4015 - recall: 0.5504 - auc: 0.7787 - val_loss: 0.5199 - val_tp: 588.0000 - val_fp: 767.0000 - val_tn: 5299.0000 - val_fn: 386.0000 - val_accuracy: 0.8362 - val_precision: 0.4339 - val_recall: 0.6037 - val_auc: 0.8083\n",
      "Epoch 99/100\n",
      "28160/28160 [==============================] - 0s 6us/sample - loss: 0.5473 - tp: 2243.0000 - fp: 3349.0000 - tn: 20832.0000 - fn: 1736.0000 - accuracy: 0.8194 - precision: 0.4011 - recall: 0.5637 - auc: 0.7809 - val_loss: 0.5200 - val_tp: 581.0000 - val_fp: 728.0000 - val_tn: 5338.0000 - val_fn: 393.0000 - val_accuracy: 0.8408 - val_precision: 0.4439 - val_recall: 0.5965 - val_auc: 0.8070\n",
      "Epoch 100/100\n",
      "28160/28160 [==============================] - 0s 6us/sample - loss: 0.5529 - tp: 2200.0000 - fp: 3386.0000 - tn: 20795.0000 - fn: 1779.0000 - accuracy: 0.8166 - precision: 0.3938 - recall: 0.5529 - auc: 0.7739 - val_loss: 0.5216 - val_tp: 559.0000 - val_fp: 642.0000 - val_tn: 5424.0000 - val_fn: 415.0000 - val_accuracy: 0.8499 - val_precision: 0.4654 - val_recall: 0.5739 - val_auc: 0.8058\n"
     ]
    }
   ],
   "source": [
    "weighted_model = make_model()\n",
    "weighted_model.load_weights(initial_weights)\n",
    "\n",
    "weighted_history = weighted_model.fit(\n",
    "    train_features,\n",
    "    train_labels,\n",
    "    batch_size=BATCH_SIZE,\n",
    "    epochs=EPOCHS,\n",
    "    callbacks = [early_stopping],\n",
    "    validation_data=(val_features, val_labels),\n",
    "    # The class weights go here\n",
    "    class_weight=class_weight) "
   ]
  },
  {
   "cell_type": "markdown",
   "metadata": {
    "id": "R0ynYRO0G3Lx"
   },
   "source": [
    "### Check training history"
   ]
  },
  {
   "cell_type": "code",
   "execution_count": 46,
   "metadata": {
    "id": "BBe9FMO5ucTC"
   },
   "outputs": [
    {
     "data": {
      "image/png": "[encoded data removed]",
      "text/plain": [
       "<Figure size 864x720 with 4 Axes>"
      ]
     },
     "metadata": {
      "needs_background": "light"
     },
     "output_type": "display_data"
    }
   ],
   "source": [
    "plot_metrics(weighted_history)"
   ]
  },
  {
   "cell_type": "markdown",
   "metadata": {
    "id": "REy6WClTZIwQ"
   },
   "source": [
    "### Evaluate metrics"
   ]
  },
  {
   "cell_type": "code",
   "execution_count": 47,
   "metadata": {
    "id": "nifqscPGw-5w"
   },
   "outputs": [],
   "source": [
    "train_predictions_weighted = weighted_model.predict(train_features, batch_size=BATCH_SIZE)\n",
    "test_predictions_weighted = weighted_model.predict(test_features, batch_size=BATCH_SIZE)"
   ]
  },
  {
   "cell_type": "code",
   "execution_count": 48,
   "metadata": {},
   "outputs": [
    {
     "name": "stdout",
     "output_type": "stream",
     "text": [
      "0.8146465763701499\n",
      "[[6730  809]\n",
      " [ 522  739]]\n",
      "              precision    recall  f1-score   support\n",
      "\n",
      "           0       0.93      0.89      0.91      7539\n",
      "           1       0.48      0.59      0.53      1261\n",
      "\n",
      "    accuracy                           0.85      8800\n",
      "   macro avg       0.70      0.74      0.72      8800\n",
      "weighted avg       0.86      0.85      0.86      8800\n",
      "\n"
     ]
    }
   ],
   "source": [
    "fp, tp, _ = sklearn.metrics.roc_curve(test_labels, test_predictions_weighted)\n",
    "auc_score = auc(fp, tp)\n",
    "print(auc_score)\n",
    "\n",
    "print(confusion_matrix(test_labels, test_predictions_weighted > 0.5))\n",
    "print(classification_report(test_labels, test_predictions_weighted > 0.5))"
   ]
  },
  {
   "cell_type": "code",
   "execution_count": 49,
   "metadata": {
    "id": "owKL2vdMBJr6"
   },
   "outputs": [
    {
     "name": "stdout",
     "output_type": "stream",
     "text": [
      "loss :  0.4844519393010573\n",
      "tp :  739.0\n",
      "fp :  809.0\n",
      "tn :  6730.0\n",
      "fn :  522.0\n",
      "accuracy :  0.84875\n",
      "precision :  0.47739017\n",
      "recall :  0.5860428\n",
      "auc :  0.81458116\n",
      "\n",
      "Legitimate Transactions Detected (True Negatives):  6730\n",
      "Legitimate Transactions Incorrectly Detected (False Positives):  809\n",
      "Fraudulent Transactions Missed (False Negatives):  522\n",
      "Fraudulent Transactions Detected (True Positives):  739\n",
      "Total Fraudulent Transactions:  1261\n"
     ]
    },
    {
     "data": {
      "image/png": "[encoded data removed]",
      "text/plain": [
       "<Figure size 360x360 with 2 Axes>"
      ]
     },
     "metadata": {
      "needs_background": "light"
     },
     "output_type": "display_data"
    }
   ],
   "source": [
    "weighted_results = weighted_model.evaluate(test_features, test_labels,\n",
    "                                           batch_size=BATCH_SIZE, verbose=0)\n",
    "for name, value in zip(weighted_model.metrics_names, weighted_results):\n",
    "  print(name, ': ', value)\n",
    "print()\n",
    "\n",
    "plot_cm(test_labels, test_predictions_weighted)"
   ]
  },
  {
   "cell_type": "markdown",
   "metadata": {
    "id": "PTh1rtDn8r4-"
   },
   "source": [
    "Here you can see that with class weights the accuracy and precision are lower because there are more false positives, but conversely the recall and AUC are higher because the model also found more true positives. Despite having lower accuracy, this model has higher recall (and identifies more fraudulent transactions). Of course, there is a cost to both types of error (you wouldn't want to bug users by flagging too many legitimate transactions as fraudulent, either). Carefully consider the trade-offs between these different types of errors for your application."
   ]
  },
  {
   "cell_type": "markdown",
   "metadata": {
    "id": "hXDAwyr0HYdX"
   },
   "source": [
    "### Plot the ROC\n",
    "\n",
    "Now plot the [ROC](https://developers.google.com/machine-learning/glossary#ROC). This plot is useful because it shows, at a glance, the range of performance the model can reach just by tuning the output threshold."
   ]
  },
  {
   "cell_type": "code",
   "execution_count": 50,
   "metadata": {
    "id": "3hzScIVZS1Xm"
   },
   "outputs": [
    {
     "data": {
      "text/plain": [
       "<matplotlib.legend.Legend at 0x237c1d4b688>"
      ]
     },
     "execution_count": 50,
     "metadata": {},
     "output_type": "execute_result"
    },
    {
     "data": {
      "image/png": "[encoded data removed]",
      "text/plain": [
       "<Figure size 864x720 with 1 Axes>"
      ]
     },
     "metadata": {
      "needs_background": "light"
     },
     "output_type": "display_data"
    }
   ],
   "source": [
    "plot_roc(\"Train Baseline\", train_labels, train_predictions_baseline, color=colors[0])\n",
    "plot_roc(\"Test Baseline\", test_labels, test_predictions_baseline, color=colors[0], linestyle='--')\n",
    "\n",
    "plot_roc(\"Train Weighted\", train_labels, train_predictions_weighted, color=colors[1])\n",
    "plot_roc(\"Test Weighted\", test_labels, test_predictions_weighted, color=colors[1], linestyle='--')\n",
    "\n",
    "\n",
    "plt.legend(loc='lower right')"
   ]
  },
  {
   "cell_type": "markdown",
   "metadata": {},
   "source": [
    "### Save this model"
   ]
  },
  {
   "cell_type": "code",
   "execution_count": 51,
   "metadata": {},
   "outputs": [
    {
     "name": "stdout",
     "output_type": "stream",
     "text": [
      "INFO:tensorflow:Assets written to: models/keras_classifier/weighted_model_lowprecision_highrecall\\assets\n"
     ]
    }
   ],
   "source": [
    "# Save model\n",
    "filename = 'models/keras_classifier/weighted_model_lowprecision_highrecall'\n",
    "weighted_model.save(filename)"
   ]
  }
 ],
 "metadata": {
  "colab": {
   "collapsed_sections": [],
   "name": "imbalanced_data.ipynb",
   "toc_visible": true
  },
  "kernelspec": {
   "display_name": "Python 3",
   "language": "python",
   "name": "python3"
  },
  "language_info": {
   "codemirror_mode": {
    "name": "ipython",
    "version": 3
   },
   "file_extension": ".py",
   "mimetype": "text/x-python",
   "name": "python",
   "nbconvert_exporter": "python",
   "pygments_lexer": "ipython3",
   "version": "3.7.9"
  }
 },
 "nbformat": 4,
 "nbformat_minor": 1
}
