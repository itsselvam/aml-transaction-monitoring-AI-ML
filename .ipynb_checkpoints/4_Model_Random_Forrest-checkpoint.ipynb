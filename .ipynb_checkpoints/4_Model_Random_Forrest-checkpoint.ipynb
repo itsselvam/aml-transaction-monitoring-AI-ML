{
 "cells": [
  {
   "cell_type": "markdown",
   "metadata": {},
   "source": [
    "# Random Forest Models\n",
    "\n",
    "Paper: A. Elliott, M. Cucuringu, M. M. Luaces, P. Reidy, and G. Reinert, Anomaly detection in networks with application to financial transaction networks, 2019\n",
    "\n",
    "Based on the open source: https://github.com/zhangcheng1006/Anomaly-Detection-in-Networks"
   ]
  },
  {
   "cell_type": "code",
   "execution_count": 1,
   "metadata": {},
   "outputs": [],
   "source": [
    "import numpy as np\n",
    "import networkx as nx\n",
    "import pandas as pd\n",
    "import matplotlib.pyplot as plt\n",
    "import logging\n",
    "logging.basicConfig(format='%(asctime)s - %(levelname)s - %(message)s', level=logging.INFO)\n",
    "\n",
    "import matplotlib as mpl\n",
    "import matplotlib.pyplot as plt\n",
    "import seaborn as sns\n",
    "\n",
    "import os\n",
    "import sklearn\n",
    "from sklearn.model_selection import train_test_split\n",
    "from sklearn.ensemble import RandomForestClassifier\n",
    "from sklearn.metrics import roc_curve\n",
    "from sklearn.metrics import auc\n",
    "from sklearn.metrics import precision_recall_curve\n",
    "from sklearn.metrics import precision_score\n",
    "from sklearn.metrics import recall_score\n",
    "from sklearn.metrics import f1_score\n",
    "from sklearn.metrics import confusion_matrix, classification_report, accuracy_score\n",
    "from sklearn.metrics import average_precision_score\n",
    "from inspect import signature\n",
    "\n",
    "from numpy import mean\n",
    "from sklearn.datasets import make_classification\n",
    "from sklearn.model_selection import cross_val_score\n",
    "from sklearn.model_selection import cross_validate\n",
    "from sklearn.model_selection import RepeatedStratifiedKFold\n",
    "from imblearn.ensemble import BalancedRandomForestClassifier\n",
    "from tensorflow import keras\n",
    "import pickle\n",
    "\n",
    "from utils import *\n",
    "\n",
    "%matplotlib inline"
   ]
  },
  {
   "cell_type": "code",
   "execution_count": 2,
   "metadata": {},
   "outputs": [],
   "source": [
    "mpl.rcParams['figure.figsize'] = (12, 10)\n",
    "colors = plt.rcParams['axes.prop_cycle'].by_key()['color']"
   ]
  },
  {
   "cell_type": "markdown",
   "metadata": {},
   "source": [
    "## Running Machine Learning algorithms on generated networks"
   ]
  },
  {
   "cell_type": "markdown",
   "metadata": {},
   "source": [
    "Load generated graph data from local files. This files are the node attribute values of some artificial networks. Attributes are the features recommended in the article."
   ]
  },
  {
   "cell_type": "markdown",
   "metadata": {},
   "source": [
    "# Random Forest (Supervised, Model result)"
   ]
  },
  {
   "cell_type": "markdown",
   "metadata": {},
   "source": [
    "#### Load dataset and split for Random Forest\n",
    "We mix all rows (each row represents a feature vector of a node) of all networks together by setting ```mix_all=True```, and then split them."
   ]
  },
  {
   "cell_type": "code",
   "execution_count": 3,
   "metadata": {},
   "outputs": [
    {
     "name": "stdout",
     "output_type": "stream",
     "text": [
      "1000_Network_p_0.002_w_0.003.json  - max_node_id= -1\n",
      "1000_Network_p_0.002_w_0.008.json  - max_node_id= 999\n",
      "1000_Network_p_0.002_w_0.009.json  - max_node_id= 1999\n",
      "1000_Network_p_0.004_w_0.004.json  - max_node_id= 2999\n",
      "1000_Network_p_0.004_w_0.007.json  - max_node_id= 3999\n",
      "1000_Network_p_0.004_w_0.009.json  - max_node_id= 4999\n",
      "1000_Network_p_0.005_w_0.009.json  - max_node_id= 5999\n",
      "1000_Network_p_0.006_w_0.007.json  - max_node_id= 6999\n",
      "1000_Network_p_0.007_w_0.002.json  - max_node_id= 7999\n",
      "1000_Network_p_0.007_w_0.009.json  - max_node_id= 8999\n",
      "1000_Network_p_0.007_w_0.010.json  - max_node_id= 9999\n",
      "1000_Network_p_0.008_w_0.000.json  - max_node_id= 10999\n",
      "1000_Network_p_0.008_w_0.005.json  - max_node_id= 11999\n",
      "1000_Network_p_0.008_w_0.007.json  - max_node_id= 12999\n",
      "1000_Network_p_0.010_w_0.001.json  - max_node_id= 13999\n",
      "1000_Network_p_0.010_w_0.006.json  - max_node_id= 14999\n",
      "1000_Network_p_0.011_w_0.003.json  - max_node_id= 15999\n",
      "1000_Network_p_0.011_w_0.005.json  - max_node_id= 16999\n",
      "1000_Network_p_0.011_w_0.006.json  - max_node_id= 17999\n",
      "1000_Network_p_0.012_w_0.002.json  - max_node_id= 18999\n",
      "1000_Network_p_0.013_w_0.006.json  - max_node_id= 19999\n",
      "1000_Network_p_0.014_w_0.003.json  - max_node_id= 20999\n",
      "1000_Network_p_0.014_w_0.008.json  - max_node_id= 21999\n",
      "1000_Network_p_0.015_w_0.006.json  - max_node_id= 22999\n",
      "1000_Network_p_0.015_w_0.008.json  - max_node_id= 23999\n",
      "1000_Network_p_0.016_w_0.003.json  - max_node_id= 24999\n",
      "1000_Network_p_0.016_w_0.004.json  - max_node_id= 25999\n",
      "1000_Network_p_0.016_w_0.005.json  - max_node_id= 26999\n",
      "1000_Network_p_0.019_w_0.004.json  - max_node_id= 27999\n",
      "1000_Network_p_0.019_w_0.007.json  - max_node_id= 28999\n",
      "1000_Network_p_0.020_w_0.007.json  - max_node_id= 29999\n",
      "1000_Network_p_0.021_w_0.004.json  - max_node_id= 30999\n",
      "1000_Network_p_0.021_w_0.006.json  - max_node_id= 31999\n",
      "1000_Network_p_0.021_w_0.007.json  - max_node_id= 32999\n",
      "1000_Network_p_0.023_w_0.002.json  - max_node_id= 33999\n",
      "1000_Network_p_0.024_w_0.001.json  - max_node_id= 34999\n",
      "1000_Network_p_0.024_w_0.006.json  - max_node_id= 35999\n",
      "1000_Network_p_0.027_w_0.000.json  - max_node_id= 36999\n",
      "1000_Network_p_0.029_w_0.000.json  - max_node_id= 37999\n",
      "1000_Network_p_0.031_w_0.003.json  - max_node_id= 38999\n",
      "1000_Network_p_0.033_w_0.004.json  - max_node_id= 39999\n",
      "1000_Network_p_0.035_w_0.001.json  - max_node_id= 40999\n",
      "1000_Network_p_0.040_w_0.002.json  - max_node_id= 41999\n",
      "1000_Network_p_0.047_w_0.001.json  - max_node_id= 42999\n"
     ]
    }
   ],
   "source": [
    "data_path = './data_small_graph/'\n",
    "\n",
    "combined_directed_G = load_networkx_graphs(data_path)\n",
    "X_train, Y_train, _ = retrieve_node_features_and_labels_tuple(combined_directed_G)\n",
    "X_train, X_val, Y_train, Y_val = train_test_split(X_train, Y_train, test_size=0.2)\n",
    "X_train, X_test, Y_train, Y_test = train_test_split(X_train, Y_train, test_size=0.2)"
   ]
  },
  {
   "cell_type": "code",
   "execution_count": 4,
   "metadata": {},
   "outputs": [
    {
     "data": {
      "text/plain": [
       "((28160, 129), (8800, 129), (7040, 129))"
      ]
     },
     "execution_count": 4,
     "metadata": {},
     "output_type": "execute_result"
    }
   ],
   "source": [
    "X_train.shape, X_val.shape, X_test.shape"
   ]
  },
  {
   "cell_type": "markdown",
   "metadata": {},
   "source": [
    "## 1. Unweighted RF model (not considering imbalanced labels)"
   ]
  },
  {
   "cell_type": "code",
   "execution_count": 6,
   "metadata": {},
   "outputs": [
    {
     "name": "stdout",
     "output_type": "stream",
     "text": [
      "n_est \t average precision\n",
      "10 \t 0.6255424591777484\n",
      "20 \t 0.6481446690902799\n",
      "50 \t 0.6678575462085077\n",
      "100 \t 0.6750731914249267\n",
      "150 \t 0.6742849158909434\n",
      "200 \t 0.6754549258131384\n",
      "250 \t 0.6770198800170504\n",
      "300 \t 0.6773299721781102\n",
      "400 \t 0.677319933554766\n",
      "500 \t 0.6777754114271612\n"
     ]
    }
   ],
   "source": [
    "print(\"n_est \\t average precision\")\n",
    "for n_estimators in [10, 20, 50, 100, 150, 200, 250, 300, 400, 500]:\n",
    "    rf = RandomForestClassifier(n_estimators=n_estimators, max_features='auto', n_jobs=-1)\n",
    "    rf.fit(X_train, Y_train)\n",
    "    pred_rf = rf.predict_proba(X_val)[:, 1]\n",
    "    avg_prec = average_precision(pred_rf, Y_val)\n",
    "    print(n_estimators, '\\t', avg_prec)"
   ]
  },
  {
   "cell_type": "markdown",
   "metadata": {},
   "source": [
    "__Discussion (choosing a model):__\n",
    "\n",
    "By running a cross-validation, we find that ```n_estimators=100``` gives the best performance. We will choose this as the default model for the following work.\n",
    "\n",
    "Predicition, Calculate precision, recall, F1-score"
   ]
  },
  {
   "cell_type": "code",
   "execution_count": 7,
   "metadata": {},
   "outputs": [
    {
     "name": "stdout",
     "output_type": "stream",
     "text": [
      "0.6988150603006066\n",
      "[[5947  105]\n",
      " [ 578  410]]\n",
      "              precision    recall  f1-score   support\n",
      "\n",
      "           0       0.91      0.98      0.95      6052\n",
      "           1       0.80      0.41      0.55       988\n",
      "\n",
      "    accuracy                           0.90      7040\n",
      "   macro avg       0.85      0.70      0.75      7040\n",
      "weighted avg       0.90      0.90      0.89      7040\n",
      "\n"
     ]
    }
   ],
   "source": [
    "rf = RandomForestClassifier(n_estimators=100, max_features='auto', n_jobs=-1)\n",
    "unweighted_history = rf.fit(X_train, Y_train)\n",
    "\n",
    "train_predictions_baseline2 = rf.predict(X_train)\n",
    "test_predictions_baseline2 = rf.predict(X_test)\n",
    "\n",
    "fp, tp, _ = sklearn.metrics.roc_curve(Y_test, test_predictions_baseline2)\n",
    "auc_score = auc(fp, tp)\n",
    "print(auc_score)\n",
    "\n",
    "print(confusion_matrix(Y_test, test_predictions_baseline2))\n",
    "print(classification_report(Y_test, test_predictions_baseline2))"
   ]
  },
  {
   "cell_type": "code",
   "execution_count": 9,
   "metadata": {},
   "outputs": [
    {
     "data": {
      "text/plain": [
       "<matplotlib.legend.Legend at 0x21a5c7227c8>"
      ]
     },
     "execution_count": 9,
     "metadata": {},
     "output_type": "execute_result"
    },
    {
     "data": {
      "image/png": "[encoded data removed]",
      "text/plain": [
       "<Figure size 864x720 with 1 Axes>"
      ]
     },
     "metadata": {
      "needs_background": "light"
     },
     "output_type": "display_data"
    }
   ],
   "source": [
    "plot_roc(\"Train Baseline\", Y_train, train_predictions_baseline2, color=colors[0])\n",
    "plot_roc(\"Test Baseline\", Y_test, test_predictions_baseline2, color=colors[0], linestyle='--')\n",
    "plt.legend(loc='lower right')"
   ]
  },
  {
   "cell_type": "markdown",
   "metadata": {},
   "source": [
    "### Save the unweighted model & test the saved model"
   ]
  },
  {
   "cell_type": "code",
   "execution_count": 7,
   "metadata": {},
   "outputs": [],
   "source": [
    "# save the model to disk\n",
    "filename = 'models/randomforest/rf_no_weight_highprecision_lowrecall_model.pkl'\n",
    "pickle.dump(rf, open(filename, 'wb'))"
   ]
  },
  {
   "cell_type": "code",
   "execution_count": 8,
   "metadata": {},
   "outputs": [],
   "source": [
    "# load the model from disk\n",
    "rf_model = pickle.load(open(filename, 'rb'))"
   ]
  },
  {
   "cell_type": "code",
   "execution_count": null,
   "metadata": {},
   "outputs": [],
   "source": [
    "train_predictions_baseline2 = rf_model.predict(X_train)\n",
    "test_predictions_baseline2 = rf_model.predict(X_test)\n",
    "\n",
    "fp, tp, _ = sklearn.metrics.roc_curve(Y_test, test_predictions_baseline2)\n",
    "auc_score = auc(fp, tp)\n",
    "print(auc_score)\n",
    "\n",
    "print(confusion_matrix(Y_test,test_predictions_baseline2))\n",
    "print(classification_report(Y_test,test_predictions_baseline2))"
   ]
  },
  {
   "cell_type": "markdown",
   "metadata": {},
   "source": [
    "## 2. Weighted Model 1 (balancing the labels using parameter class_weight='balanced')"
   ]
  },
  {
   "cell_type": "code",
   "execution_count": 10,
   "metadata": {},
   "outputs": [
    {
     "name": "stdout",
     "output_type": "stream",
     "text": [
      "n_est \t average precision\n",
      "10 \t 0.6095524240075461\n",
      "20 \t 0.6308584322803397\n",
      "50 \t 0.6493463179964584\n",
      "100 \t 0.6522973589356895\n",
      "150 \t 0.6586411224397941\n",
      "200 \t 0.6599273855198269\n",
      "250 \t 0.660283444805376\n",
      "300 \t 0.660494589803033\n",
      "400 \t 0.6597753159011676\n",
      "500 \t 0.6616380860683287\n"
     ]
    }
   ],
   "source": [
    "print(\"n_est \\t average precision\")\n",
    "for n_estimators in [10, 20, 50, 100, 150, 200, 250, 300, 400, 500]:\n",
    "    rf = RandomForestClassifier(n_estimators=n_estimators, max_features='auto', n_jobs=-1, class_weight='balanced')\n",
    "    rf.fit(X_train, Y_train)\n",
    "    pred_rf = rf.predict_proba(X_val)[:, 1]\n",
    "    avg_prec = average_precision(pred_rf, Y_val)\n",
    "    print(n_estimators, '\\t', avg_prec)"
   ]
  },
  {
   "cell_type": "code",
   "execution_count": 10,
   "metadata": {},
   "outputs": [
    {
     "name": "stdout",
     "output_type": "stream",
     "text": [
      "0.6810299268686231\n",
      "[[5989   63]\n",
      " [ 620  368]]\n",
      "              precision    recall  f1-score   support\n",
      "\n",
      "           0       0.91      0.99      0.95      6052\n",
      "           1       0.85      0.37      0.52       988\n",
      "\n",
      "    accuracy                           0.90      7040\n",
      "   macro avg       0.88      0.68      0.73      7040\n",
      "weighted avg       0.90      0.90      0.89      7040\n",
      "\n"
     ]
    }
   ],
   "source": [
    "rf = RandomForestClassifier(n_estimators=100, max_features='auto', n_jobs=-1, class_weight='balanced')\n",
    "rf.fit(X_train, Y_train)\n",
    "\n",
    "train_predictions_baseline2 = rf.predict(X_train)\n",
    "test_predictions_baseline2 = rf.predict(X_test)\n",
    "\n",
    "fp, tp, _ = sklearn.metrics.roc_curve(Y_test, test_predictions_baseline2)\n",
    "auc_score = auc(fp, tp)\n",
    "print(auc_score)\n",
    "\n",
    "print(confusion_matrix(Y_test,test_predictions_baseline2))\n",
    "print(classification_report(Y_test,test_predictions_baseline2))"
   ]
  },
  {
   "cell_type": "markdown",
   "metadata": {},
   "source": [
    "## 3. Weighted Model 3 (using \"BalancedRandomForestClassifier\" class)"
   ]
  },
  {
   "cell_type": "code",
   "execution_count": 14,
   "metadata": {},
   "outputs": [
    {
     "name": "stdout",
     "output_type": "stream",
     "text": [
      "n_est \t average precision\n",
      "10 \t 0.5457915761488223\n",
      "20 \t 0.608758904581229\n",
      "50 \t 0.6362987009472227\n",
      "100 \t 0.6394102757904464\n",
      "150 \t 0.6467345863399371\n",
      "200 \t 0.6444253197951122\n",
      "300 \t 0.6478661259519449\n",
      "400 \t 0.6498833390578128\n",
      "500 \t 0.6514207384178501\n"
     ]
    }
   ],
   "source": [
    "# generate dataset\n",
    "# define model\n",
    "print(\"n_est \\t average precision\")\n",
    "for n_estimators in [10, 20, 50, 100, 150, 200, 300, 400, 500]:\n",
    "    rf = BalancedRandomForestClassifier(n_estimators=n_estimators, max_features='auto', n_jobs=-1)\n",
    "    rf.fit(X_train, Y_train)\n",
    "    pred_rf = rf.predict_proba(X_val)[:, 1]\n",
    "    avg_prec = average_precision(pred_rf, Y_val)\n",
    "    print(n_estimators, '\\t', avg_prec)\n"
   ]
  },
  {
   "cell_type": "code",
   "execution_count": 12,
   "metadata": {},
   "outputs": [
    {
     "name": "stdout",
     "output_type": "stream",
     "text": [
      "Mean precision: 0.360\n",
      "Mean recall: 0.703\n",
      "Mean ROC AUC: 0.832\n",
      "0.7879835621643462\n",
      "[[4962 1090]\n",
      " [ 241  747]]\n",
      "              precision    recall  f1-score   support\n",
      "\n",
      "           0       0.95      0.82      0.88      6052\n",
      "           1       0.41      0.76      0.53       988\n",
      "\n",
      "    accuracy                           0.81      7040\n",
      "   macro avg       0.68      0.79      0.71      7040\n",
      "weighted avg       0.88      0.81      0.83      7040\n",
      "\n"
     ]
    }
   ],
   "source": [
    "METRICS = ['accuracy', 'precision', 'recall', 'roc_auc']\n",
    "\n",
    "rf = BalancedRandomForestClassifier(n_estimators=100)\n",
    "\n",
    "# define evaluation procedure\n",
    "cv = RepeatedStratifiedKFold(n_splits=10, n_repeats=3, random_state=1)\n",
    "# evaluate model\n",
    "scores = cross_validate(rf, X_test, Y_test, scoring=METRICS, cv=cv, n_jobs=-1)\n",
    "# summarize performance\n",
    "print('Mean precision: %.3f' % mean(scores['test_precision']))\n",
    "print('Mean recall: %.3f' % mean(scores['test_recall']))\n",
    "print('Mean ROC AUC: %.3f' % mean(scores['test_roc_auc']))\n",
    "\n",
    "rf.fit(X_train, Y_train)\n",
    "\n",
    "train_predictions_baseline2 = rf.predict(X_train)\n",
    "test_predictions_baseline2 = rf.predict(X_test)\n",
    "\n",
    "fp, tp, _ = sklearn.metrics.roc_curve(Y_test, test_predictions_baseline2)\n",
    "auc_score = auc(fp, tp)\n",
    "print(auc_score)\n",
    "\n",
    "print(confusion_matrix(Y_test,test_predictions_baseline2))\n",
    "print(classification_report(Y_test,test_predictions_baseline2))"
   ]
  },
  {
   "cell_type": "markdown",
   "metadata": {},
   "source": [
    "### Save the best weighted model & test the saved model"
   ]
  },
  {
   "cell_type": "code",
   "execution_count": 16,
   "metadata": {},
   "outputs": [],
   "source": [
    "# Save model\n",
    "filename2 = 'models/randomforest/rf_weighted_lowprecision_highrecall_model.pkl'\n",
    "pickle.dump(rf, open(filename2, 'wb'))"
   ]
  },
  {
   "cell_type": "code",
   "execution_count": 17,
   "metadata": {},
   "outputs": [],
   "source": [
    "# load the model from disk\n",
    "rf_model2 = pickle.load(open(filename2, 'rb'))"
   ]
  },
  {
   "cell_type": "code",
   "execution_count": 18,
   "metadata": {},
   "outputs": [
    {
     "name": "stdout",
     "output_type": "stream",
     "text": [
      "0.7735920518606524\n",
      "[[4891 1153]\n",
      " [ 261  735]]\n",
      "              precision    recall  f1-score   support\n",
      "\n",
      "           0       0.95      0.81      0.87      6044\n",
      "           1       0.39      0.74      0.51       996\n",
      "\n",
      "    accuracy                           0.80      7040\n",
      "   macro avg       0.67      0.77      0.69      7040\n",
      "weighted avg       0.87      0.80      0.82      7040\n",
      "\n"
     ]
    }
   ],
   "source": [
    "train_predictions_baseline2 = rf_model2.predict(X_train)\n",
    "test_predictions_baseline2 = rf_model2.predict(X_test)\n",
    "\n",
    "fp, tp, _ = sklearn.metrics.roc_curve(Y_test, test_predictions_baseline2)\n",
    "auc_score = auc(fp, tp)\n",
    "print(auc_score)\n",
    "\n",
    "print(confusion_matrix(Y_test,test_predictions_baseline2))\n",
    "print(classification_report(Y_test,test_predictions_baseline2))"
   ]
  },
  {
   "cell_type": "markdown",
   "metadata": {},
   "source": [
    "## Performance measurement"
   ]
  },
  {
   "cell_type": "code",
   "execution_count": 19,
   "metadata": {},
   "outputs": [],
   "source": [
    "def plot_cm(labels, predictions, p=0.5):\n",
    "  cm = confusion_matrix(labels, predictions > p)\n",
    "  plt.figure(figsize=(5,5))\n",
    "  sns.heatmap(cm, annot=True, fmt=\"d\")\n",
    "  plt.title('Confusion matrix @{:.2f}'.format(p))\n",
    "  plt.ylabel('Actual label')\n",
    "  plt.xlabel('Predicted label')\n",
    "\n",
    "  print('Legitimate Transactions Detected (True Negatives): ', cm[0][0])\n",
    "  print('Legitimate Transactions Incorrectly Detected (False Positives): ', cm[0][1])\n",
    "  print('Fraudulent Transactions Missed (False Negatives): ', cm[1][0])\n",
    "  print('Fraudulent Transactions Detected (True Positives): ', cm[1][1])\n",
    "  print('Total Fraudulent Transactions: ', np.sum(cm[1]))"
   ]
  },
  {
   "cell_type": "code",
   "execution_count": 20,
   "metadata": {},
   "outputs": [
    {
     "name": "stdout",
     "output_type": "stream",
     "text": [
      "Legitimate Transactions Detected (True Negatives):  4891\n",
      "Legitimate Transactions Incorrectly Detected (False Positives):  1153\n",
      "Fraudulent Transactions Missed (False Negatives):  261\n",
      "Fraudulent Transactions Detected (True Positives):  735\n",
      "Total Fraudulent Transactions:  996\n"
     ]
    },
    {
     "data": {
      "image/png": "[encoded data removed]",
      "text/plain": [
       "<Figure size 360x360 with 2 Axes>"
      ]
     },
     "metadata": {
      "needs_background": "light"
     },
     "output_type": "display_data"
    }
   ],
   "source": [
    "plot_cm(Y_test, test_predictions_baseline2)"
   ]
  },
  {
   "cell_type": "code",
   "execution_count": 23,
   "metadata": {},
   "outputs": [],
   "source": [
    "def plot_roc(name, labels, predictions, **kwargs):\n",
    "  fp, tp, _ = sklearn.metrics.roc_curve(labels, predictions)\n",
    "\n",
    "  plt.plot(100*fp, 100*tp, label=name, linewidth=2, **kwargs)\n",
    "  plt.xlabel('False positives [%]')\n",
    "  plt.ylabel('True positives [%]')\n",
    "  plt.xlim([-0.5,100.5])\n",
    "  plt.ylim([-0.5,100.5])\n",
    "  plt.grid(True)\n",
    "  ax = plt.gca()\n",
    "  ax.set_aspect('equal')"
   ]
  },
  {
   "cell_type": "code",
   "execution_count": 14,
   "metadata": {},
   "outputs": [
    {
     "data": {
      "text/plain": [
       "<matplotlib.legend.Legend at 0x21a51cc1608>"
      ]
     },
     "execution_count": 14,
     "metadata": {},
     "output_type": "execute_result"
    },
    {
     "data": {
      "image/png": "[encoded data removed]",
      "text/plain": [
       "<Figure size 864x720 with 1 Axes>"
      ]
     },
     "metadata": {
      "needs_background": "light"
     },
     "output_type": "display_data"
    }
   ],
   "source": [
    "train_predictions_baseline = rf.predict_proba(X_train)[:, 1]\n",
    "test_predictions_baseline = rf.predict_proba(X_test)[:, 1]\n",
    "\n",
    "plot_roc(\"Train Baseline\", Y_train, train_predictions_baseline, color=colors[0])\n",
    "plot_roc(\"Test Baseline\", Y_test, test_predictions_baseline, color=colors[0], linestyle='--')\n",
    "plt.legend(loc='lower right')"
   ]
  },
  {
   "cell_type": "code",
   "execution_count": 12,
   "metadata": {},
   "outputs": [
    {
     "name": "stdout",
     "output_type": "stream",
     "text": [
      "n_est \t average precision\n",
      "10 \t 0.5602517367652842\n",
      "20 \t 0.6673872552546067\n",
      "50 \t 0.7085642682900777\n",
      "100 \t 0.7054699713330098\n",
      "150 \t 0.7026802030973694\n",
      "200 \t 0.7144438560458134\n",
      "300 \t 0.709009551419483\n",
      "400 \t 0.7168782261160132\n",
      "500 \t 0.7197168261802868\n"
     ]
    }
   ],
   "source": [
    "METRICS = ['accuracy', 'precision', 'recall', 'roc_auc']\n",
    "\n",
    "# generate dataset\n",
    "# define model\n",
    "print(\"n_est \\t average precision\")\n",
    "for n_estimators in [10, 20, 50, 100, 150, 200, 300, 400, 500]:\n",
    "    rf = BalancedRandomForestClassifier(n_estimators=n_estimators, max_features='auto', n_jobs=-1)\n",
    "    rf.fit(X_train, Y_train)\n",
    "    pred_rf = rf.predict_proba(X_val)[:, 1]\n",
    "    avg_prec = average_precision(pred_rf, Y_val)\n",
    "    print(n_estimators, '\\t', avg_prec)\n"
   ]
  },
  {
   "cell_type": "code",
   "execution_count": 13,
   "metadata": {},
   "outputs": [
    {
     "name": "stdout",
     "output_type": "stream",
     "text": [
      "Mean precision: 0.327\n",
      "Mean recall: 0.768\n",
      "Mean ROC AUC: 0.858\n"
     ]
    },
    {
     "data": {
      "text/plain": [
       "BalancedRandomForestClassifier()"
      ]
     },
     "execution_count": 13,
     "metadata": {},
     "output_type": "execute_result"
    }
   ],
   "source": [
    "rf = BalancedRandomForestClassifier(n_estimators=100)\n",
    "\n",
    "# define evaluation procedure\n",
    "cv = RepeatedStratifiedKFold(n_splits=10, n_repeats=3, random_state=1)\n",
    "# evaluate model\n",
    "scores = cross_validate(rf, X_test, Y_test, scoring=METRICS, cv=cv, n_jobs=-1)\n",
    "# summarize performance\n",
    "print('Mean precision: %.3f' % mean(scores['test_precision']))\n",
    "print('Mean recall: %.3f' % mean(scores['test_recall']))\n",
    "print('Mean ROC AUC: %.3f' % mean(scores['test_roc_auc']))\n",
    "\n",
    "rf.fit(X_train, Y_train)"
   ]
  },
  {
   "cell_type": "markdown",
   "metadata": {},
   "source": [
    "### Feature selection"
   ]
  },
  {
   "cell_type": "markdown",
   "metadata": {},
   "source": [
    "List all features"
   ]
  },
  {
   "cell_type": "code",
   "execution_count": 24,
   "metadata": {},
   "outputs": [
    {
     "name": "stdout",
     "output_type": "stream",
     "text": [
      "['NetEMD_comb_1', 'NetEMD_comb_2', 'NetEMD_lower_1', 'NetEMD_lower_2', 'NetEMD_rw_1', 'NetEMD_rw_2', 'NetEMD_upper_1', 'NetEMD_upper_2', 'comb_abs90', 'comb_absolute_value', 'comb_exp_1', 'comb_exp_2', 'comb_exp_3', 'comb_exp_4', 'comb_ipr90', 'comb_ipr_1', 'comb_ipr_2', 'comb_ipr_3', 'comb_ipr_4', 'comb_sign_equal_1', 'comb_sign_equal_2', 'comb_sign_stat_1', 'comb_sign_stat_2', 'degree_std', 'first_density', 'first_strength', 'gaw10_score', 'gaw20_score', 'gaw_score', 'in_out_strength_1', 'in_out_strength_2', 'in_strength_1', 'in_strength_2', 'lower_abs90', 'lower_absolute_value', 'lower_exp_1', 'lower_exp_2', 'lower_exp_3', 'lower_exp_4', 'lower_ipr90', 'lower_ipr_1', 'lower_ipr_2', 'lower_ipr_3', 'lower_ipr_4', 'lower_sign_equal_1', 'lower_sign_equal_2', 'lower_sign_stat_1', 'lower_sign_stat_2', 'motif_10_1', 'motif_10_2', 'motif_11_1', 'motif_11_2', 'motif_12_1', 'motif_12_2', 'motif_13_1', 'motif_13_2', 'motif_14_1', 'motif_14_2', 'motif_15_1', 'motif_15_2', 'motif_16_1', 'motif_16_2', 'motif_4_1', 'motif_4_2', 'motif_5_1', 'motif_5_2', 'motif_6_1', 'motif_6_2', 'motif_7_1', 'motif_7_2', 'motif_8_1', 'motif_8_2', 'motif_9_1', 'motif_9_2', 'out_strength_1', 'out_strength_2', 'path_10', 'path_11', 'path_12', 'path_13', 'path_14', 'path_15', 'path_16', 'path_17', 'path_18', 'path_19', 'path_2', 'path_20', 'path_3', 'path_4', 'path_5', 'path_6', 'path_7', 'path_8', 'path_9', 'rw_abs90', 'rw_absolute_value', 'rw_exp_1', 'rw_exp_2', 'rw_exp_3', 'rw_exp_4', 'rw_ipr90', 'rw_ipr_1', 'rw_ipr_2', 'rw_ipr_3', 'rw_ipr_4', 'rw_sign_equal_1', 'rw_sign_equal_2', 'rw_sign_stat_1', 'rw_sign_stat_2', 'second_density', 'second_strength', 'small_community', 'third_density', 'upper_abs90', 'upper_absolute_value', 'upper_exp_1', 'upper_exp_2', 'upper_exp_3', 'upper_exp_4', 'upper_ipr90', 'upper_ipr_1', 'upper_ipr_2', 'upper_ipr_3', 'upper_ipr_4', 'upper_sign_equal_1', 'upper_sign_equal_2', 'upper_sign_stat_1', 'upper_sign_stat_2']\n"
     ]
    }
   ],
   "source": [
    "features = list(X_train.columns)\n",
    "print(features)"
   ]
  },
  {
   "cell_type": "markdown",
   "metadata": {},
   "source": [
    "According to the way by which they are generated, 129 features are divided in 5 categories: Localise, NetEMD, Basic, Path, Community Density."
   ]
  },
  {
   "cell_type": "code",
   "execution_count": 25,
   "metadata": {},
   "outputs": [],
   "source": [
    "features_categories = {}\n",
    "for cat, feats in categories_features.items():\n",
    "    for feat in feats:\n",
    "        features_categories[feat] = cat"
   ]
  },
  {
   "cell_type": "code",
   "execution_count": 52,
   "metadata": {},
   "outputs": [
    {
     "data": {
      "text/plain": [
       "60"
      ]
     },
     "execution_count": 52,
     "metadata": {},
     "output_type": "execute_result"
    }
   ],
   "source": [
    "len(categories_features.get(\"Localise\"))"
   ]
  },
  {
   "cell_type": "code",
   "execution_count": 51,
   "metadata": {},
   "outputs": [
    {
     "data": {
      "text/plain": [
       "40"
      ]
     },
     "execution_count": 51,
     "metadata": {},
     "output_type": "execute_result"
    }
   ],
   "source": [
    "len(categories_features.get(\"NetEMD\"))"
   ]
  },
  {
   "cell_type": "code",
   "execution_count": 52,
   "metadata": {},
   "outputs": [
    {
     "data": {
      "text/plain": [
       "3"
      ]
     },
     "execution_count": 52,
     "metadata": {},
     "output_type": "execute_result"
    }
   ],
   "source": [
    "len(categories_features.get(\"Basic\"))"
   ]
  },
  {
   "cell_type": "code",
   "execution_count": 53,
   "metadata": {},
   "outputs": [
    {
     "data": {
      "text/plain": [
       "19"
      ]
     },
     "execution_count": 53,
     "metadata": {},
     "output_type": "execute_result"
    }
   ],
   "source": [
    "len(categories_features.get(\"Path\"))"
   ]
  },
  {
   "cell_type": "code",
   "execution_count": 54,
   "metadata": {},
   "outputs": [
    {
     "data": {
      "text/plain": [
       "7"
      ]
     },
     "execution_count": 54,
     "metadata": {},
     "output_type": "execute_result"
    }
   ],
   "source": [
    "len(categories_features.get(\"Com. Density\"))"
   ]
  },
  {
   "cell_type": "code",
   "execution_count": 61,
   "metadata": {},
   "outputs": [
    {
     "data": {
      "text/plain": [
       "129"
      ]
     },
     "execution_count": 61,
     "metadata": {},
     "output_type": "execute_result"
    }
   ],
   "source": [
    "len(features)"
   ]
  },
  {
   "cell_type": "markdown",
   "metadata": {},
   "source": [
    "Random Forest can assign each feature an importance, we use this importance to sort features and select some most important ones."
   ]
  },
  {
   "cell_type": "code",
   "execution_count": 26,
   "metadata": {},
   "outputs": [
    {
     "data": {
      "text/plain": [
       "[('comb_absolute_value', 0.05322701641296065),\n",
       " ('rw_absolute_value', 0.0500025770594162),\n",
       " ('upper_absolute_value', 0.0473690839381116),\n",
       " ('NetEMD_lower_1', 0.047242453401738764),\n",
       " ('degree_std', 0.047040526745520214),\n",
       " ('first_density', 0.0469957270835421),\n",
       " ('gaw20_score', 0.04663139142879187),\n",
       " ('lower_absolute_value', 0.04644131964182028),\n",
       " ('gaw10_score', 0.046037558230147164),\n",
       " ('first_strength', 0.04316924827714339),\n",
       " ('second_density', 0.032902658071990755),\n",
       " ('second_strength', 0.03277225731723612),\n",
       " ('NetEMD_lower_2', 0.01874683755236708),\n",
       " ('third_density', 0.016965146890855088),\n",
       " ('path_11', 0.01634676196787512),\n",
       " ('path_10', 0.015774535295820086),\n",
       " ('path_9', 0.015435958680366743),\n",
       " ('path_12', 0.014940717493413833),\n",
       " ('gaw_score', 0.010970638652463262),\n",
       " ('path_8', 0.010512109243981134),\n",
       " ('path_2', 0.009980446662375318),\n",
       " ('NetEMD_rw_1', 0.009905523194440467),\n",
       " ('comb_sign_stat_2', 0.008777201163807586),\n",
       " ('comb_exp_4', 0.008271142449393807),\n",
       " ('upper_sign_stat_2', 0.007863296188744547),\n",
       " ('path_7', 0.0078113267287428165),\n",
       " ('path_14', 0.007798475886605265),\n",
       " ('path_13', 0.007765622159751997),\n",
       " ('comb_sign_stat_1', 0.007702532024708319),\n",
       " ('rw_sign_stat_2', 0.007657818108217533),\n",
       " ('upper_sign_stat_1', 0.00765446832210637),\n",
       " ('rw_sign_stat_1', 0.007520748486685175),\n",
       " ('lower_sign_stat_2', 0.007391891827780241),\n",
       " ('comb_ipr_4', 0.007167003268515341),\n",
       " ('lower_sign_stat_1', 0.007153822982381958),\n",
       " ('path_16', 0.006718018683228062),\n",
       " ('comb_exp_2', 0.006514371324819865),\n",
       " ('lower_ipr_4', 0.006271662697093334),\n",
       " ('comb_ipr_2', 0.006256123396956239),\n",
       " ('path_6', 0.006233309130251394),\n",
       " ('path_3', 0.006061662763729065),\n",
       " ('path_20', 0.005988350944326727),\n",
       " ('path_15', 0.005864587504384965),\n",
       " ('comb_ipr90', 0.005848667969259051),\n",
       " ('NetEMD_rw_2', 0.005792144227197992),\n",
       " ('rw_ipr_1', 0.005764566411688523),\n",
       " ('path_19', 0.005736363246615813),\n",
       " ('lower_ipr_2', 0.0056541859498885185),\n",
       " ('path_18', 0.005596313360161634),\n",
       " ('path_17', 0.00544846573271826),\n",
       " ('rw_exp_4', 0.005378885801378222),\n",
       " ('comb_exp_1', 0.005376183646552813),\n",
       " ('lower_exp_4', 0.0053592353521189524),\n",
       " ('comb_ipr_1', 0.005013720661498383),\n",
       " ('rw_exp_2', 0.004994478790972294),\n",
       " ('lower_exp_2', 0.004911762910506),\n",
       " ('lower_ipr_1', 0.004843384565771547),\n",
       " ('rw_ipr_4', 0.004822118461205749),\n",
       " ('rw_ipr_2', 0.004748642836782007),\n",
       " ('upper_ipr_1', 0.0045849090123085585),\n",
       " ('comb_exp_3', 0.004363694902562769),\n",
       " ('lower_ipr90', 0.004307308644519435),\n",
       " ('upper_exp_2', 0.004283775322878099),\n",
       " ('upper_exp_4', 0.004055080871213617),\n",
       " ('rw_ipr90', 0.0038828253094277624),\n",
       " ('lower_exp_3', 0.0038005530618389553),\n",
       " ('upper_ipr90', 0.0036257730489720136),\n",
       " ('upper_ipr_4', 0.0035305270038751085),\n",
       " ('comb_ipr_3', 0.003378992639612657),\n",
       " ('lower_exp_1', 0.003342792338952046),\n",
       " ('rw_exp_1', 0.0032314117424796967),\n",
       " ('upper_exp_1', 0.0031538762380514005),\n",
       " ('path_5', 0.0030455765760317834),\n",
       " ('upper_ipr_2', 0.0029518718341810042),\n",
       " ('path_4', 0.002941023711135655),\n",
       " ('lower_ipr_3', 0.0028957429255004412),\n",
       " ('upper_exp_3', 0.0028178475347939913),\n",
       " ('rw_ipr_3', 0.0027242760221303447),\n",
       " ('rw_exp_3', 0.002635957173841402),\n",
       " ('upper_ipr_3', 0.002217065088461848),\n",
       " ('comb_abs90', 0.0019426777407316842),\n",
       " ('lower_abs90', 0.0016910933732654748),\n",
       " ('upper_abs90', 0.0016583504033541255),\n",
       " ('NetEMD_comb_2', 0.001539640828596937),\n",
       " ('rw_abs90', 0.0011358330259108622),\n",
       " ('in_strength_2', 0.0007406631404566634),\n",
       " ('in_out_strength_2', 0.0007303874159147208),\n",
       " ('in_strength_1', 0.0005459373126983145),\n",
       " ('in_out_strength_1', 0.0004241082659357649),\n",
       " ('rw_sign_equal_2', 0.00036465719279034565),\n",
       " ('motif_6_2', 0.0003508357333725163),\n",
       " ('NetEMD_comb_1', 0.00032143111262619185),\n",
       " ('comb_sign_equal_1', 0.000273854311009992),\n",
       " ('comb_sign_equal_2', 0.00021252455924230317),\n",
       " ('lower_sign_equal_1', 0.00020161300651661248),\n",
       " ('lower_sign_equal_2', 0.0001781335843643401),\n",
       " ('upper_sign_equal_1', 0.0001680711016254328),\n",
       " ('rw_sign_equal_1', 0.00015418865274988876),\n",
       " ('upper_sign_equal_2', 0.00013083084261543152),\n",
       " ('NetEMD_upper_1', 0.00011176304901328),\n",
       " ('NetEMD_upper_2', 9.607044377989943e-05),\n",
       " ('motif_6_1', 3.370124204985647e-05),\n",
       " ('out_strength_1', 2.8123613329674705e-05),\n",
       " ('motif_10_2', 2.5943670608351644e-05),\n",
       " ('out_strength_2', 2.4589012206206347e-05),\n",
       " ('motif_4_1', 8.54263136111027e-07),\n",
       " ('motif_5_1', 1.9289040680779496e-07),\n",
       " ('motif_10_1', 0.0),\n",
       " ('motif_11_1', 0.0),\n",
       " ('motif_11_2', 0.0),\n",
       " ('motif_12_1', 0.0),\n",
       " ('motif_12_2', 0.0),\n",
       " ('motif_13_1', 0.0),\n",
       " ('motif_13_2', 0.0),\n",
       " ('motif_14_1', 0.0),\n",
       " ('motif_14_2', 0.0),\n",
       " ('motif_15_1', 0.0),\n",
       " ('motif_15_2', 0.0),\n",
       " ('motif_16_1', 0.0),\n",
       " ('motif_16_2', 0.0),\n",
       " ('motif_4_2', 0.0),\n",
       " ('motif_5_2', 0.0),\n",
       " ('motif_7_1', 0.0),\n",
       " ('motif_7_2', 0.0),\n",
       " ('motif_8_1', 0.0),\n",
       " ('motif_8_2', 0.0),\n",
       " ('motif_9_1', 0.0),\n",
       " ('motif_9_2', 0.0),\n",
       " ('small_community', 0.0)]"
      ]
     },
     "execution_count": 26,
     "metadata": {},
     "output_type": "execute_result"
    }
   ],
   "source": [
    "feature_rank = sorted(zip(features, rf.feature_importances_), key=lambda x: x[1], reverse=True)\n",
    "feature_rank"
   ]
  },
  {
   "cell_type": "code",
   "execution_count": 27,
   "metadata": {},
   "outputs": [
    {
     "data": {
      "text/plain": [
       "<matplotlib.lines.Line2D at 0x1fb84a03308>"
      ]
     },
     "execution_count": 27,
     "metadata": {},
     "output_type": "execute_result"
    },
    {
     "data": {
      "image/png": "[encoded data removed]",
      "text/plain": [
       "<Figure size 864x720 with 1 Axes>"
      ]
     },
     "metadata": {
      "needs_background": "light"
     },
     "output_type": "display_data"
    }
   ],
   "source": [
    "f_rank_cumsum = np.cumsum(np.array([x[1] for x in feature_rank]))\n",
    "plt.plot(f_rank_cumsum)\n",
    "plt.title(\"feature importance ranking\")\n",
    "plt.xlabel(\"number of ordered features\")\n",
    "plt.ylabel(\"cumulative feature importance\")\n",
    "plt.axvline(x=14, linestyle='-.', color='r')"
   ]
  },
  {
   "cell_type": "markdown",
   "metadata": {},
   "source": [
    "The figure above shows that there is a obvious elbow at ```num_features = 14```. We will choose only the 14 first features for the next."
   ]
  },
  {
   "cell_type": "code",
   "execution_count": 28,
   "metadata": {},
   "outputs": [
    {
     "name": "stdout",
     "output_type": "stream",
     "text": [
      "['comb_absolute_value', 'rw_absolute_value', 'upper_absolute_value', 'NetEMD_lower_1', 'degree_std', 'first_density', 'gaw20_score', 'lower_absolute_value', 'gaw10_score', 'first_strength', 'second_density', 'second_strength', 'NetEMD_lower_2', 'third_density']\n"
     ]
    }
   ],
   "source": [
    "selected_features = [feat for feat, feat_imp in feature_rank[:14]]\n",
    "print(selected_features)"
   ]
  },
  {
   "cell_type": "markdown",
   "metadata": {},
   "source": [
    "We look into the 14 selected features and see which category they belongs to."
   ]
  },
  {
   "cell_type": "code",
   "execution_count": 29,
   "metadata": {},
   "outputs": [],
   "source": [
    "selected_features_categories = [features_categories[feat] for feat in selected_features]"
   ]
  },
  {
   "cell_type": "code",
   "execution_count": 30,
   "metadata": {},
   "outputs": [
    {
     "data": {
      "image/png": "[encoded data removed]",
      "text/plain": [
       "<Figure size 864x720 with 1 Axes>"
      ]
     },
     "metadata": {
      "needs_background": "light"
     },
     "output_type": "display_data"
    }
   ],
   "source": [
    "plt.figure()\n",
    "plt.hist(selected_features_categories, bins=4, align='mid', rwidth=0.9)\n",
    "plt.title(\"Number of selected features in each category\")\n",
    "plt.ylabel(\"count of features\")\n",
    "plt.xlabel(\"feature categories\")\n",
    "plt.show()"
   ]
  },
  {
   "cell_type": "markdown",
   "metadata": {},
   "source": [
    "__Discussion__:\n",
    "\n",
    "According to the figure above, we notice that The community detection category contributes most, while none path-based features are among the 14 most significant features."
   ]
  },
  {
   "cell_type": "markdown",
   "metadata": {},
   "source": [
    "### Train model on selected features"
   ]
  },
  {
   "cell_type": "markdown",
   "metadata": {},
   "source": [
    "We then retrain the model on only the 14 selected features."
   ]
  },
  {
   "cell_type": "code",
   "execution_count": 31,
   "metadata": {},
   "outputs": [],
   "source": [
    "X_train = X_train.loc[:, selected_features]\n",
    "X_val = X_val.loc[:, selected_features]\n",
    "X_test = X_test.loc[:, selected_features]"
   ]
  },
  {
   "cell_type": "code",
   "execution_count": 32,
   "metadata": {},
   "outputs": [
    {
     "data": {
      "text/plain": [
       "((9600, 14), (2400, 14), (3000, 14))"
      ]
     },
     "execution_count": 32,
     "metadata": {},
     "output_type": "execute_result"
    }
   ],
   "source": [
    "X_train.shape, X_val.shape, X_test.shape"
   ]
  },
  {
   "cell_type": "code",
   "execution_count": 33,
   "metadata": {},
   "outputs": [
    {
     "name": "stdout",
     "output_type": "stream",
     "text": [
      "n_est \t avrage precision\n",
      "10 \t 0.7073948103326522\n",
      "20 \t 0.7236031961193002\n",
      "50 \t 0.7297566099017042\n",
      "100 \t 0.7413192534700612\n",
      "150 \t 0.7406205179586014\n",
      "200 \t 0.7431628764409591\n",
      "250 \t 0.7421398628829523\n",
      "300 \t 0.7473697935114502\n"
     ]
    }
   ],
   "source": [
    "print(\"n_est \\t avrage precision\")\n",
    "for n_estimators in [10, 20, 50, 100, 150, 200, 250, 300]:\n",
    "    rf = RandomForestClassifier(n_estimators=n_estimators, max_features='auto', n_jobs=-1)\n",
    "    rf.fit(X_train, Y_train)\n",
    "    pred_rf = rf.predict_proba(X_test)[:, 1]\n",
    "    avg_prec = average_precision(pred_rf, Y_test)\n",
    "    print(n_estimators, '\\t', avg_prec)"
   ]
  },
  {
   "cell_type": "code",
   "execution_count": 34,
   "metadata": {},
   "outputs": [
    {
     "name": "stdout",
     "output_type": "stream",
     "text": [
      "[[2577   34]\n",
      " [ 190  199]]\n",
      "              precision    recall  f1-score   support\n",
      "\n",
      "           0       0.93      0.99      0.96      2611\n",
      "           1       0.85      0.51      0.64       389\n",
      "\n",
      "    accuracy                           0.93      3000\n",
      "   macro avg       0.89      0.75      0.80      3000\n",
      "weighted avg       0.92      0.93      0.92      3000\n",
      "\n"
     ]
    }
   ],
   "source": [
    "rf = RandomForestClassifier(n_estimators=100, max_features='auto', n_jobs=-1)\n",
    "rf.fit(X_train, Y_train)\n",
    "\n",
    "train_predictions_baseline2 = rf.predict(X_train)\n",
    "test_predictions_baseline2 = rf.predict(X_test)\n",
    "\n",
    "print(confusion_matrix(Y_test,test_predictions_baseline2))\n",
    "print(classification_report(Y_test,test_predictions_baseline2))"
   ]
  },
  {
   "cell_type": "code",
   "execution_count": 35,
   "metadata": {},
   "outputs": [
    {
     "data": {
      "text/plain": [
       "0.7473697935114502"
      ]
     },
     "execution_count": 35,
     "metadata": {},
     "output_type": "execute_result"
    }
   ],
   "source": [
    "avg_prec = average_precision(pred_rf, Y_test)\n",
    "avg_prec"
   ]
  },
  {
   "cell_type": "markdown",
   "metadata": {},
   "source": [
    "### Test on whole networks"
   ]
  },
  {
   "cell_type": "markdown",
   "metadata": {},
   "source": [
    "Formerly, we mix all nodes of different networks together and split them for training and testing. In this section, we will try to train models on some networks and test them on some other networks. The testing networks are kept as a whole. Therefore, for each testing network, we perform the prediciton and evaluation precedure, and then average the performance metrics on all testing networks."
   ]
  },
  {
   "cell_type": "code",
   "execution_count": 39,
   "metadata": {},
   "outputs": [
    {
     "name": "stderr",
     "output_type": "stream",
     "text": [
      "C:\\Users\\ttr\\Anaconda3\\envs\\july\\lib\\site-packages\\ipykernel_launcher.py:6: DeprecationWarning: The default dtype for empty Series will be 'object' instead of 'float64' in a future version. Specify a dtype explicitly to silence this warning.\n",
      "  \n"
     ]
    }
   ],
   "source": [
    "# select_features is no longer None, to use only the 14 seleceted features\n",
    "# mix_all set to False\n",
    "X_train, X_test, Y_train, Y_test = split_train_test(data, test_size=0.3, mix_all=False, select_features=selected_features)"
   ]
  },
  {
   "cell_type": "code",
   "execution_count": 40,
   "metadata": {},
   "outputs": [
    {
     "data": {
      "text/plain": [
       "((11000, 14), 4)"
      ]
     },
     "execution_count": 40,
     "metadata": {},
     "output_type": "execute_result"
    }
   ],
   "source": [
    "X_train.shape, len(X_test)"
   ]
  },
  {
   "cell_type": "code",
   "execution_count": 41,
   "metadata": {},
   "outputs": [
    {
     "data": {
      "text/plain": [
       "RandomForestClassifier(n_jobs=-1)"
      ]
     },
     "execution_count": 41,
     "metadata": {},
     "output_type": "execute_result"
    }
   ],
   "source": [
    "rf = RandomForestClassifier(n_estimators=100, max_features='auto', n_jobs=-1)\n",
    "rf.fit(X_train, Y_train)"
   ]
  },
  {
   "cell_type": "code",
   "execution_count": 42,
   "metadata": {
    "scrolled": true
   },
   "outputs": [
    {
     "data": {
      "text/html": [
       "<div>\n",
       "<style scoped>\n",
       "    .dataframe tbody tr th:only-of-type {\n",
       "        vertical-align: middle;\n",
       "    }\n",
       "\n",
       "    .dataframe tbody tr th {\n",
       "        vertical-align: top;\n",
       "    }\n",
       "\n",
       "    .dataframe thead th {\n",
       "        text-align: right;\n",
       "    }\n",
       "</style>\n",
       "<table border=\"1\" class=\"dataframe\">\n",
       "  <thead>\n",
       "    <tr style=\"text-align: right;\">\n",
       "      <th></th>\n",
       "      <th></th>\n",
       "      <th>precision</th>\n",
       "      <th>recall</th>\n",
       "      <th>f1-score</th>\n",
       "      <th>avg-precision</th>\n",
       "    </tr>\n",
       "    <tr>\n",
       "      <th>network_id</th>\n",
       "      <th>sample_size</th>\n",
       "      <th></th>\n",
       "      <th></th>\n",
       "      <th></th>\n",
       "      <th></th>\n",
       "    </tr>\n",
       "  </thead>\n",
       "  <tbody>\n",
       "    <tr>\n",
       "      <th rowspan=\"7\" valign=\"top\">0</th>\n",
       "      <th>8</th>\n",
       "      <td>0.000000</td>\n",
       "      <td>0.000000</td>\n",
       "      <td>0.000000</td>\n",
       "      <td>0.177630</td>\n",
       "    </tr>\n",
       "    <tr>\n",
       "      <th>16</th>\n",
       "      <td>0.187500</td>\n",
       "      <td>0.037500</td>\n",
       "      <td>0.062500</td>\n",
       "      <td>0.177630</td>\n",
       "    </tr>\n",
       "    <tr>\n",
       "      <th>32</th>\n",
       "      <td>0.281250</td>\n",
       "      <td>0.112500</td>\n",
       "      <td>0.160714</td>\n",
       "      <td>0.177630</td>\n",
       "    </tr>\n",
       "    <tr>\n",
       "      <th>64</th>\n",
       "      <td>0.281250</td>\n",
       "      <td>0.225000</td>\n",
       "      <td>0.250000</td>\n",
       "      <td>0.177630</td>\n",
       "    </tr>\n",
       "    <tr>\n",
       "      <th>128</th>\n",
       "      <td>0.250000</td>\n",
       "      <td>0.400000</td>\n",
       "      <td>0.307692</td>\n",
       "      <td>0.177630</td>\n",
       "    </tr>\n",
       "    <tr>\n",
       "      <th>256</th>\n",
       "      <td>0.164062</td>\n",
       "      <td>0.525000</td>\n",
       "      <td>0.250000</td>\n",
       "      <td>0.177630</td>\n",
       "    </tr>\n",
       "    <tr>\n",
       "      <th>512</th>\n",
       "      <td>0.113281</td>\n",
       "      <td>0.725000</td>\n",
       "      <td>0.195946</td>\n",
       "      <td>0.177630</td>\n",
       "    </tr>\n",
       "    <tr>\n",
       "      <th rowspan=\"7\" valign=\"top\">1</th>\n",
       "      <th>8</th>\n",
       "      <td>0.625000</td>\n",
       "      <td>0.031250</td>\n",
       "      <td>0.059524</td>\n",
       "      <td>0.236893</td>\n",
       "    </tr>\n",
       "    <tr>\n",
       "      <th>16</th>\n",
       "      <td>0.687500</td>\n",
       "      <td>0.068750</td>\n",
       "      <td>0.125000</td>\n",
       "      <td>0.236893</td>\n",
       "    </tr>\n",
       "    <tr>\n",
       "      <th>32</th>\n",
       "      <td>0.500000</td>\n",
       "      <td>0.100000</td>\n",
       "      <td>0.166667</td>\n",
       "      <td>0.236893</td>\n",
       "    </tr>\n",
       "    <tr>\n",
       "      <th>64</th>\n",
       "      <td>0.328125</td>\n",
       "      <td>0.131250</td>\n",
       "      <td>0.187500</td>\n",
       "      <td>0.236893</td>\n",
       "    </tr>\n",
       "    <tr>\n",
       "      <th>128</th>\n",
       "      <td>0.234375</td>\n",
       "      <td>0.187500</td>\n",
       "      <td>0.208333</td>\n",
       "      <td>0.236893</td>\n",
       "    </tr>\n",
       "    <tr>\n",
       "      <th>256</th>\n",
       "      <td>0.203125</td>\n",
       "      <td>0.325000</td>\n",
       "      <td>0.250000</td>\n",
       "      <td>0.236893</td>\n",
       "    </tr>\n",
       "    <tr>\n",
       "      <th>512</th>\n",
       "      <td>0.173828</td>\n",
       "      <td>0.556250</td>\n",
       "      <td>0.264881</td>\n",
       "      <td>0.236893</td>\n",
       "    </tr>\n",
       "    <tr>\n",
       "      <th rowspan=\"7\" valign=\"top\">2</th>\n",
       "      <th>8</th>\n",
       "      <td>1.000000</td>\n",
       "      <td>0.036866</td>\n",
       "      <td>0.071111</td>\n",
       "      <td>0.463119</td>\n",
       "    </tr>\n",
       "    <tr>\n",
       "      <th>16</th>\n",
       "      <td>1.000000</td>\n",
       "      <td>0.073733</td>\n",
       "      <td>0.137339</td>\n",
       "      <td>0.463119</td>\n",
       "    </tr>\n",
       "    <tr>\n",
       "      <th>32</th>\n",
       "      <td>0.906250</td>\n",
       "      <td>0.133641</td>\n",
       "      <td>0.232932</td>\n",
       "      <td>0.463119</td>\n",
       "    </tr>\n",
       "    <tr>\n",
       "      <th>64</th>\n",
       "      <td>0.609375</td>\n",
       "      <td>0.179724</td>\n",
       "      <td>0.277580</td>\n",
       "      <td>0.463119</td>\n",
       "    </tr>\n",
       "    <tr>\n",
       "      <th>128</th>\n",
       "      <td>0.382812</td>\n",
       "      <td>0.225806</td>\n",
       "      <td>0.284058</td>\n",
       "      <td>0.463119</td>\n",
       "    </tr>\n",
       "    <tr>\n",
       "      <th>256</th>\n",
       "      <td>0.367188</td>\n",
       "      <td>0.433180</td>\n",
       "      <td>0.397463</td>\n",
       "      <td>0.463119</td>\n",
       "    </tr>\n",
       "    <tr>\n",
       "      <th>512</th>\n",
       "      <td>0.363281</td>\n",
       "      <td>0.857143</td>\n",
       "      <td>0.510288</td>\n",
       "      <td>0.463119</td>\n",
       "    </tr>\n",
       "    <tr>\n",
       "      <th rowspan=\"7\" valign=\"top\">3</th>\n",
       "      <th>8</th>\n",
       "      <td>0.750000</td>\n",
       "      <td>0.065934</td>\n",
       "      <td>0.121212</td>\n",
       "      <td>0.223662</td>\n",
       "    </tr>\n",
       "    <tr>\n",
       "      <th>16</th>\n",
       "      <td>0.562500</td>\n",
       "      <td>0.098901</td>\n",
       "      <td>0.168224</td>\n",
       "      <td>0.223662</td>\n",
       "    </tr>\n",
       "    <tr>\n",
       "      <th>32</th>\n",
       "      <td>0.375000</td>\n",
       "      <td>0.131868</td>\n",
       "      <td>0.195122</td>\n",
       "      <td>0.223662</td>\n",
       "    </tr>\n",
       "    <tr>\n",
       "      <th>64</th>\n",
       "      <td>0.250000</td>\n",
       "      <td>0.175824</td>\n",
       "      <td>0.206452</td>\n",
       "      <td>0.223662</td>\n",
       "    </tr>\n",
       "    <tr>\n",
       "      <th>128</th>\n",
       "      <td>0.187500</td>\n",
       "      <td>0.263736</td>\n",
       "      <td>0.219178</td>\n",
       "      <td>0.223662</td>\n",
       "    </tr>\n",
       "    <tr>\n",
       "      <th>256</th>\n",
       "      <td>0.156250</td>\n",
       "      <td>0.439560</td>\n",
       "      <td>0.230548</td>\n",
       "      <td>0.223662</td>\n",
       "    </tr>\n",
       "    <tr>\n",
       "      <th>512</th>\n",
       "      <td>0.156250</td>\n",
       "      <td>0.879121</td>\n",
       "      <td>0.265340</td>\n",
       "      <td>0.223662</td>\n",
       "    </tr>\n",
       "  </tbody>\n",
       "</table>\n",
       "</div>"
      ],
      "text/plain": [
       "                        precision    recall  f1-score  avg-precision\n",
       "network_id sample_size                                              \n",
       "0          8             0.000000  0.000000  0.000000       0.177630\n",
       "           16            0.187500  0.037500  0.062500       0.177630\n",
       "           32            0.281250  0.112500  0.160714       0.177630\n",
       "           64            0.281250  0.225000  0.250000       0.177630\n",
       "           128           0.250000  0.400000  0.307692       0.177630\n",
       "           256           0.164062  0.525000  0.250000       0.177630\n",
       "           512           0.113281  0.725000  0.195946       0.177630\n",
       "1          8             0.625000  0.031250  0.059524       0.236893\n",
       "           16            0.687500  0.068750  0.125000       0.236893\n",
       "           32            0.500000  0.100000  0.166667       0.236893\n",
       "           64            0.328125  0.131250  0.187500       0.236893\n",
       "           128           0.234375  0.187500  0.208333       0.236893\n",
       "           256           0.203125  0.325000  0.250000       0.236893\n",
       "           512           0.173828  0.556250  0.264881       0.236893\n",
       "2          8             1.000000  0.036866  0.071111       0.463119\n",
       "           16            1.000000  0.073733  0.137339       0.463119\n",
       "           32            0.906250  0.133641  0.232932       0.463119\n",
       "           64            0.609375  0.179724  0.277580       0.463119\n",
       "           128           0.382812  0.225806  0.284058       0.463119\n",
       "           256           0.367188  0.433180  0.397463       0.463119\n",
       "           512           0.363281  0.857143  0.510288       0.463119\n",
       "3          8             0.750000  0.065934  0.121212       0.223662\n",
       "           16            0.562500  0.098901  0.168224       0.223662\n",
       "           32            0.375000  0.131868  0.195122       0.223662\n",
       "           64            0.250000  0.175824  0.206452       0.223662\n",
       "           128           0.187500  0.263736  0.219178       0.223662\n",
       "           256           0.156250  0.439560  0.230548       0.223662\n",
       "           512           0.156250  0.879121  0.265340       0.223662"
      ]
     },
     "execution_count": 42,
     "metadata": {},
     "output_type": "execute_result"
    }
   ],
   "source": [
    "sample_sizes = [8, 16, 32, 64, 128, 256, 512]\n",
    "performance_measures = ['precision', 'recall', 'f1-score', 'avg-precision']\n",
    "network_index = sorted(list(range(len(X_test)))*len(sample_sizes))\n",
    "performance_matrix = pd.DataFrame(columns=performance_measures, index=[network_index, sample_sizes*len(X_test)], dtype=float)\n",
    "performance_matrix.index.names= ['network_id', 'sample_size']\n",
    "\n",
    "for network_id, (network, labels) in enumerate(zip(X_test, Y_test)):\n",
    "    pred = rf.predict_proba(network)[:, 1]\n",
    "    avg_prec = average_precision(pred, labels)\n",
    "    precs, recs, f1s = precision_recall(pred, labels, *sample_sizes)\n",
    "    for sample_size, prec, rec, f1 in zip(sample_sizes, precs, recs, f1s):\n",
    "        performance_matrix.loc[(network_id, sample_size), 'precision'] = prec\n",
    "        performance_matrix.loc[(network_id, sample_size), 'recall'] = rec\n",
    "        performance_matrix.loc[(network_id, sample_size), 'f1-score'] = f1\n",
    "        performance_matrix.loc[(network_id, sample_size), 'avg-precision'] = avg_prec\n",
    "performance_matrix"
   ]
  },
  {
   "cell_type": "code",
   "execution_count": 43,
   "metadata": {},
   "outputs": [
    {
     "data": {
      "text/html": [
       "<div>\n",
       "<style scoped>\n",
       "    .dataframe tbody tr th:only-of-type {\n",
       "        vertical-align: middle;\n",
       "    }\n",
       "\n",
       "    .dataframe tbody tr th {\n",
       "        vertical-align: top;\n",
       "    }\n",
       "\n",
       "    .dataframe thead th {\n",
       "        text-align: right;\n",
       "    }\n",
       "</style>\n",
       "<table border=\"1\" class=\"dataframe\">\n",
       "  <thead>\n",
       "    <tr style=\"text-align: right;\">\n",
       "      <th></th>\n",
       "      <th>precision</th>\n",
       "      <th>recall</th>\n",
       "      <th>f1-score</th>\n",
       "      <th>avg-precision</th>\n",
       "    </tr>\n",
       "    <tr>\n",
       "      <th>sample_size</th>\n",
       "      <th></th>\n",
       "      <th></th>\n",
       "      <th></th>\n",
       "      <th></th>\n",
       "    </tr>\n",
       "  </thead>\n",
       "  <tbody>\n",
       "    <tr>\n",
       "      <th>8</th>\n",
       "      <td>0.593750</td>\n",
       "      <td>0.033513</td>\n",
       "      <td>0.062962</td>\n",
       "      <td>0.275326</td>\n",
       "    </tr>\n",
       "    <tr>\n",
       "      <th>16</th>\n",
       "      <td>0.609375</td>\n",
       "      <td>0.069721</td>\n",
       "      <td>0.123266</td>\n",
       "      <td>0.275326</td>\n",
       "    </tr>\n",
       "    <tr>\n",
       "      <th>32</th>\n",
       "      <td>0.515625</td>\n",
       "      <td>0.119502</td>\n",
       "      <td>0.188859</td>\n",
       "      <td>0.275326</td>\n",
       "    </tr>\n",
       "    <tr>\n",
       "      <th>64</th>\n",
       "      <td>0.367188</td>\n",
       "      <td>0.177949</td>\n",
       "      <td>0.230383</td>\n",
       "      <td>0.275326</td>\n",
       "    </tr>\n",
       "    <tr>\n",
       "      <th>128</th>\n",
       "      <td>0.263672</td>\n",
       "      <td>0.269261</td>\n",
       "      <td>0.254815</td>\n",
       "      <td>0.275326</td>\n",
       "    </tr>\n",
       "    <tr>\n",
       "      <th>256</th>\n",
       "      <td>0.222656</td>\n",
       "      <td>0.430685</td>\n",
       "      <td>0.282003</td>\n",
       "      <td>0.275326</td>\n",
       "    </tr>\n",
       "    <tr>\n",
       "      <th>512</th>\n",
       "      <td>0.201660</td>\n",
       "      <td>0.754378</td>\n",
       "      <td>0.309114</td>\n",
       "      <td>0.275326</td>\n",
       "    </tr>\n",
       "  </tbody>\n",
       "</table>\n",
       "</div>"
      ],
      "text/plain": [
       "             precision    recall  f1-score  avg-precision\n",
       "sample_size                                              \n",
       "8             0.593750  0.033513  0.062962       0.275326\n",
       "16            0.609375  0.069721  0.123266       0.275326\n",
       "32            0.515625  0.119502  0.188859       0.275326\n",
       "64            0.367188  0.177949  0.230383       0.275326\n",
       "128           0.263672  0.269261  0.254815       0.275326\n",
       "256           0.222656  0.430685  0.282003       0.275326\n",
       "512           0.201660  0.754378  0.309114       0.275326"
      ]
     },
     "execution_count": 43,
     "metadata": {},
     "output_type": "execute_result"
    }
   ],
   "source": [
    "average_performance = performance_matrix.groupby('sample_size').mean()\n",
    "std_performance = performance_matrix.groupby('sample_size').std()\n",
    "average_performance"
   ]
  },
  {
   "cell_type": "code",
   "execution_count": 44,
   "metadata": {},
   "outputs": [
    {
     "data": {
      "image/png": "[encoded data removed]",
      "text/plain": [
       "<Figure size 648x288 with 3 Axes>"
      ]
     },
     "metadata": {
      "needs_background": "light"
     },
     "output_type": "display_data"
    }
   ],
   "source": [
    "plt.figure(figsize=(9, 4))\n",
    "\n",
    "plt.subplot(131)\n",
    "plt.errorbar(sample_sizes, average_performance['precision'], yerr=std_performance['precision'], ecolor='r')\n",
    "plt.xscale('log')\n",
    "plt.title(\"precision\")\n",
    "plt.xlabel('No. nodes')\n",
    "\n",
    "plt.subplot(132)\n",
    "plt.errorbar(sample_sizes, average_performance['recall'], yerr=std_performance['recall'], ecolor='r')\n",
    "plt.xscale('log')\n",
    "plt.title(\"recall\")\n",
    "plt.xlabel('No. nodes')\n",
    "\n",
    "plt.subplot(133)\n",
    "plt.errorbar(sample_sizes, average_performance['f1-score'], yerr=std_performance['f1-score'], ecolor='r')\n",
    "plt.xscale('log')\n",
    "plt.title(\"F1-score\")\n",
    "plt.xlabel('No. nodes')\n",
    "\n",
    "plt.tight_layout()"
   ]
  },
  {
   "cell_type": "code",
   "execution_count": null,
   "metadata": {},
   "outputs": [],
   "source": []
  }
 ],
 "metadata": {
  "kernelspec": {
   "display_name": "Python 3",
   "language": "python",
   "name": "python3"
  },
  "language_info": {
   "codemirror_mode": {
    "name": "ipython",
    "version": 3
   },
   "file_extension": ".py",
   "mimetype": "text/x-python",
   "name": "python",
   "nbconvert_exporter": "python",
   "pygments_lexer": "ipython3",
   "version": "3.7.9"
  }
 },
 "nbformat": 4,
 "nbformat_minor": 2
}
