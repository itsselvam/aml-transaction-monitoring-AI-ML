{
 "cells": [
  {
   "cell_type": "markdown",
   "metadata": {},
   "source": [
    "# Unsupervised approach - Feature Sum Model\n",
    "\n",
    "Paper: A. Elliott, M. Cucuringu, M. M. Luaces, P. Reidy, and G. Reinert, Anomaly detection in networks with application to financial transaction networks, 2019\n",
    "\n",
    "Based on the open source: https://github.com/zhangcheng1006/Anomaly-Detection-in-Networks"
   ]
  },
  {
   "cell_type": "code",
   "execution_count": 1,
   "metadata": {},
   "outputs": [],
   "source": [
    "import numpy as np\n",
    "import networkx as nx\n",
    "import pandas as pd\n",
    "import matplotlib.pyplot as plt\n",
    "import logging\n",
    "logging.basicConfig(format='%(asctime)s - %(levelname)s - %(message)s', level=logging.INFO)\n",
    "\n",
    "import os\n",
    "from sklearn.model_selection import train_test_split\n",
    "from sklearn.ensemble import RandomForestClassifier\n",
    "\n",
    "from utils import *\n",
    "\n",
    "%matplotlib inline"
   ]
  },
  {
   "cell_type": "markdown",
   "metadata": {},
   "source": [
    "## Loading the generated data\n",
    "\n",
    "The generated data are a combination of different generated transaction graph and their calculated features."
   ]
  },
  {
   "cell_type": "code",
   "execution_count": 3,
   "metadata": {},
   "outputs": [
    {
     "name": "stdout",
     "output_type": "stream",
     "text": [
      "1000_Network_p_0.002_w_0.003.json  - max_node_id= -1\n",
      "1000_Network_p_0.002_w_0.008.json  - max_node_id= 999\n",
      "1000_Network_p_0.002_w_0.009.json  - max_node_id= 1999\n",
      "1000_Network_p_0.004_w_0.004.json  - max_node_id= 2999\n",
      "1000_Network_p_0.004_w_0.007.json  - max_node_id= 3999\n",
      "1000_Network_p_0.004_w_0.009.json  - max_node_id= 4999\n",
      "1000_Network_p_0.005_w_0.009.json  - max_node_id= 5999\n",
      "1000_Network_p_0.006_w_0.007.json  - max_node_id= 6999\n",
      "1000_Network_p_0.007_w_0.002.json  - max_node_id= 7999\n",
      "1000_Network_p_0.007_w_0.009.json  - max_node_id= 8999\n",
      "1000_Network_p_0.007_w_0.010.json  - max_node_id= 9999\n",
      "1000_Network_p_0.008_w_0.000.json  - max_node_id= 10999\n",
      "1000_Network_p_0.008_w_0.005.json  - max_node_id= 11999\n",
      "1000_Network_p_0.008_w_0.007.json  - max_node_id= 12999\n",
      "1000_Network_p_0.010_w_0.001.json  - max_node_id= 13999\n",
      "1000_Network_p_0.010_w_0.006.json  - max_node_id= 14999\n",
      "1000_Network_p_0.011_w_0.003.json  - max_node_id= 15999\n",
      "1000_Network_p_0.011_w_0.005.json  - max_node_id= 16999\n",
      "1000_Network_p_0.011_w_0.006.json  - max_node_id= 17999\n",
      "1000_Network_p_0.012_w_0.002.json  - max_node_id= 18999\n",
      "1000_Network_p_0.013_w_0.006.json  - max_node_id= 19999\n",
      "1000_Network_p_0.014_w_0.003.json  - max_node_id= 20999\n",
      "1000_Network_p_0.014_w_0.008.json  - max_node_id= 21999\n",
      "1000_Network_p_0.015_w_0.006.json  - max_node_id= 22999\n",
      "1000_Network_p_0.015_w_0.008.json  - max_node_id= 23999\n",
      "1000_Network_p_0.016_w_0.003.json  - max_node_id= 24999\n",
      "1000_Network_p_0.016_w_0.004.json  - max_node_id= 25999\n",
      "1000_Network_p_0.016_w_0.005.json  - max_node_id= 26999\n",
      "1000_Network_p_0.019_w_0.004.json  - max_node_id= 27999\n",
      "1000_Network_p_0.019_w_0.007.json  - max_node_id= 28999\n",
      "1000_Network_p_0.020_w_0.007.json  - max_node_id= 29999\n",
      "1000_Network_p_0.021_w_0.004.json  - max_node_id= 30999\n",
      "1000_Network_p_0.021_w_0.006.json  - max_node_id= 31999\n",
      "1000_Network_p_0.021_w_0.007.json  - max_node_id= 32999\n",
      "1000_Network_p_0.023_w_0.002.json  - max_node_id= 33999\n",
      "1000_Network_p_0.024_w_0.001.json  - max_node_id= 34999\n",
      "1000_Network_p_0.024_w_0.006.json  - max_node_id= 35999\n",
      "1000_Network_p_0.027_w_0.000.json  - max_node_id= 36999\n",
      "1000_Network_p_0.029_w_0.000.json  - max_node_id= 37999\n",
      "1000_Network_p_0.031_w_0.003.json  - max_node_id= 38999\n",
      "1000_Network_p_0.033_w_0.004.json  - max_node_id= 39999\n",
      "1000_Network_p_0.035_w_0.001.json  - max_node_id= 40999\n",
      "1000_Network_p_0.040_w_0.002.json  - max_node_id= 41999\n",
      "1000_Network_p_0.047_w_0.001.json  - max_node_id= 42999\n"
     ]
    }
   ],
   "source": [
    "data_path = './data_small_graph/'\n",
    "\n",
    "combined_directed_G = load_networkx_graphs(data_path)\n",
    "X, Y, _ = retrieve_node_features_and_labels_tuple(combined_directed_G)"
   ]
  },
  {
   "cell_type": "markdown",
   "metadata": {},
   "source": [
    "## Feature Sum (Unsupervised)\n",
    "\n",
    "\n",
    "The feature sum method sums simply the values of different features. However, as different features may have very different scales, we also allow normalizing each feature by a MinMaxScaler before summing them up."
   ]
  },
  {
   "cell_type": "markdown",
   "metadata": {},
   "source": [
    "__Discussion__:\n",
    "\n",
    "Feature sum method relies on the ranking of the sum of features, so there is no need to do train-test-split."
   ]
  },
  {
   "cell_type": "markdown",
   "metadata": {},
   "source": [
    "#### Feature sum without normalization"
   ]
  },
  {
   "cell_type": "markdown",
   "metadata": {},
   "source": [
    "Prediction by feature sum, and then compute the precision, recall, F1-score for different sample sizes."
   ]
  },
  {
   "cell_type": "code",
   "execution_count": 4,
   "metadata": {},
   "outputs": [
    {
     "name": "stdout",
     "output_type": "stream",
     "text": [
      "Examples:\n",
      "    Total: 44000\n",
      "    Positive: 6214 (14.12% of total)\n",
      "\n"
     ]
    }
   ],
   "source": [
    "neg, pos = np.bincount(Y)\n",
    "total = neg + pos\n",
    "print('Examples:\\n    Total: {}\\n    Positive: {} ({:.2f}% of total)\\n'.format(\n",
    "    total, pos, 100 * pos / total))"
   ]
  },
  {
   "cell_type": "code",
   "execution_count": 5,
   "metadata": {},
   "outputs": [],
   "source": [
    "pred_fs = feature_sum(X, normalize=False)\n",
    "\n",
    "sample_sizes = [8, 16, 32, 64, 128, 256, 512, 1014, 2000, 4000, 6000, 8000, 10000, 11250, 15000]\n",
    "precs, recs, f1 = precision_recall(pred_fs, Y, *sample_sizes)"
   ]
  },
  {
   "cell_type": "code",
   "execution_count": 6,
   "metadata": {},
   "outputs": [
    {
     "name": "stdout",
     "output_type": "stream",
     "text": [
      "Total number of samples: 44000\n",
      "\n",
      "samples\tprecision\trecall\tf1_score\n",
      "----------------------------------------\n",
      "8\t1.000\t\t0.001\t0.003\n",
      "16\t0.938\t\t0.002\t0.005\n",
      "32\t0.562\t\t0.003\t0.006\n",
      "64\t0.656\t\t0.007\t0.013\n",
      "128\t0.641\t\t0.013\t0.026\n",
      "256\t0.508\t\t0.021\t0.040\n",
      "512\t0.451\t\t0.037\t0.069\n",
      "1014\t0.402\t\t0.066\t0.113\n",
      "2000\t0.311\t\t0.100\t0.152\n",
      "4000\t0.270\t\t0.174\t0.211\n",
      "6000\t0.233\t\t0.225\t0.229\n",
      "8000\t0.208\t\t0.268\t0.234\n",
      "10000\t0.194\t\t0.312\t0.239\n",
      "11250\t0.186\t\t0.336\t0.239\n",
      "15000\t0.178\t\t0.431\t0.252\n"
     ]
    }
   ],
   "source": [
    "print(\"Total number of samples: {}\\n\".format(len(Y)))\n",
    "print(\"{}\\t{}\\t{}\\t{}\".format('samples', 'precision', 'recall', 'f1_score'))\n",
    "print('-'*40)\n",
    "for samples, prec, rec, f_1 in zip(sample_sizes, precs, recs, f1):\n",
    "    print('{}\\t{:.3f}\\t\\t{:.3f}\\t{:.3f}'.format(samples, prec, rec, f_1))"
   ]
  },
  {
   "cell_type": "code",
   "execution_count": 7,
   "metadata": {},
   "outputs": [
    {
     "data": {
      "text/plain": [
       "0.21156544931980242"
      ]
     },
     "execution_count": 7,
     "metadata": {},
     "output_type": "execute_result"
    }
   ],
   "source": [
    "avg_prec = average_precision(pred_fs, Y) \n",
    "avg_prec"
   ]
  },
  {
   "cell_type": "code",
   "execution_count": 8,
   "metadata": {},
   "outputs": [],
   "source": [
    "result_df = pd.DataFrame({'Y': Y, 'pred_fs': pred_fs})\n",
    "result_df = result_df.sort_values(by=['pred_fs'], ascending=False)"
   ]
  },
  {
   "cell_type": "code",
   "execution_count": 9,
   "metadata": {},
   "outputs": [
    {
     "data": {
      "text/html": [
       "<div>\n",
       "<style scoped>\n",
       "    .dataframe tbody tr th:only-of-type {\n",
       "        vertical-align: middle;\n",
       "    }\n",
       "\n",
       "    .dataframe tbody tr th {\n",
       "        vertical-align: top;\n",
       "    }\n",
       "\n",
       "    .dataframe thead th {\n",
       "        text-align: right;\n",
       "    }\n",
       "</style>\n",
       "<table border=\"1\" class=\"dataframe\">\n",
       "  <thead>\n",
       "    <tr style=\"text-align: right;\">\n",
       "      <th></th>\n",
       "      <th>Y</th>\n",
       "      <th>pred_fs</th>\n",
       "    </tr>\n",
       "  </thead>\n",
       "  <tbody>\n",
       "    <tr>\n",
       "      <th>37347</th>\n",
       "      <td>1</td>\n",
       "      <td>1934.377740</td>\n",
       "    </tr>\n",
       "    <tr>\n",
       "      <th>37212</th>\n",
       "      <td>1</td>\n",
       "      <td>1931.017064</td>\n",
       "    </tr>\n",
       "    <tr>\n",
       "      <th>37839</th>\n",
       "      <td>1</td>\n",
       "      <td>1930.992847</td>\n",
       "    </tr>\n",
       "    <tr>\n",
       "      <th>37017</th>\n",
       "      <td>1</td>\n",
       "      <td>1930.218876</td>\n",
       "    </tr>\n",
       "    <tr>\n",
       "      <th>37416</th>\n",
       "      <td>1</td>\n",
       "      <td>1930.182462</td>\n",
       "    </tr>\n",
       "    <tr>\n",
       "      <th>...</th>\n",
       "      <td>...</td>\n",
       "      <td>...</td>\n",
       "    </tr>\n",
       "    <tr>\n",
       "      <th>25962</th>\n",
       "      <td>0</td>\n",
       "      <td>15.667713</td>\n",
       "    </tr>\n",
       "    <tr>\n",
       "      <th>25891</th>\n",
       "      <td>0</td>\n",
       "      <td>15.664104</td>\n",
       "    </tr>\n",
       "    <tr>\n",
       "      <th>40050</th>\n",
       "      <td>0</td>\n",
       "      <td>15.370605</td>\n",
       "    </tr>\n",
       "    <tr>\n",
       "      <th>25604</th>\n",
       "      <td>0</td>\n",
       "      <td>15.143244</td>\n",
       "    </tr>\n",
       "    <tr>\n",
       "      <th>25286</th>\n",
       "      <td>0</td>\n",
       "      <td>14.854050</td>\n",
       "    </tr>\n",
       "  </tbody>\n",
       "</table>\n",
       "<p>44000 rows × 2 columns</p>\n",
       "</div>"
      ],
      "text/plain": [
       "       Y      pred_fs\n",
       "37347  1  1934.377740\n",
       "37212  1  1931.017064\n",
       "37839  1  1930.992847\n",
       "37017  1  1930.218876\n",
       "37416  1  1930.182462\n",
       "...   ..          ...\n",
       "25962  0    15.667713\n",
       "25891  0    15.664104\n",
       "40050  0    15.370605\n",
       "25604  0    15.143244\n",
       "25286  0    14.854050\n",
       "\n",
       "[44000 rows x 2 columns]"
      ]
     },
     "execution_count": 9,
     "metadata": {},
     "output_type": "execute_result"
    }
   ],
   "source": [
    "result_df"
   ]
  },
  {
   "cell_type": "code",
   "execution_count": 10,
   "metadata": {},
   "outputs": [
    {
     "data": {
      "image/png": "[encoded data removed]",
      "text/plain": [
       "<Figure size 648x288 with 3 Axes>"
      ]
     },
     "metadata": {
      "needs_background": "light"
     },
     "output_type": "display_data"
    }
   ],
   "source": [
    "plt.figure(figsize=(9, 4))\n",
    "\n",
    "plt.subplot(131)\n",
    "plt.plot(sample_sizes, precs)\n",
    "plt.xscale('log')\n",
    "plt.title(\"precision\")\n",
    "plt.xlabel('No. nodes')\n",
    "\n",
    "plt.subplot(132)\n",
    "plt.plot(sample_sizes, recs)\n",
    "plt.xscale('log')\n",
    "plt.title(\"recall\")\n",
    "plt.xlabel('No. nodes')\n",
    "\n",
    "plt.subplot(133)\n",
    "plt.plot(sample_sizes, f1)\n",
    "plt.xscale('log')\n",
    "plt.title(\"F1-score\")\n",
    "plt.xlabel('No. nodes')\n",
    "\n",
    "plt.tight_layout()"
   ]
  },
  {
   "cell_type": "markdown",
   "metadata": {},
   "source": [
    "#### Feature sum with normalization\n",
    "In this part, we normalize the features to avoid difference of scales of different features."
   ]
  },
  {
   "cell_type": "code",
   "execution_count": 11,
   "metadata": {},
   "outputs": [],
   "source": [
    "pred_fs_norm = feature_sum(X, normalize=True)"
   ]
  },
  {
   "cell_type": "code",
   "execution_count": 12,
   "metadata": {},
   "outputs": [],
   "source": [
    "sample_sizes = [8, 16, 32, 64, 128, 256, 512, 1014, 2000, 4000, 6000, 8000, 10000, 11250, 15000]\n",
    "precs, recs, f1 = precision_recall(pred_fs_norm, Y, *sample_sizes)"
   ]
  },
  {
   "cell_type": "code",
   "execution_count": 13,
   "metadata": {},
   "outputs": [
    {
     "name": "stdout",
     "output_type": "stream",
     "text": [
      "Total number of samples: 44000\n",
      "\n",
      "samples\tprecision\trecall\tf1_score\n",
      "----------------------------------------\n",
      "8\t0.875\t\t0.001\t0.002\n",
      "16\t0.750\t\t0.002\t0.004\n",
      "32\t0.594\t\t0.003\t0.006\n",
      "64\t0.391\t\t0.004\t0.008\n",
      "128\t0.273\t\t0.006\t0.011\n",
      "256\t0.191\t\t0.008\t0.015\n",
      "512\t0.178\t\t0.015\t0.027\n",
      "1014\t0.215\t\t0.035\t0.060\n",
      "2000\t0.229\t\t0.074\t0.112\n",
      "4000\t0.215\t\t0.138\t0.168\n",
      "6000\t0.200\t\t0.193\t0.196\n",
      "8000\t0.200\t\t0.257\t0.225\n",
      "10000\t0.196\t\t0.316\t0.242\n",
      "11250\t0.192\t\t0.347\t0.247\n",
      "15000\t0.182\t\t0.440\t0.258\n"
     ]
    }
   ],
   "source": [
    "print(\"Total number of samples: {}\\n\".format(len(Y)))\n",
    "print(\"{}\\t{}\\t{}\\t{}\".format('samples', 'precision', 'recall', 'f1_score'))\n",
    "print('-'*40)\n",
    "for samples, prec, rec, f_1 in zip(sample_sizes, precs, recs, f1):\n",
    "    print('{}\\t{:.3f}\\t\\t{:.3f}\\t{:.3f}'.format(samples, prec, rec, f_1))"
   ]
  },
  {
   "cell_type": "code",
   "execution_count": 14,
   "metadata": {},
   "outputs": [
    {
     "data": {
      "text/plain": [
       "0.21156544931980242"
      ]
     },
     "execution_count": 14,
     "metadata": {},
     "output_type": "execute_result"
    }
   ],
   "source": [
    "avg_prec = average_precision(pred_fs, Y)\n",
    "avg_prec"
   ]
  },
  {
   "cell_type": "code",
   "execution_count": 15,
   "metadata": {},
   "outputs": [
    {
     "data": {
      "image/png": "[encoded data removed]",
      "text/plain": [
       "<Figure size 648x288 with 3 Axes>"
      ]
     },
     "metadata": {
      "needs_background": "light"
     },
     "output_type": "display_data"
    }
   ],
   "source": [
    "plt.figure(figsize=(9, 4))\n",
    "\n",
    "plt.subplot(131)\n",
    "plt.plot(sample_sizes, precs)\n",
    "plt.xscale('log')\n",
    "plt.title(\"precision\")\n",
    "plt.xlabel('No. nodes')\n",
    "\n",
    "plt.subplot(132)\n",
    "plt.plot(sample_sizes, recs)\n",
    "plt.xscale('log')\n",
    "plt.title(\"recall\")\n",
    "plt.xlabel('No. nodes')\n",
    "\n",
    "plt.subplot(133)\n",
    "plt.plot(sample_sizes, f1)\n",
    "plt.xscale('log')\n",
    "plt.title(\"F1-score\")\n",
    "plt.xlabel('No. nodes')\n",
    "\n",
    "plt.tight_layout()"
   ]
  },
  {
   "cell_type": "code",
   "execution_count": null,
   "metadata": {},
   "outputs": [],
   "source": []
  }
 ],
 "metadata": {
  "kernelspec": {
   "display_name": "Python 3",
   "language": "python",
   "name": "python3"
  },
  "language_info": {
   "codemirror_mode": {
    "name": "ipython",
    "version": 3
   },
   "file_extension": ".py",
   "mimetype": "text/x-python",
   "name": "python",
   "nbconvert_exporter": "python",
   "pygments_lexer": "ipython3",
   "version": "3.7.9"
  }
 },
 "nbformat": 4,
 "nbformat_minor": 2
}
