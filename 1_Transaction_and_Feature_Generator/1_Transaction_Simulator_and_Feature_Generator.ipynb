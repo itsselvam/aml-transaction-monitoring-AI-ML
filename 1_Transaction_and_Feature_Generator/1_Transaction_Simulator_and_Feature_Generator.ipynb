{
 "cells": [
  {
   "cell_type": "markdown",
   "metadata": {},
   "source": [
    "# Simulation for Transactions, Anomalies and generated Features\n",
    "\n",
    "Paper: A. Elliott, M. Cucuringu, M. M. Luaces, P. Reidy, and G. Reinert, Anomaly detection in networks with application to financial transaction networks, 2019\n",
    "\n",
    "Based on the open source: https://github.com/zhangcheng1006/Anomaly-Detection-in-Networks"
   ]
  },
  {
   "cell_type": "code",
   "execution_count": 1,
   "metadata": {},
   "outputs": [],
   "source": [
    "import numpy as np\n",
    "import networkx as nx\n",
    "import pandas as pd\n",
    "import matplotlib.pyplot as plt\n",
    "import logging\n",
    "logging.basicConfig(format='%(asctime)s - %(levelname)s - %(message)s', level=logging.INFO)\n",
    "\n",
    "%matplotlib inline"
   ]
  },
  {
   "cell_type": "code",
   "execution_count": 2,
   "metadata": {},
   "outputs": [],
   "source": [
    "import json\n",
    "from numpyencoder import NumpyEncoder\n",
    "from networkx.readwrite import json_graph\n",
    "from datetime import datetime\n",
    "from sklearn.model_selection import train_test_split"
   ]
  },
  {
   "cell_type": "markdown",
   "metadata": {},
   "source": [
    "## Generating artificial networks and node features\n",
    "This section is a demonstration of how to generate artificial networks and node features. Please to put all python scripts implementing the tool functions under the same directory of this notebook."
   ]
  },
  {
   "cell_type": "code",
   "execution_count": 3,
   "metadata": {},
   "outputs": [],
   "source": [
    "from rpy2.robjects.packages import importr\n",
    "devtools = importr('devtools')\n",
    "# devtools.install_github(\"dynverse/netdist\", dependencies = True)\n",
    "# devtools.install_github(\"alan-turing-institute/network-comparison\")"
   ]
  },
  {
   "cell_type": "markdown",
   "metadata": {},
   "source": [
    "ssss"
   ]
  },
  {
   "cell_type": "code",
   "execution_count": 10,
   "metadata": {},
   "outputs": [],
   "source": [
    "from utils import generate_null_models, get_parameters\n",
    "from generator import ER_generator, draw_anomalies\n",
    "from basic_test import basic_features\n",
    "from com_detection import community_detection\n",
    "from spectral_localisation import spectral_features\n",
    "from NetEMD import NetEMD_features\n",
    "from path_finder import path_features"
   ]
  },
  {
   "cell_type": "markdown",
   "metadata": {},
   "source": [
    "Set meta-parameters for network generation"
   ]
  },
  {
   "cell_type": "code",
   "execution_count": 5,
   "metadata": {},
   "outputs": [],
   "source": [
    "num_models = 20     # original = 20\n",
    "num_nodes = 1000    # original = 1000\n",
    "num_basic_mc_samples = 500  # original = 500\n",
    "num_references = 10     # original = 10\n",
    "num_null_models = 60    # original = 60"
   ]
  },
  {
   "cell_type": "markdown",
   "metadata": {},
   "source": [
    "Set 2 important parameters ```(p, w)```. ```p``` determines the edge density of the network, ```1-w``` is the under boundary of weight of the added anomaly edges.\n",
    "Here all chosen ```(p, w)``` must satisfy the detectability constraints (see equations (11)-(15) in the paper)."
   ]
  },
  {
   "cell_type": "code",
   "execution_count": 6,
   "metadata": {},
   "outputs": [],
   "source": [
    "ps = np.linspace(0.001, 0.05, 50)\n",
    "ws = np.linspace(0.0, 0.01, 11)\n",
    "candidate_parameters = get_parameters(num_nodes, ps, ws)\n",
    "num_cand_param = len(candidate_parameters)"
   ]
  },
  {
   "cell_type": "code",
   "execution_count": 7,
   "metadata": {},
   "outputs": [],
   "source": [
    "AML_TYPE_DICT = {None: 0, 'path': 1, 'star': 2, 'ring': 3, 'clique': 4, 'tree': 5}"
   ]
  },
  {
   "cell_type": "markdown",
   "metadata": {},
   "source": [
    "Generate ```num_models``` models with randomly chosen parameters ```(p, w)```."
   ]
  },
  {
   "cell_type": "code",
   "execution_count": 11,
   "metadata": {},
   "outputs": [],
   "source": [
    "def generate_feature_graph(model_id, p, w):\n",
    "    # p, w = candidate_parameters[np.random.choice(range(num_cand_param))]\n",
    "    logging.info(\"Computing {}-th/{} model (p={:.3f}, w={:.3f})\".format(model_id, num_models, p, w))\n",
    "    graph = ER_generator(n=num_nodes, p=p, seed=None)\n",
    "    graph = draw_anomalies(graph, w=1 - w)\n",
    "    graph = calculate_graph_features(graph)\n",
    "    return graph\n",
    "\n",
    "\n",
    "def calculate_graph_features(graph):\n",
    "    logging.info(\"\\n\\nGenerating null models 1\\n\\n\")\n",
    "    _, references = generate_null_models(graph, num_models=num_references, min_size=10)     # min_size=20 original\n",
    "    logging.info(\"\\n\\nGenerating null models 2\\n\\n\")\n",
    "    null_samples_whole, null_samples = generate_null_models(graph, num_models=num_null_models, min_size=20)\n",
    "    logging.info(\"\\n\\nGenerating NetEMD features\\n\\n\")\n",
    "    graph = NetEMD_features(graph, references, null_samples, num_references=num_references, num_samples=num_null_models)\n",
    "    logging.info(\"\\n\\nGenerating basic features\\n\\n\")\n",
    "    graph = basic_features(graph, num_samples=num_basic_mc_samples)\n",
    "    logging.info(\"\\n\\nGenerating community features\\n\\n\")\n",
    "    graph = community_detection(graph, null_samples, num_samples=20)\n",
    "    logging.info(\"\\n\\nGenerating spectral features\\n\\n\")\n",
    "    graph = spectral_features(graph, null_samples, num_samples=num_null_models)\n",
    "    logging.info(\"\\n\\nGenerating path features\\n\\n\")\n",
    "    graph = path_features(graph, null_samples_whole, num_samples=num_null_models)\n",
    "    return graph\n",
    "\n",
    "\n",
    "def write_json_graph(graph, model_id, p, w):\n",
    "    data = json_graph.node_link_data(graph)\n",
    "    with open('./data/Network_p_{:.3f}_w_{:.3f}_{}.json'.format(p, w, model_id), 'w') as outfile:\n",
    "        json.dump(data, outfile, cls=NumpyEncoder)\n",
    "\n",
    "\n",
    "def write_csv_df(graph, model_id, p, w):\n",
    "    features = set()\n",
    "    for node in graph.nodes():\n",
    "        features |= set(graph.nodes[node].keys())\n",
    "    # features.remove('type')\n",
    "    logging.info(\"\\n\\nComposing DataFrame\\n\\n\")\n",
    "    X = pd.DataFrame.from_dict(dict(graph.nodes(data=True, default=0)), orient='index')\n",
    "    X.fillna(0, inplace=True)\n",
    "    X.replace([np.inf, -np.inf], 0, inplace=True)\n",
    "    logging.info(\"\\n\\nWriting to local file\\n\\n\")\n",
    "    X.to_csv('./data/Network_p_{:.3f}_w_{:.3f}_{}.csv'.format(p, w, model_id))\n",
    "\n",
    "\n",
    "def generate_multiple_graph_to_json_and_csv():\n",
    "    for model_id in range(num_models):\n",
    "        p, w = candidate_parameters[np.random.choice(range(num_cand_param))]\n",
    "        graph = generate_feature_graph(model_id, p, w)\n",
    "        write_json_graph(graph, model_id, p, w)\n",
    "        write_csv_df(graph, model_id, p, w)\n",
    "\n"
   ]
  },
  {
   "cell_type": "markdown",
   "metadata": {},
   "source": [
    "__Generating Feature Graph__:"
   ]
  },
  {
   "cell_type": "code",
   "execution_count": null,
   "metadata": {},
   "outputs": [],
   "source": [
    "start = datetime.now()\n",
    "print('starting...................................: ', start)\n",
    "\n",
    "generate_multiple_graph_to_json_and_csv()\n",
    "# generate_graph_dataset_json_for_fastgcn(4)\n",
    "\n",
    "end = datetime.now()\n",
    "print('starting...................................: ', start)\n",
    "print('finish.....................................: ', end)\n",
    "print('duration...................................: ', (end - start))"
   ]
  },
  {
   "cell_type": "markdown",
   "metadata": {},
   "source": [
    "__Discussion__:\n",
    "\n",
    "In the paper, the authors test the model trained on the training set generated a specific parameter on the testing set generated by the same parameter. However, in pratice, we can never know how the testing network is generated. To overcome this problem, we generate networks with random parameters and hide this information during the whole procedure, which means we know nothing about the parameter neither on the training set nor the testing set."
   ]
  },
  {
   "cell_type": "code",
   "execution_count": null,
   "metadata": {},
   "outputs": [],
   "source": []
  }
 ],
 "metadata": {
  "kernelspec": {
   "display_name": "Python 3",
   "language": "python",
   "name": "python3"
  },
  "language_info": {
   "codemirror_mode": {
    "name": "ipython",
    "version": 3
   },
   "file_extension": ".py",
   "mimetype": "text/x-python",
   "name": "python",
   "nbconvert_exporter": "python",
   "pygments_lexer": "ipython3",
   "version": "3.7.9"
  }
 },
 "nbformat": 4,
 "nbformat_minor": 2
}
